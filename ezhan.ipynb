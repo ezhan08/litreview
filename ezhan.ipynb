{
 "cells": [
  {
   "cell_type": "markdown",
   "metadata": {},
   "source": [
    "# Alzheimer's Prediction (Multi-Class) - SVM & Logistic Regression\n"
   ]
  },
  {
   "cell_type": "markdown",
   "metadata": {},
   "source": [
    "### Variable Descriptions\n",
    "* `directory.id`\tId assigned to imaging directories. Not from LONi data\n",
    "* `Subject (PTID)`\tParticipant ID\n",
    "* `RID`\tParticipant roster ID\n",
    "* `Image.Data.ID`\tMRI ID\n",
    "* `Modality`\tImage type\n",
    "* `Visit`\t1=screening scan\n",
    "* `Acq.Date`\tMRI date\n",
    "* `DX.bl`\tDiagnosis at baseline\n",
    "* `EXAMDATE`\tExamination Date\n",
    "* `AGE`\t    Age at baseline\n",
    "* `PTGENDER`\tSex\n",
    "* `PTEDUCAT`\tYears of Education\n",
    "* `PTETHCAT`\tEthnicity\n",
    "* `PTRACCAT`\tRace\n",
    "* `APOE4`\tAPOE4 genotype\n",
    "* `MMSE`\tMMSE score on cognitive test\n",
    "* `imputed_genotype`\tChallenge specific designation, TRUE=has imputed genotypes\n",
    "* `APOE Genotype`\tAPOE allele 1 and allele 2 genotypes\n",
    "* `Dx Codes for Submission`\tThe LMCI in the ADNI data is equivalent to MCI in test. This column just converts LMCI->MCI"
   ]
  },
  {
   "cell_type": "code",
   "execution_count": 1,
   "metadata": {},
   "outputs": [],
   "source": [
    "import numpy as np\n",
    "import sklearn as sk\n",
    "import pandas as pd\n",
    "import os"
   ]
  },
  {
   "cell_type": "code",
   "execution_count": 2,
   "metadata": {},
   "outputs": [],
   "source": [
    "#Read data\n",
    "dat = pd.read_csv('AD_Challenge_Training_Data_Clinical_Updated_7.22.2014/ADNI_Training_Q3_APOE_CollectionADNI1Complete 1Yr 1.5T_July22.2014.csv')\n",
    "\n",
    "#Check NA values, 1 NA for imputed_genotype\n",
    "# dat.isnull().sum()"
   ]
  },
  {
   "cell_type": "markdown",
   "metadata": {},
   "source": [
    "### Remove NA"
   ]
  },
  {
   "cell_type": "code",
   "execution_count": 3,
   "metadata": {},
   "outputs": [
    {
     "data": {
      "text/plain": [
       "0"
      ]
     },
     "execution_count": 3,
     "metadata": {},
     "output_type": "execute_result"
    }
   ],
   "source": [
    "dat = dat.dropna()\n",
    "dat.isnull().sum().sum()"
   ]
  },
  {
   "cell_type": "code",
   "execution_count": 4,
   "metadata": {},
   "outputs": [
    {
     "data": {
      "text/html": [
       "<div>\n",
       "<style scoped>\n",
       "    .dataframe tbody tr th:only-of-type {\n",
       "        vertical-align: middle;\n",
       "    }\n",
       "\n",
       "    .dataframe tbody tr th {\n",
       "        vertical-align: top;\n",
       "    }\n",
       "\n",
       "    .dataframe thead th {\n",
       "        text-align: right;\n",
       "    }\n",
       "</style>\n",
       "<table border=\"1\" class=\"dataframe\">\n",
       "  <thead>\n",
       "    <tr style=\"text-align: right;\">\n",
       "      <th></th>\n",
       "      <th>directory.id</th>\n",
       "      <th>Subject</th>\n",
       "      <th>RID</th>\n",
       "      <th>Image.Data.ID</th>\n",
       "      <th>Modality</th>\n",
       "      <th>Visit</th>\n",
       "      <th>Acq.Date</th>\n",
       "      <th>DX.bl</th>\n",
       "      <th>EXAMDATE</th>\n",
       "      <th>AGE</th>\n",
       "      <th>PTGENDER</th>\n",
       "      <th>PTEDUCAT</th>\n",
       "      <th>PTETHCAT</th>\n",
       "      <th>PTRACCAT</th>\n",
       "      <th>APOE4</th>\n",
       "      <th>MMSE</th>\n",
       "      <th>imputed_genotype</th>\n",
       "      <th>APOE Genotype</th>\n",
       "      <th>Dx Codes for Submission</th>\n",
       "    </tr>\n",
       "  </thead>\n",
       "  <tbody>\n",
       "    <tr>\n",
       "      <th>0</th>\n",
       "      <td>4702245ea294ce5d4e9b8a87027dfdf4</td>\n",
       "      <td>011_S_0003</td>\n",
       "      <td>3</td>\n",
       "      <td>32237</td>\n",
       "      <td>MRI</td>\n",
       "      <td>1</td>\n",
       "      <td>9/1/2005</td>\n",
       "      <td>AD</td>\n",
       "      <td>9/12/2005</td>\n",
       "      <td>81.3</td>\n",
       "      <td>Male</td>\n",
       "      <td>18</td>\n",
       "      <td>Not Hisp/Latino</td>\n",
       "      <td>White</td>\n",
       "      <td>1</td>\n",
       "      <td>20</td>\n",
       "      <td>True</td>\n",
       "      <td>3,4</td>\n",
       "      <td>AD</td>\n",
       "    </tr>\n",
       "    <tr>\n",
       "      <th>1</th>\n",
       "      <td>2e89e352af743597b2368c412e0f6de2</td>\n",
       "      <td>022_S_0004</td>\n",
       "      <td>4</td>\n",
       "      <td>64631</td>\n",
       "      <td>MRI</td>\n",
       "      <td>1</td>\n",
       "      <td>9/22/2005</td>\n",
       "      <td>LMCI</td>\n",
       "      <td>11/8/2005</td>\n",
       "      <td>67.5</td>\n",
       "      <td>Male</td>\n",
       "      <td>10</td>\n",
       "      <td>Hisp/Latino</td>\n",
       "      <td>White</td>\n",
       "      <td>0</td>\n",
       "      <td>27</td>\n",
       "      <td>False</td>\n",
       "      <td>3,3</td>\n",
       "      <td>MCI</td>\n",
       "    </tr>\n",
       "    <tr>\n",
       "      <th>2</th>\n",
       "      <td>90419199306997753de8042f1fd55e38</td>\n",
       "      <td>011_S_0005</td>\n",
       "      <td>5</td>\n",
       "      <td>32246</td>\n",
       "      <td>MRI</td>\n",
       "      <td>1</td>\n",
       "      <td>9/2/2005</td>\n",
       "      <td>CN</td>\n",
       "      <td>9/7/2005</td>\n",
       "      <td>73.7</td>\n",
       "      <td>Male</td>\n",
       "      <td>16</td>\n",
       "      <td>Not Hisp/Latino</td>\n",
       "      <td>White</td>\n",
       "      <td>0</td>\n",
       "      <td>29</td>\n",
       "      <td>True</td>\n",
       "      <td>3,3</td>\n",
       "      <td>CN</td>\n",
       "    </tr>\n",
       "  </tbody>\n",
       "</table>\n",
       "</div>"
      ],
      "text/plain": [
       "                       directory.id     Subject  RID  Image.Data.ID Modality  \\\n",
       "0  4702245ea294ce5d4e9b8a87027dfdf4  011_S_0003    3          32237      MRI   \n",
       "1  2e89e352af743597b2368c412e0f6de2  022_S_0004    4          64631      MRI   \n",
       "2  90419199306997753de8042f1fd55e38  011_S_0005    5          32246      MRI   \n",
       "\n",
       "   Visit   Acq.Date DX.bl   EXAMDATE   AGE PTGENDER  PTEDUCAT  \\\n",
       "0      1   9/1/2005    AD  9/12/2005  81.3     Male        18   \n",
       "1      1  9/22/2005  LMCI  11/8/2005  67.5     Male        10   \n",
       "2      1   9/2/2005    CN   9/7/2005  73.7     Male        16   \n",
       "\n",
       "          PTETHCAT PTRACCAT  APOE4  MMSE imputed_genotype APOE Genotype  \\\n",
       "0  Not Hisp/Latino    White      1    20             True           3,4   \n",
       "1      Hisp/Latino    White      0    27            False           3,3   \n",
       "2  Not Hisp/Latino    White      0    29             True           3,3   \n",
       "\n",
       "  Dx Codes for Submission  \n",
       "0                      AD  \n",
       "1                     MCI  \n",
       "2                      CN  "
      ]
     },
     "execution_count": 4,
     "metadata": {},
     "output_type": "execute_result"
    }
   ],
   "source": [
    "#Peek at data\n",
    "dat.head(3)"
   ]
  },
  {
   "cell_type": "markdown",
   "metadata": {},
   "source": [
    "### Remove ID's and other features"
   ]
  },
  {
   "cell_type": "code",
   "execution_count": 5,
   "metadata": {},
   "outputs": [
    {
     "name": "stdout",
     "output_type": "stream",
     "text": [
      "Removing columns: ['directory.id', 'Subject', 'RID', 'Image.Data.ID', 'Modality', 'Visit', 'Acq.Date', 'DX.bl', 'EXAMDATE', 'Dx Codes for Submission']\n"
     ]
    },
    {
     "data": {
      "text/html": [
       "<div>\n",
       "<style scoped>\n",
       "    .dataframe tbody tr th:only-of-type {\n",
       "        vertical-align: middle;\n",
       "    }\n",
       "\n",
       "    .dataframe tbody tr th {\n",
       "        vertical-align: top;\n",
       "    }\n",
       "\n",
       "    .dataframe thead th {\n",
       "        text-align: right;\n",
       "    }\n",
       "</style>\n",
       "<table border=\"1\" class=\"dataframe\">\n",
       "  <thead>\n",
       "    <tr style=\"text-align: right;\">\n",
       "      <th></th>\n",
       "      <th>AGE</th>\n",
       "      <th>PTGENDER</th>\n",
       "      <th>PTEDUCAT</th>\n",
       "      <th>PTETHCAT</th>\n",
       "      <th>PTRACCAT</th>\n",
       "      <th>APOE4</th>\n",
       "      <th>MMSE</th>\n",
       "      <th>imputed_genotype</th>\n",
       "      <th>APOE Genotype</th>\n",
       "    </tr>\n",
       "  </thead>\n",
       "  <tbody>\n",
       "    <tr>\n",
       "      <th>0</th>\n",
       "      <td>81.3</td>\n",
       "      <td>Male</td>\n",
       "      <td>18</td>\n",
       "      <td>Not Hisp/Latino</td>\n",
       "      <td>White</td>\n",
       "      <td>1</td>\n",
       "      <td>20</td>\n",
       "      <td>True</td>\n",
       "      <td>3,4</td>\n",
       "    </tr>\n",
       "    <tr>\n",
       "      <th>1</th>\n",
       "      <td>67.5</td>\n",
       "      <td>Male</td>\n",
       "      <td>10</td>\n",
       "      <td>Hisp/Latino</td>\n",
       "      <td>White</td>\n",
       "      <td>0</td>\n",
       "      <td>27</td>\n",
       "      <td>False</td>\n",
       "      <td>3,3</td>\n",
       "    </tr>\n",
       "    <tr>\n",
       "      <th>2</th>\n",
       "      <td>73.7</td>\n",
       "      <td>Male</td>\n",
       "      <td>16</td>\n",
       "      <td>Not Hisp/Latino</td>\n",
       "      <td>White</td>\n",
       "      <td>0</td>\n",
       "      <td>29</td>\n",
       "      <td>True</td>\n",
       "      <td>3,3</td>\n",
       "    </tr>\n",
       "    <tr>\n",
       "      <th>3</th>\n",
       "      <td>80.4</td>\n",
       "      <td>Female</td>\n",
       "      <td>13</td>\n",
       "      <td>Not Hisp/Latino</td>\n",
       "      <td>White</td>\n",
       "      <td>0</td>\n",
       "      <td>25</td>\n",
       "      <td>True</td>\n",
       "      <td>3,3</td>\n",
       "    </tr>\n",
       "    <tr>\n",
       "      <th>4</th>\n",
       "      <td>73.9</td>\n",
       "      <td>Female</td>\n",
       "      <td>12</td>\n",
       "      <td>Not Hisp/Latino</td>\n",
       "      <td>White</td>\n",
       "      <td>1</td>\n",
       "      <td>24</td>\n",
       "      <td>True</td>\n",
       "      <td>3,4</td>\n",
       "    </tr>\n",
       "  </tbody>\n",
       "</table>\n",
       "</div>"
      ],
      "text/plain": [
       "    AGE PTGENDER  PTEDUCAT         PTETHCAT PTRACCAT  APOE4  MMSE  \\\n",
       "0  81.3     Male        18  Not Hisp/Latino    White      1    20   \n",
       "1  67.5     Male        10      Hisp/Latino    White      0    27   \n",
       "2  73.7     Male        16  Not Hisp/Latino    White      0    29   \n",
       "3  80.4   Female        13  Not Hisp/Latino    White      0    25   \n",
       "4  73.9   Female        12  Not Hisp/Latino    White      1    24   \n",
       "\n",
       "  imputed_genotype APOE Genotype  \n",
       "0             True           3,4  \n",
       "1            False           3,3  \n",
       "2             True           3,3  \n",
       "3             True           3,3  \n",
       "4             True           3,4  "
      ]
     },
     "execution_count": 5,
     "metadata": {},
     "output_type": "execute_result"
    }
   ],
   "source": [
    "X = dat\n",
    "Y = dat['DX.bl']\n",
    "del dat\n",
    "\n",
    "#Remove unnecessary columns (features), remove first 9 columns and 'Dx codes for submission'\n",
    "remove_columns = list(X.columns)[0:9]\n",
    "remove_columns.append('Dx Codes for Submission')\n",
    "print('Removing columns:', remove_columns)\n",
    "\n",
    "X = X.drop(remove_columns, axis=1)\n",
    "\n",
    "features = list(X.columns)\n",
    "X.head(5)"
   ]
  },
  {
   "cell_type": "markdown",
   "metadata": {},
   "source": [
    "## Exploratory Data Analysis (EDA)"
   ]
  },
  {
   "cell_type": "code",
   "execution_count": 6,
   "metadata": {},
   "outputs": [
    {
     "name": "stdout",
     "output_type": "stream",
     "text": [
      "Categorical variable distributions:\n",
      "\n",
      "\n",
      "Distribution of imputed_genotype\n",
      "True     466\n",
      "False    161\n",
      "Name: imputed_genotype, dtype: int64\n",
      "\n",
      "Distribution of APOE Genotype\n",
      "3,3    275\n",
      "3,4    221\n",
      "4,4     71\n",
      "2,3     45\n",
      "2,4     13\n",
      "2,2      2\n",
      "Name: APOE Genotype, dtype: int64\n",
      "\n",
      "Distribution of PTGENDER\n",
      "Male      363\n",
      "Female    264\n",
      "Name: PTGENDER, dtype: int64\n",
      "\n",
      "Distribution of APOE4\n",
      "0    322\n",
      "1    234\n",
      "2     71\n",
      "Name: APOE4, dtype: int64\n",
      "\n",
      "Distribution of PTETHCAT\n",
      "Not Hisp/Latino    616\n",
      "Hisp/Latino          8\n",
      "Unknown              3\n",
      "Name: PTETHCAT, dtype: int64\n",
      "\n",
      "Distribution of PTRACCAT\n",
      "White    583\n",
      "Black     31\n",
      "Asian     13\n",
      "Name: PTRACCAT, dtype: int64\n"
     ]
    }
   ],
   "source": [
    "numerical_vars = ['AGE', 'MMSE', 'PTEDUCAT']\n",
    "cat_vars = list(set(features) - set(numerical_vars))\n",
    "\n",
    "print('Categorical variable distributions:\\n')\n",
    "\n",
    "for var in cat_vars:\n",
    "    print('\\nDistribution of', var)\n",
    "    \n",
    "    print(X[var].value_counts())"
   ]
  },
  {
   "cell_type": "markdown",
   "metadata": {},
   "source": [
    "#### Categorical Var Distribution Notes\n",
    "* Ethnicity and Race are separate vars\n",
    "* Distribution of Hispanic, Black, White, Asian not quite same as overall American ethnic/racial distribution\n",
    "* APOE Genotype with 3 in the first spot seems to be overwhelming majority `3,3` and `3,4`\n",
    "* More males in study than females"
   ]
  },
  {
   "cell_type": "markdown",
   "metadata": {},
   "source": [
    "## Logistic Regression and SVM"
   ]
  },
  {
   "cell_type": "code",
   "execution_count": 12,
   "metadata": {},
   "outputs": [],
   "source": [
    "from sklearn.linear_model import LogisticRegression\n",
    "from sklearn.ensemble import SupportVectorMachine\n",
    "\n",
    "from sklearn.model_selection import cross_val_score"
   ]
  },
  {
   "cell_type": "code",
   "execution_count": 13,
   "metadata": {},
   "outputs": [
    {
     "name": "stdout",
     "output_type": "stream",
     "text": [
      "Validation Accuracy =  69.05%\n"
     ]
    }
   ],
   "source": [
    "svm_clf = SupportVectorMachine(solver='lbfgs', penalty='l2', max_iter=1000000, multi_class='multinomial')\n",
    "print('Validation Accuracy = ', format(cross_val_score(log_clf, X_train, y_train, cv=5).mean(), '.2%'))"
   ]
  },
  {
   "cell_type": "markdown",
   "metadata": {},
   "source": [
    "![alternatvie text](https://github.com/grantgasser/Alzheimers-Prediction/blob/master/class_distribution_q3.JPG?raw=true)"
   ]
  },
  {
   "cell_type": "markdown",
   "metadata": {},
   "source": [
    "<img src=\"data:image/jpeg;base64,/9j/4AAQSkZJRgABAQEAYABgAAD/4RD4RXhpZgAATU0AKgAAAAgABAE7AAIAAAAPAAAISodpAAQAAAABAAAIWpydAAEAAAAeAAAQ0uocAAcAAAgMAAAAPgAAAAAc6gAAAAgAAAAAAAAAAAAAAAAAAAAAAAAAAAAAAAAAAAAAAAAAAAAAAAAAAAAAAAAAAAAAAAAAAAAAAAAAAAAAAAAAAAAAAAAAAAAAAAAAAAAAAAAAAAAAAAAAAAAAAAAAAAAAAAAAAAAAAAAAAAAAAAAAAAAAAAAAAAAAAAAAAAAAAAAAAAAAAAAAAAAAAAAAAAAAAAAAAAAAAAAAAAAAAAAAAAAAAAAAAAAAAAAAAAAAAAAAAAAAAAAAAAAAAAAAAAAAAAAAAAAAAAAAAAAAAAAAAAAAAAAAAAAAAAAAAAAAAAAAAAAAAAAAAAAAAAAAAAAAAAAAAAAAAAAAAAAAAAAAAAAAAAAAAAAAAAAAAAAAAAAAAAAAAAAAAAAAAAAAAAAAAAAAAAAAAAAAAAAAAAAAAAAAAAAAAAAAAAAAAAAAAAAAAAAAAAAAAAAAAAAAAAAAAAAAAAAAAAAAAAAAAAAAAAAAAAAAAAAAAAAAAAAAAAAAAAAAAAAAAAAAAAAAAAAAAAAAAAAAAAAAAAAAAAAAAAAAAAAAAAAAAAAAAAAAAAAAAAAAAAAAAAAAAAAAAAAAAAAAAAAAAAAAAAAAAAAAAAAAAAAAAAAAAAAAAAAAAAAAAAAAAAAAAAAAAAAAAAAAAAAAAAAAAAAAAAAAAAAAAAAAAAAAAAAAAAAAAAAAAAAAAAAAAAAAAAAAAAAAAAAAAAAAAAAAAAAAAAAAAAAAAAAAAAAAAAAAAAAAAAAAAAAAAAAAAAAAAAAAAAAAAAAAAAAAAAAAAAAAAAAAAAAAAAAAAAAAAAAAAAAAAAAAAAAAAAAAAAAAAAAAAAAAAAAAAAAAAAAAAAAAAAAAAAAAAAAAAAAAAAAAAAAAAAAAAAAAAAAAAAAAAAAAAAAAAAAAAAAAAAAAAAAAAAAAAAAAAAAAAAAAAAAAAAAAAAAAAAAAAAAAAAAAAAAAAAAAAAAAAAAAAAAAAAAAAAAAAAAAAAAAAAAAAAAAAAAAAAAAAAAAAAAAAAAAAAAAAAAAAAAAAAAAAAAAAAAAAAAAAAAAAAAAAAAAAAAAAAAAAAAAAAAAAAAAAAAAAAAAAAAAAAAAAAAAAAAAAAAAAAAAAAAAAAAAAAAAAAAAAAAAAAAAAAAAAAAAAAAAAAAAAAAAAAAAAAAAAAAAAAAAAAAAAAAAAAAAAAAAAAAAAAAAAAAAAAAAAAAAAAAAAAAAAAAAAAAAAAAAAAAAAAAAAAAAAAAAAAAAAAAAAAAAAAAAAAAAAAAAAAAAAAAAAAAAAAAAAAAAAAAAAAAAAAAAAAAAAAAAAAAAAAAAAAAAAAAAAAAAAAAAAAAAAAAAAAAAAAAAAAAAAAAAAAAAAAAAAAAAAAAAAAAAAAAAAAAAAAAAAAAAAAAAAAAAAAAAAAAAAAAAAAAAAAAAAAAAAAAAAAAAAAAAAAAAAAAAAAAAAAAAAAAAAAAAAAAAAAAAAAAAAAAAAAAAAAAAAAAAAAAAAAAAAAAAAAAAAAAAAAAAAAAAAAAAAAAAAAAAAAAAAAAAAAAAAAAAAAAAAAAAAAAAAAAAAAAAAAAAAAAAAAAAAAAAAAAAAAAAAAAAAAAAAAAAAAAAAAAAAAAAAAAAAAAAAAAAAAAAAAAAAAAAAAAAAAAAAAAAAAAAAAAAAAAAAAAAAAAAAAAAAAAAAAAAAAAAAAAAAAAAAAAAAAAAAAAAAAAAAAAAAAAAAAAAAAAAAAAAAAAAAAAAAAAAAAAAAAAAAAAAAAAAAAAAAAAAAAAAAAAAAAAAAAAAAAAAAAAAAAAAAAAAAAAAAAAAAAAAAAAAAAAAAAAAAAAAAAAAAAAAAAAAAAAAAAAAAAAAAAAAAAAAAAAAAAAAAAAAAAAAAAAAAAAAAAAAAAAAAAAAAAAAAAAAAAAAAAAAAAAAAAAAAAAAAAAAAAAAAAAAAAAAAAAAAAAAAAAAAAAAAAAAAAAAAAAAAAAAAAAAAAAAAAAAAAAAAAAAAAAAAAAAAAAAAAAAAAAAAAAAAAAAAAAAAAAAAAAAAAAAAAAAAAAAAAAAAAAAAAAAAAAAAAAAAAAAAAAAAAAAAAAAAAAAAAAAAAAAAAAAAAAAAAAAAAAAAAAAAAAAAAAAAAAAAAAAAAAAAAAAAAAAAAAAAAAAAAAAAAAAAAAAAAAAAAAAAAAAAAAAAAAAAAAAAAAAAAAAAAAAAAAAAAAAAAAAAAAAAAAAAAAAAAAAAAAAAAAAAAAAAAAAAAAAAAAAAAAAAAAAAAAAAAAAAAAAAAAAAAAAAAAAAAAAAAAAAAAAAAAAAAAAAAAAAAAAAAAAAAAAAAAAAAAAAAAAAAAAAAAAAAAAAAAAAAAAAAAAAAAAAAAAAAAAAAAAAAAAAAAAAAAAAAAAAAAAAAAAAAAAAAAAAAAAAAAAAAAAAAAAAAAAAAAAAAAAAAAAAAAAAAAAAAAAAAAAAAAAAAAAAAAAAAAAAAAAAAAAAAAAAAAAAAAAAAAAAAAAAAAAAAAAAAAAAAAAAAAAAAAAAAAAAAAAAAAAAAAAAAAAAAAAAAAAAAAAAAAAAAAAAAAAAAAAAAAAAAAAAAAAAAAAAAAAAAAAAAAAAAAAAAAAAAAAAAAAAAAAAAAAAAAAAAAAAAAAAAAAAAAAAAAAAAAAAAAAAAAAAAAAAAAAAAAAAAAAAAAAAAAAAAAAAAAAAAAAAAAAAAAAAAAAAAAAAAAAAAAAAAAAAAAAAAAAAAAAAAAAAAAAAAAAAAAAAAAAAAAAAE1vaGFtbWVkIEV6aGFuAAAABZADAAIAAAAUAAAQqJAEAAIAAAAUAAAQvJKRAAIAAAADMDUAAJKSAAIAAAADMDUAAOocAAcAAAgMAAAInAAAAAAc6gAAAAgAAAAAAAAAAAAAAAAAAAAAAAAAAAAAAAAAAAAAAAAAAAAAAAAAAAAAAAAAAAAAAAAAAAAAAAAAAAAAAAAAAAAAAAAAAAAAAAAAAAAAAAAAAAAAAAAAAAAAAAAAAAAAAAAAAAAAAAAAAAAAAAAAAAAAAAAAAAAAAAAAAAAAAAAAAAAAAAAAAAAAAAAAAAAAAAAAAAAAAAAAAAAAAAAAAAAAAAAAAAAAAAAAAAAAAAAAAAAAAAAAAAAAAAAAAAAAAAAAAAAAAAAAAAAAAAAAAAAAAAAAAAAAAAAAAAAAAAAAAAAAAAAAAAAAAAAAAAAAAAAAAAAAAAAAAAAAAAAAAAAAAAAAAAAAAAAAAAAAAAAAAAAAAAAAAAAAAAAAAAAAAAAAAAAAAAAAAAAAAAAAAAAAAAAAAAAAAAAAAAAAAAAAAAAAAAAAAAAAAAAAAAAAAAAAAAAAAAAAAAAAAAAAAAAAAAAAAAAAAAAAAAAAAAAAAAAAAAAAAAAAAAAAAAAAAAAAAAAAAAAAAAAAAAAAAAAAAAAAAAAAAAAAAAAAAAAAAAAAAAAAAAAAAAAAAAAAAAAAAAAAAAAAAAAAAAAAAAAAAAAAAAAAAAAAAAAAAAAAAAAAAAAAAAAAAAAAAAAAAAAAAAAAAAAAAAAAAAAAAAAAAAAAAAAAAAAAAAAAAAAAAAAAAAAAAAAAAAAAAAAAAAAAAAAAAAAAAAAAAAAAAAAAAAAAAAAAAAAAAAAAAAAAAAAAAAAAAAAAAAAAAAAAAAAAAAAAAAAAAAAAAAAAAAAAAAAAAAAAAAAAAAAAAAAAAAAAAAAAAAAAAAAAAAAAAAAAAAAAAAAAAAAAAAAAAAAAAAAAAAAAAAAAAAAAAAAAAAAAAAAAAAAAAAAAAAAAAAAAAAAAAAAAAAAAAAAAAAAAAAAAAAAAAAAAAAAAAAAAAAAAAAAAAAAAAAAAAAAAAAAAAAAAAAAAAAAAAAAAAAAAAAAAAAAAAAAAAAAAAAAAAAAAAAAAAAAAAAAAAAAAAAAAAAAAAAAAAAAAAAAAAAAAAAAAAAAAAAAAAAAAAAAAAAAAAAAAAAAAAAAAAAAAAAAAAAAAAAAAAAAAAAAAAAAAAAAAAAAAAAAAAAAAAAAAAAAAAAAAAAAAAAAAAAAAAAAAAAAAAAAAAAAAAAAAAAAAAAAAAAAAAAAAAAAAAAAAAAAAAAAAAAAAAAAAAAAAAAAAAAAAAAAAAAAAAAAAAAAAAAAAAAAAAAAAAAAAAAAAAAAAAAAAAAAAAAAAAAAAAAAAAAAAAAAAAAAAAAAAAAAAAAAAAAAAAAAAAAAAAAAAAAAAAAAAAAAAAAAAAAAAAAAAAAAAAAAAAAAAAAAAAAAAAAAAAAAAAAAAAAAAAAAAAAAAAAAAAAAAAAAAAAAAAAAAAAAAAAAAAAAAAAAAAAAAAAAAAAAAAAAAAAAAAAAAAAAAAAAAAAAAAAAAAAAAAAAAAAAAAAAAAAAAAAAAAAAAAAAAAAAAAAAAAAAAAAAAAAAAAAAAAAAAAAAAAAAAAAAAAAAAAAAAAAAAAAAAAAAAAAAAAAAAAAAAAAAAAAAAAAAAAAAAAAAAAAAAAAAAAAAAAAAAAAAAAAAAAAAAAAAAAAAAAAAAAAAAAAAAAAAAAAAAAAAAAAAAAAAAAAAAAAAAAAAAAAAAAAAAAAAAAAAAAAAAAAAAAAAAAAAAAAAAAAAAAAAAAAAAAAAAAAAAAAAAAAAAAAAAAAAAAAAAAAAAAAAAAAAAAAAAAAAAAAAAAAAAAAAAAAAAAAAAAAAAAAAAAAAAAAAAAAAAAAAAAAAAAAAAAAAAAAAAAAAAAAAAAAAAAAAAAAAAAAAAAAAAAAAAAAAAAAAAAAAAAAAAAAAAAAAAAAAAAAAAAAAAAAAAAAAAAAAAAAAAAAAAAAAAAAAAAAAAAAAAAAAAAAAAAAAAAAAAAAAAAAAAAAAAAAAAAAAAAAAAAAAAAAAAAAAAAAAAAAAAAAAAAAAAAAAAAAAAAAAAAAAAAAAAAAAAAAAAAAAAAAAAAAAAAAAAAAAAAAAAAAAAAAAAAAAAAAAAAAAAAAAAAAAAAAAAAAAAAAAAAAAAAAAAAAAAAAAAAAAAAAAAAAAAAAAAAAAAAAAAAAAAAAAAAAAAAAAAAAAAAAAAAAAAAAAAAAAAAAAAAAAAAAAAAAAAAAAAAAAAAAAAAAAAAAAAAAAAAAAAAAAAAAAAAAAAAAAAAAAAAAAAAAAAAAAAAAAAAAAAAAAAAAAAAAAAAAAAAAAAAAAAAAAAAAAAAAAAAAAAAAAAAAAAAAAAAAAAAAAAAAAAAAAAAAAAAAAAAAAAAAAAAAAAAAAAAAAAAAAAAAAAAAAAAAAAAAAAAAAAAAAAAAAAAAAAAAAAAAAAAAAAAAAAAAAAAAAAAAAAAAAAAAAAAAAAAAAAAAAAAAAAAAAAAAAAAAAAAAAAAAAAAAAAAAAAAAAAAAAAAAAAAAAAAAAAAAAAAAAAAAAAAAAAAAAAAAAAAAAAAAAAAAAAAAAAAAAAAAAAAAAAAAAAAAAAAAAAAAAAAAAAAAAAAAAAAAAAAAAAAAAAAAAAAAAAAAAAAAAAAAAAAAAAAAAAAAAAAAAAAAAAAAAAAAAAAAAAAAAAAAAAAAAAAAAAAAAAAAAAAAAAAAAAAAAAAAAAAAAAAAAAAAAAAAAAAAAAAAAAAAAAAAAAAAAAAAAAAAAAAAAAAAAAAAAAAAAAAAAAAAAAAAAAADIwMjM6MDE6MDggMjA6NDI6NTIAMjAyMzowMTowOCAyMDo0Mjo1MgAAAE0AbwBoAGEAbQBtAGUAZAAgAEUAegBoAGEAbgAAAP/hCyFodHRwOi8vbnMuYWRvYmUuY29tL3hhcC8xLjAvADw/eHBhY2tldCBiZWdpbj0n77u/JyBpZD0nVzVNME1wQ2VoaUh6cmVTek5UY3prYzlkJz8+DQo8eDp4bXBtZXRhIHhtbG5zOng9ImFkb2JlOm5zOm1ldGEvIj48cmRmOlJERiB4bWxuczpyZGY9Imh0dHA6Ly93d3cudzMub3JnLzE5OTkvMDIvMjItcmRmLXN5bnRheC1ucyMiPjxyZGY6RGVzY3JpcHRpb24gcmRmOmFib3V0PSJ1dWlkOmZhZjViZGQ1LWJhM2QtMTFkYS1hZDMxLWQzM2Q3NTE4MmYxYiIgeG1sbnM6ZGM9Imh0dHA6Ly9wdXJsLm9yZy9kYy9lbGVtZW50cy8xLjEvIi8+PHJkZjpEZXNjcmlwdGlvbiByZGY6YWJvdXQ9InV1aWQ6ZmFmNWJkZDUtYmEzZC0xMWRhLWFkMzEtZDMzZDc1MTgyZjFiIiB4bWxuczp4bXA9Imh0dHA6Ly9ucy5hZG9iZS5jb20veGFwLzEuMC8iPjx4bXA6Q3JlYXRlRGF0ZT4yMDIzLTAxLTA4VDIwOjQyOjUyLjA1MDwveG1wOkNyZWF0ZURhdGU+PC9yZGY6RGVzY3JpcHRpb24+PHJkZjpEZXNjcmlwdGlvbiByZGY6YWJvdXQ9InV1aWQ6ZmFmNWJkZDUtYmEzZC0xMWRhLWFkMzEtZDMzZDc1MTgyZjFiIiB4bWxuczpkYz0iaHR0cDovL3B1cmwub3JnL2RjL2VsZW1lbnRzLzEuMS8iPjxkYzpjcmVhdG9yPjxyZGY6U2VxIHhtbG5zOnJkZj0iaHR0cDovL3d3dy53My5vcmcvMTk5OS8wMi8yMi1yZGYtc3ludGF4LW5zIyI+PHJkZjpsaT5Nb2hhbW1lZCBFemhhbjwvcmRmOmxpPjwvcmRmOlNlcT4NCgkJCTwvZGM6Y3JlYXRvcj48L3JkZjpEZXNjcmlwdGlvbj48L3JkZjpSREY+PC94OnhtcG1ldGE+DQogICAgICAgICAgICAgICAgICAgICAgICAgICAgICAgICAgICAgICAgICAgICAgICAgICAgICAgICAgICAgICAgICAgICAgICAgICAgICAgICAgICAgICAgICAgICAgICAgICAgCiAgICAgICAgICAgICAgICAgICAgICAgICAgICAgICAgICAgICAgICAgICAgICAgICAgICAgICAgICAgICAgICAgICAgICAgICAgICAgICAgICAgICAgICAgICAgICAgICAgICAKICAgICAgICAgICAgICAgICAgICAgICAgICAgICAgICAgICAgICAgICAgICAgICAgICAgICAgICAgICAgICAgICAgICAgICAgICAgICAgICAgICAgICAgICAgICAgICAgICAgIAogICAgICAgICAgICAgICAgICAgICAgICAgICAgICAgICAgICAgICAgICAgICAgICAgICAgICAgICAgICAgICAgICAgICAgICAgICAgICAgICAgICAgICAgICAgICAgICAgICAgCiAgICAgICAgICAgICAgICAgICAgICAgICAgICAgICAgICAgICAgICAgICAgICAgICAgICAgICAgICAgICAgICAgICAgICAgICAgICAgICAgICAgICAgICAgICAgICAgICAgICAKICAgICAgICAgICAgICAgICAgICAgICAgICAgICAgICAgICAgICAgICAgICAgICAgICAgICAgICAgICAgICAgICAgICAgICAgICAgICAgICAgICAgICAgICAgICAgICAgICAgIAogICAgICAgICAgICAgICAgICAgICAgICAgICAgICAgICAgICAgICAgICAgICAgICAgICAgICAgICAgICAgICAgICAgICAgICAgICAgICAgICAgICAgICAgICAgICAgICAgICAgCiAgICAgICAgICAgICAgICAgICAgICAgICAgICAgICAgICAgICAgICAgICAgICAgICAgICAgICAgICAgICAgICAgICAgICAgICAgICAgICAgICAgICAgICAgICAgICAgICAgICAKICAgICAgICAgICAgICAgICAgICAgICAgICAgICAgICAgICAgICAgICAgICAgICAgICAgICAgICAgICAgICAgICAgICAgICAgICAgICAgICAgICAgICAgICAgICAgICAgICAgIAogICAgICAgICAgICAgICAgICAgICAgICAgICAgICAgICAgICAgICAgICAgICAgICAgICAgICAgICAgICAgICAgICAgICAgICAgICAgICAgICAgICAgICAgICAgICAgICAgICAgCiAgICAgICAgICAgICAgICAgICAgICAgICAgICAgICAgICAgICAgICAgICAgICAgICAgICAgICAgICAgICAgICAgICAgICAgICAgICAgICAgICAgICAgICAgICAgICAgICAgICAKICAgICAgICAgICAgICAgICAgICAgICAgICAgICAgICAgICAgICAgICAgICAgICAgICAgICAgICAgICAgICAgICAgICAgICAgICAgICAgICAgICAgICAgICAgICAgICAgICAgIAogICAgICAgICAgICAgICAgICAgICAgICAgICAgICAgICAgICAgICAgICAgICAgICAgICAgICAgICAgICAgICAgICAgICAgICAgICAgICAgICAgICAgICAgICAgICAgICAgICAgCiAgICAgICAgICAgICAgICAgICAgICAgICAgICAgICAgICAgICAgICAgICAgICAgICAgICAgICAgICAgICAgICAgICAgICAgICAgICAgICAgICAgICAgICAgICAgICAgICAgICAKICAgICAgICAgICAgICAgICAgICAgICAgICAgICAgICAgICAgICAgICAgICAgICAgICAgICAgICAgICAgICAgICAgICAgICAgICAgICAgICAgICAgICAgICAgICAgICAgICAgIAogICAgICAgICAgICAgICAgICAgICAgICAgICAgICAgICAgICAgICAgICAgICAgICAgICAgICAgICAgICAgICAgICAgICAgICAgICAgICAgICAgICAgICAgICAgICAgICAgICAgCiAgICAgICAgICAgICAgICAgICAgICAgICAgICAgICAgICAgICAgICAgICAgICAgICAgICAgICAgICAgICAgICAgICAgICAgICAgICAgICAgICAgICAgICAgICAgICAgICAgICAKICAgICAgICAgICAgICAgICAgICAgICAgICAgICAgICAgICAgICAgICAgICAgICAgICAgICAgICAgICAgICAgICAgICAgICAgICAgICAgICAgICAgICAgICAgICAgICAgICAgIAogICAgICAgICAgICAgICAgICAgICAgICAgICAgICAgICAgICAgICAgICAgICAgICAgICAgICAgICAgICAgICAgICAgICAgICAgICAgICAgICAgICAgICAgICAgICAgICAgICAgCiAgICAgICAgICAgICAgICAgICAgICAgICAgICAgICAgICAgICAgICAgICAgICAgICAgICAgICAgICAgICAgICAgICAgICAgICAgICAgICAgICAgICAgICAgICAgICAgICAgICAKICAgICAgICAgICAgICAgICAgICAgICAgICAgIDw/eHBhY2tldCBlbmQ9J3cnPz7/2wBDAAcFBQYFBAcGBQYIBwcIChELCgkJChUPEAwRGBUaGRgVGBcbHichGx0lHRcYIi4iJSgpKywrGiAvMy8qMicqKyr/2wBDAQcICAoJChQLCxQqHBgcKioqKioqKioqKioqKioqKioqKioqKioqKioqKioqKioqKioqKioqKioqKioqKioqKir/wAARCAG6AacDASIAAhEBAxEB/8QAHwAAAQUBAQEBAQEAAAAAAAAAAAECAwQFBgcICQoL/8QAtRAAAgEDAwIEAwUFBAQAAAF9AQIDAAQRBRIhMUEGE1FhByJxFDKBkaEII0KxwRVS0fAkM2JyggkKFhcYGRolJicoKSo0NTY3ODk6Q0RFRkdISUpTVFVWV1hZWmNkZWZnaGlqc3R1dnd4eXqDhIWGh4iJipKTlJWWl5iZmqKjpKWmp6ipqrKztLW2t7i5usLDxMXGx8jJytLT1NXW19jZ2uHi4+Tl5ufo6erx8vP09fb3+Pn6/8QAHwEAAwEBAQEBAQEBAQAAAAAAAAECAwQFBgcICQoL/8QAtREAAgECBAQDBAcFBAQAAQJ3AAECAxEEBSExBhJBUQdhcRMiMoEIFEKRobHBCSMzUvAVYnLRChYkNOEl8RcYGRomJygpKjU2Nzg5OkNERUZHSElKU1RVVldYWVpjZGVmZ2hpanN0dXZ3eHl6goOEhYaHiImKkpOUlZaXmJmaoqOkpaanqKmqsrO0tba3uLm6wsPExcbHyMnK0tPU1dbX2Nna4uPk5ebn6Onq8vP09fb3+Pn6/9oADAMBAAIRAxEAPwD6RooooAKKKKACiiigAooooAKKKKACiiigAooooAKKKKACiiigAooooAKKKKACiiigAooooAKKKKACiiigAooooAKKKKACiiigAooooAKKKKACiiigAooooAKKKKACiiigAooooAKKKKACiiigAooooAKKKKACiiigAooooAKKKKACiiigAqnq2rWeh6a9/qUjx26MiExxPKxZ3CKAqAsSWYDAHerlc14+/wCRVT/sJ6d/6Ww1nVm6dOU10TY0ruwf8J9of9zV/wDwR3v/AMao/wCE+0P+5q//AII73/41UdFfn3+t9f8A59L72eh9Uj3JP+E+0P8Auav/AOCO9/8AjVH/AAn2h/3NX/8ABHe//Gqjoo/1vr/8+l97D6pHuSf8J9of9zV//BHe/wDxqj/hPtD/ALmr/wDgjvf/AI1UdFH+t9f/AJ9L72H1SPck/wCE+0P+5q//AII73/41R/wn2h/3NX/8Ed7/APGqjoo/1vr/APPpfew+qR7kn/CfaH/c1f8A8Ed7/wDGqP8AhPtD/uav/wCCO9/+NVHRR/rfX/59L72H1SPck/4T7Q/7mr/+CO9/+NUf8J9of9zV/wDwR3v/AMaqOij/AFvr/wDPpfew+qR7kn/CfaH/AHNX/wDBHe//ABqqeofFfwhpJjGqX15ZGXPl/adKu49+MZxuiGcZH5irFeN/Hz/XeHv926/9o16uT8Q1cwx1PCygkpX19E3+gnhIrqeof8Lu+H3/AEHm/wDAC5/+N0f8Lu+H3/Qeb/wAuf8A43XyjRX6H9Sj3H9Uj3Pq7/hd3w+/6Dzf+AFz/wDG6P8Ahd3w+/6Dzf8AgBc//G6+UaKPqUe4fVI9z6u/4Xd8Pv8AoPN/4AXP/wAbo/4Xd8Pv+g83/gBc/wDxuvlGij6lHuH1SPc+rv8Ahd3w+/6Dzf8AgBc//G6P+F3fD7/oPN/4AXP/AMbr5Roo+pR7h9Uj3Pq7/hd3w+/6Dzf+AFz/APG6P+F3fD7/AKDzf+AFz/8AG6+UaKPqUe4fVI9z6u/4Xd8Pv+g83/gBc/8Axuj/AIXd8Pv+g83/AIAXP/xuvlGij6lHuH1SPc+rv+F3fD7/AKDzf+AFz/8AG63vDHjfw94yN0PDl+bw2mzzswSR7N+7b99RnO1unpXxnXuf7NP+u8T/AO7af+16xrYZU4cyZlVw6px5kz3isfVPFej6PqK2F/cyLdNEJhDFbSytsyRu+RTxkEVsV53rb7PjMn/YAH/pQa8PMMVLCYaVaKu0c1OKlKzOgk8feHoYnllnvEjRSzO2m3ICgdST5fStjTdVtdWjeSz8/ahwfOtpIT+AdQT+FcT4nmz4R1getjP/AOizXoVcOS5pPMac5zilZ20Lq01BpI5DxIbjTvFWi36S6ittLeJBPIlyTCA6lFjMOcEFypL4LD1x0bpwudK8ZpFq8N28mpPcNbXC6rNNDgMWCNbsQkZCYwVB6HkZ56IaJYjUmvikrzM4fEk8jxqwGNyxltqnHcAGksdEsdOnaa2SUyHdhpriSXYGOSF3sdoJxwuBwPSvdWhi9TQooooAKKKKACiiigAooooAKKKKACiiigAooooAKKKKACiiigArmvH3/Iqp/wBhPTv/AEthrpa5rx9/yKqf9hPTv/S2GufE/wACfo/yKj8SI6KKK/DD3AooooAKKKKACiiigAooooAKKKKACvG/j5/rvD3+7df+0a9krxv4+f67w9/u3X/tGvpeFf8Akc0fn/6SyZbHkNFFFfvBQUUUUAFFFFABRRRQAUUUUAFFFFABXuf7NP8ArvE/+7af+168Mr3P9mn/AF3if/dtP/a9cuL/AIRzYr+Ge8V5n4mfZ8Y4z/1AR/6UGvTK8r8Yvs+MER/6gQ/9KGr5LN48+CnE8tS5XcXxFPnwvqo9bOb/ANANep145r0+fDmpDPW0l/8AQDXsdeXw3S9nSqLz/QHPnCiiivqRBRRRQAUUUUAFFFFABRRRQAUUUUAFFFFABRRRQAUUUUAFFFFABXNePv8AkVU/7Cenf+lsNdLXNePv+RVT/sJ6d/6Ww1z4n+BP0f5FR+JEdFFFfhh7gUUUUAFFFFABRRRQAUUUUAFFFFABXjfx8/13h7/duv8A2jXsleN/Hz/XeHv926/9o19Lwr/yOaPz/wDSWTLY8hooor94KCiiigAooooAKKKKACiiigAooooAK9z/AGaf9d4n/wB20/8Aa9eGV7n+zT/rvE/+7af+165cX/CObFfwz3ivI/Hj7Pi7D/2Al/8AR7V65XjnxGfb8XIP+wGv/o96+ax8ebDyR4eIly02zO1mbOg349baT/0E17pXz5q8gfRL5SThreQcHH8Jr3PSdGttGhkjtJLuRZDkm6u5ZyPoZGOPwrjymHJTl6mOEqc8WU7/AF67sPElhp7adG9teymJZhc/vQQhcv5W37gxgtuBB7dKg03xat/eWAe08q01Nplsp/N3GQx5+8uBt3BWYcngc4pdU0G51rV7d7y2soYbO6juILyKQm4YJzsIKAKCSQSGOQSMc1T0jwld2Nxo8NzJbtZaI872rIxMkm8MqhgRhdqsw4JycHivZXmdr8jrqKKKACiiigAooooAKKKKACiq2pRCfS7mNmkQNE3zRSNGw47MpBH4GvPrDVL5tJstA8R3tyNSje0mtryGd4TfW7SxgklSMsN21xk9Qe9C1dvT8Q2PSqK5WHxss0llKtkP7Pvr6XT7a48/5jKhYDcm3hWMbAHJPTjnijZfEYm3trzWNMSxsbmzubqOWO6MrAQHDhl2LjIOQQT9BQOzvb+ux3FFcFceJbrSvF13e6upt7GPRFuVtkuzIGcy7RkEBVY5C8ZHPWrz+N7nzbeCHSY5Z7jUPsKst3+5YmEyq6ybPmXAIOBwQetHT+u9hd/66XOvorjdN8eTXVxp/wBv0qO0trya5tTKt35hjmg37xt2DKYjbDZB9VFQyfEf/iXi8tNLW5ikW3khZbrgrNKIwGOwhXG5SV54PXinbWwHcUVwt14z1d7q1tILC1trqPW1067Q3JkRlMPmgo/lg8gjJK5HI561af4iWUbTzNBvsYluP30Mu9g0J2kMmPl3HO0k847Zpf1+Cf6g9Hb+t2v0OwrmvH3/ACKqf9hPTv8A0thqvo97qUvxI1O3v/3MI0y2ljt0umlRWZ5AWwVAU/KAcDt1qP4h6vpsOl2+lzahax6hPqGnyRWjTqJpF+2xfMqZyR8rcgdj6Vhif93n6P8AUqPx29P8yxRRRX4We4FFFFABRRRQAUVxqR38HiHVtMgmvke604vZm4ujIryAlWkByfL5dPlAA7gdhpeGJPJnv9Olt7mC5tXQyedqEt4rqw+VleQ5HQ5GBg/nXXUw3JByTvs+mz+ffTS+u9iObWx0FFFFchYUUUUAFeN/Hz/XeHv926/9o17JXjfx8/13h7/duv8A2jX0vCv/ACOaPz/9JZMtjyGiiiv3goKKKKACiiigAoqN8hlPOM881JSTvclO7sFFFFMoKKKKACvc/wBmn/XeJ/8AdtP/AGvXhle5/s0/67xP/u2n/teuXF/wjmxX8M94rxX4nvs+LNv/ANgRf/R717VXh/xWbb8V7b/sCL/6PevAxEeam0fN5hLlw0mYGoy50u7GesL/APoJr6Pr5kvnzp1zz/yyb+Rr6brHCQ5Is4smqc9OXqFFFFdp7gUUUUAFFFFABRRRQAUUUUAQ3cBurOWATSQeYhXzI8blz3G4EfmDWVP4T0+7sdKt75prqTSZo5rW5k2iRWTpkqoGCBgjHI9+a26KNv67AYEHg7T7a4R4pbgQQ3Ul5BallMcMzg5dflz1ZiASQCx46Ypx/D3SxaWVrPdXlxb2dvcW4ilaPEiT/fDYQH6YxXV0UDu73OU/4V9YTRyJqGpalf8AmWYst08kYZYw25cFUU7lIBDHngZzV1vCqzDTDeaxqV1Lp1z9pjllaLdI2woAwEYGMMegHqcmt6ii4v6/Q5i38CWEH2IG9vpUs7u4u1SQx4dp94cNhB8v7xsAY69aavgS2GhLo7avqj2cUkTwI8kRMCxuHRFPl8qCo5bLYGM11NFO4HNT+CLSa4ubgahfxzz6imoiVDFmKVUEY2goRtKjBBBpYvA9hHZahp73d9Lpl95m6weRfKiMhJcoQoYZJJwWIBPAFdJRS6W/r+tB31uYekeF00nVH1B9Tv7+5e2S1Z7tozlEZiv3EXkbjz371W8ff8iqn/YT07/0thrpa5rx9/yKqf8AYT07/wBLYawxX8Cfo/yHD4kR0UUV+FnuBRRRQAUhAZSD0IwaWigDNj0DT4rSW3VJisqeWzvcyNIF9A5bcoHbBGKtWljBYxslurDccu7uzu5xjJZiSeABye1WKKuVSclaTbFZBRRRUDCiiigArxv4+f67w9/u3X/tGvZK8b+Pn+u8Pf7t1/7Rr6XhX/kc0fn/AOksmWx5DRRRX7wUFFFFABRRRQA3aN2e/wBadRRRZLYVgooooGFFFFABXuf7NP8ArvE/+7af+168Mr3P9mn/AF3if/dtP/a9cuL/AIRzYr+Ge8V4X8XDj4rWv/YFT/0e9e6V4T8Xv+SrWv8A2BU/9HyV4sldWPlc3dsHM5G8c/YZ/wDrm38q+pK+V73P2C42gFvKbAJx2r6Y0ibV5oZDrlnZ2sgb5FtblpgR7lkXH60oR5Uebw626U/X9CVtW05dUXTGv7UX7JvW0My+aV9Qmc498VFBr+j3WqSaZbarYzX8WfMtI7lGlTHXKA5GPpXMazqvhy78X2GmNqWnwXNjfJcyxiZfPknKlERUHzEncCxxwAB3OJtHunTxNDBoWsrqumTPcvew4jP2OTeW4ZQCCWYrtfJ7joatan070OxooooAKKKKACiiigAorK1vV7zShALHRLzVnlLAratGvlgdyXZR+tZ1j4n1a71K2t5/CWpWUMshR7mae3ZI8AnkRyMeoA6d6FqB01FFFABRRRQAUUUUAFFFFABRRRQAVzXj7/kVU/7Cenf+lsNdLXNePv8AkVU/7Cenf+lsNc+J/gT9H+RUfiRHRRRX4Ye4FFFFABRRRQAUUUUAFFFFABRRRQAV438fP9d4e/3br/2jXsleN/Hz/XeHv926/wDaNfS8K/8AI5o/P/0lky2PIaKKK/eCgooooAKKKKACiiigAooooAKKKKACvc/2af8AXeJ/920/9r14ZXuf7NP+u8T/AO7af+165cX/AAjmxX8M94rwn4vf8lWtf+wIn/o+Svdq8J+L3/JWLX/sCJ/6PkryYq7PlM4/3KZx93/x5T/9c2/lX1NXy1dj/Qp/+ubfyr6lpzVjzOG/4VT1X5BRRRUH1IUUUUAFFFFABRRRQAjgGNgxwCOSDjFeZ+EobSTxFDb6frhbS7a5e5tIo9KktxcuUKt+/b5JR1Y7R8x+boK7bX9JutVhiW21q90pI9xkNmkbNKCOh3qwx9BXnvhq5lXxBotj5/ieTT45FEA1F7OOAr5TmM7Yx5hyF4HHTnkYoj8X9f16A/hPWaKKKACiiigAooooAKKKKACiiigArmvH3/Iqp/2E9O/9LYa6Wua8ff8AIqp/2E9O/wDS2GufE/wJ+j/IqPxIjooor8MPcCiiigAooooAKKKKACiiigAooooAK8b+Pn+u8Pf7t1/7Rr2SvG/j5/rvD3+7df8AtGvpeFf+RzR+f/pLJlseQ0UUV+8FBRRRQAUUUUAFFFFABRRRQAUUUUAFe5/s0/67xP8A7tp/7Xrwyvc/2af9d4n/AN20/wDa9cuL/hHNiv4Z7xXhPxd/5Kza/wDYET/0fJXu1eE/Fz/krVr/ANgNP/R8leXS1mj5TOP9ymcjeD/QZ/8Arm38q+pK+W70hdPuCxwBExJPbivpfTdY07WInk0q9gu0Q4ZoZAwU++K0rqzR5fDf8Kp6r8i7RXNavLq9n4l0trTUWljurkxyaf5KbBAEJaTdjeGBxzu28gYyc1naL4k1G5m8P3lzcGW316Sdfs/lqBbhVZ49pAz91CDuJyTxiudan1T0O2ooooAKKKKACiiigDK1u3124EA8P39nZYLec91atPkdgAHX371gaf4Q1m21+w1C8utBmW1d8/ZtH8iUK+4sFcyNjLHJ45555rs3GUYBtpx970rhtFtNfs9atrO41SyOnx3Tyib7dJPcXmYzmMowwozl/vHGMDiiO4PY7qiiigAooooAKKKKACiiigAooooAK5H4o38el/D+41CdXeK0vLKd1jALFVu4WIGSBnj1rrq4L43f8kd1r/etv/SmKk4KouSWz0Kj8SOI/wCF6eHP+gbq/wD36i/+OUf8L08Of9A3V/8Av1F/8crwiivP/wBS8q/vff8A8A9qz7nu/wDwvTw5/wBA3V/+/UX/AMco/wCF6eHP+gbq/wD36i/+OV4RRR/qXlX977/+AFn3Pd/+F6eHP+gbq/8A36i/+OUf8L08Of8AQN1f/v1F/wDHK8Ioo/1Lyr+99/8AwAs+57v/AML08Of9A3V/+/UX/wAco/4Xp4c/6Bur/wDfqL/45XhFFH+peVf3vv8A+AFn3Pd/+F6eHP8AoG6v/wB+ov8A45R/wvTw5/0DdX/79Rf/AByvCKKP9S8q/vff/wAALPue7/8AC9PDn/QN1f8A79Rf/HKP+F6eHP8AoG6v/wB+ov8A45XhFFH+peVf3vv/AOAFn3Pd/wDhenhz/oG6v/36i/8Ajlcl4x1tvixqem2nhHS7yS4sIZ5ZUuWiiyrGIZB8zB5H6j3rzWvRvgd/yPt1/wBgyT/0bFXPisiweSUZZjhU/aU1dXd1rpqtOjJknbcx/wDhVfjb/oBN/wCBcH/xyj/hVfjb/oBN/wCBcH/xyvpSivlv9eMz/lh9z/8AkirPufNf/Cq/G3/QCb/wLg/+OUf8Kr8bf9AJv/AuD/45X0pRR/rxmf8ALD7n/wDJBZ9z5r/4VX42/wCgE3/gXB/8co/4VX42/wCgE3/gXB/8cr6Uoo/14zP+WH3P/wCSCz7nzX/wqvxt/wBAJv8AwLg/+OUf8Kr8bf8AQCb/AMC4P/jlfSlFH+vGZ/yw+5//ACQWfc+a/wDhVfjb/oBN/wCBcH/xyj/hVfjb/oBN/wCBcH/xyvpSij/XjM/5Yfc//kgs+581/wDCq/G3/QCb/wAC4P8A45R/wqvxt/0Am/8AAuD/AOOV9KUUf68Zn/LD7n/8kFn3Pmv/AIVX42/6ATf+BcH/AMcr1b4CeH9U8Oan4ltNbtDaXDw2cqoZEfKk3ABypI6qfyrvqh8N/wDI+65/2DLD/wBG3deplPE+NzLErD1oxUbN6J30+bObEr93udfXhPxdOPi1a/8AYET/ANHyV7tXgvxiOPixa/8AYET/ANHyV9pQ/iI+XzdXwUzlbxv9Bn/65t/KvqSvlS5bNpNz/wAs2/lX1XW2KVmjzOHFalU9V+RhS+GpZNdfUhr2qIJGQtap5Aj2qchN3leYFz1AfnJp9h4WsdOvYZ4ZJ3S2MrW0DspjtzIcvtwM889ScAkDFbVFcex9RuFFFFABRRRQAUUUUANl/wBS+QCNp4PSvNfCvhdpb7RdXtvDPhjSLWPE6XVlIZZ5VaNlC5MS9d2Scnp3611Xi2+u7H+y2sre/u/MuisltYNGHlXy3OMuQMZAJ5BrktC0q3sdf0kQeGPE9jtuCPPv9S82FfkfJMYmcZP+6Bk9qcfiG/hZ6fRRRSEFFFFABRRRQAUUUUAFFFFABXBfG7/kjutf71t/6UxV3tcF8bv+SO61/vW3/pTFVQ+JFR+JHyjRRRX0B7gUUUUAFFFFABRRRQAUUUUAFFFFABXo3wO/5H26/wCwZJ/6NirzmvRvgd/yPt1/2DJP/RsVeBxJ/wAiiv6fqiZbHvlFFFfgJQUUUUAFFFFABRRRQAUUUUAFFFFABUPhv/kfdc/7Blh/6Nu6mqHw3/yPuuf9gyw/9G3dfTcL/wDIxXozmxX8M6+vAvjMcfFe0/7Aif8Ao+Svfa+fvjW2Pitaf9gVP/R8lfruH/io+YzRXwkzjrhv9Gl/3D/KvrKvkaZ8wSf7p/lX1zW+NVpI83IFalP1Cis6TW7aPxJBojJN9pnt3uEbZ8hVCoPPrlxUen63JqN/NDFpF9HbRvJGL6RofKdkYqQAJC/UHqg6VwH0hq0UUUAFFFFABRRRQBWu9Ptb5oGuot7W8nmRNuIKNjGQR7Ej8as0UUAFFFFABRRRQAUUUUAFFFFABRRRQAVwXxu/5I7rX+9bf+lMVd7XBfG7/kjutf71t/6UxVUPiRUfiR8o0UUV9Ae4FFFFABRRRQAUUUUAFFFFABRRRQAV6N8Dv+R9uv8AsGSf+jYq85r0b4Hf8j7df9gyT/0bFXgcSf8AIor+n6omWx75RRRX4CUFFFFABRRRQAUUUUAFFFFABRRRQAVD4b/5H3XP+wZYf+jbupqh8N/8j7rn/YMsP/Rt3X03C/8AyMV6M5sV/DOvr57+N5x8VbP/ALAqf+j5K+hK+efjkcfFSz/7Aqf+j5K/XsL/ABUfN5ir4aSOFlYmFwpwdpwT9K+s9Nh1GGJxqt7BduT8rQ2xhCj0ILtmvkhz+7b6GvsSujH/ABRODJY8tOfqc5e2N9J8R9L1COykeygsLiCS4DoAru8RUYLbjwh6Cq1hoZfxVBq1to7aIYvOW7O+P/Ttx+UkIx3DOWy2GHTHJrrKK87ovL9T3nqFFFFABRRRQAUUUUAFFFFABRRRQAVUvtV0/TPK/tK/trPzm2RfaJlj3t6DJ5P0q3XL+M/+P7wv/wBhuP8A9FS0dUvND6P0f4I6Cy1Cy1KJpdOu4LuNWKM8EquAw6gkHrVivOvEuqy6D4w1nV9Kj3Lb6Oi3hA+TzjKBEW5Ayqlyf9nGeMVZu9S8RQ3emWramYYr3VhbpLsgebyGt2f5goKBgynBGeCM5oWqX9dbf8H0C2r/AK6XO8orzC08V67Yw6bf3moS6gj3WoWctt5ESiQW4mKONqg7z5QBwdvPCiprjxB4j/4RdNUi1FUjuvsDQybYWYNLMElAVQR5eGG0k7sg5NO2tvT8Rf19x6TRXmN5farcarb6ddaxdSCx8UR2qz7IleSNrbzAHCoFOGbA49M5PNTv4z1pdHv9fgCtaWv2yN7aYx4Ron2xlQvzkgKS4bHB47Uul/62T/UbVnb+t2v0PQUvLaS7ktY7iJriJQ0kKuC6A9CR1ANcR8bv+SO61/vW3/pTFVnQ0ZfifqTNfvfeZo1o4kcIODJL02KBjvznr1rK+OWqQRfDPVNOaO6M8wt3V1s5WhA+0J96ULsU/KeCwPT1GbitV/XUcfj+78kz5dooor3z3AooooAKKKKACio5Rlc4BI55p46VKd20TfWwtFFFUUFFFFABXo3wO/5H26/7Bkn/AKNirzmvRvgd/wAj7df9gyT/ANGxV4HEn/Ior+n6omWx75RRRX4CUFFFFABRRUVykclrJHPjy3Xa2W2gg9s0LVgS0VwNg0uiw6zpcNm1qrXuTJp0LyQwI0SsQiqvyNgAdMbm3e1bngCYT/D/AEVh5mRZxqxdGUkhRk8jke/Q121sI6UHUvdXX4q9yFO7t6/gdFRRRXEWFFFFABUPhv8A5H3XP+wZYf8Ao27qaofDf/I+65/2DLD/ANG3dfTcL/8AIxXozmxX8M6+vnj45/8AJVLP/sCp/wCj5K+h6+efjlz8VrP/ALAqf+j5K/X8L/GR4GLjzUZI4BvuN9K+xa+O3H7tvpX2JXRmHxROXLockJBRURuoFultjPGLhlLrEXG4qOpA645HNMh1GyuLuS1gvIJbiL/WQpKpdPqAcivNPULFFFFABRRRQAUUUUAFFFFABRRRQAVUvtJ07VPK/tOwtbzyW3x/aIVk2N6jIOD71booArxadZQWb2kFnbx2z53QpEoRs9cqBg5qtD4d0S3gt4YNHsIorVzJbxpaoFhY9WUAfKfcVo0UAZ8Xh/RoGhaHSLGNoJGliKWyAxu33mXjgnuR1pieGtCjtpLePRdOWCSUTPEtogV5ByHIxgt79a06KAM6Xw9o06TpNpFhIlxKJple2QiVx0ZuOWHqeaki0XS4Ly4u4NNs47m5XbPMkCh5R6MwGWH1q7RQBQ0/QtI0lt2laVZWR27c21ukfGc4+UDjJJrkfjd/yR3Wv962/wDSmKu9rgvjd/yR3Wv962/9KYqqPxIqPxI+UaKKK+gPcCiiigAooooAQqCckDPriloooEFFFFAwooooAK9G+B3/ACPt1/2DJP8A0bFXnNejfA7/AJH26/7Bkn/o2KvA4k/5FFf0/VEy2PfKKKK/ASgooooAKjuLeG7t3guoY54ZF2vHIoZWHoQeCKkooTad0BBHZWsNp9lhtoY7fG3yVjATHpt6UtraW9jbJb2VvFbwIMJFEgRVHsBwKmopuUno2KyCiiikMKKKKACofDf/ACPuuf8AYMsP/Rt3U1Q+G/8Akfdc/wCwZYf+jbuvpuF/+RivRnNiv4Z19fPPxx/5KtZ/9gVP/R8lfQ1fPHxyP/F1rP8A7Aqf+j5K/X8J/GR41VXg0cFKdsLnGcKTgV9aaTqw1aGSRbG+s9jY23luYi3uAeor5Lc/u2+hr7ErpzH4omdCPKmcfqEttH8X9HXzIVnfSrtSMgMT5kO0Hv2OPxrH8NiR7nwpaof+JhYS3h1Nf4kBDht/pukKMM9eor0iivNTskv63b/U6HqFFFFIAooooAKKKKACiiigAooooAKKKKACiiigAooooAKKKKACuC+N3/JHda/3rb/0pirva4L43f8AJHda/wB62/8ASmKqh8SKj8SPlGiiivoD3AooooAKKKKACiiigAooooAKKKKACvRvgd/yPt1/2DJP/RsVec16N8Dv+R9uv+wZJ/6NirwOJP8AkUV/T9UTLY98ooor8BKCiiigAooooAKKKKACiiigAooooAKh8N/8j7rn/YMsP/Rt3U1Q+G/+R91z/sGWH/o27r6bhf8A5GK9Gc2K/hnX187/AB0OPirZ/wDYFT/0fJX0RXzp8eDj4qWf/YFT/wBHy1+v4T+MjyrX0ODZsqfpX2PXxlu96+za6sx+OI3HlCiiivLEFFFFABRRRQAUUUUAFFFFABRRRQAUUUUAFFFFABRRRQAUUUUAFcF8bv8Akjutf71t/wClMVd7XBfG7/kjutf71t/6UxVUPiRUfiR8o0UUV9Ae4FFFFABRRRQAUUUUAFFFFABRRRQAV6N8Dv8Akfbr/sGSf+jYq85r0b4Hf8j7df8AYMk/9GxV4HEn/Ior+n6omWx75RRRX4CUFFFFABRRRQAUUUUAFFFFABRRRQAVD4b/AOR91z/sGWH/AKNu6mqHw3/yPuuf9gyw/wDRt3X03C//ACMV6M5sV/DOvr5w+PzbfilZf9gaP/0dLX0fXzZ+0GcfFGx/7A0f/o6Wv1/C6VkedSV5o88V8sPrX2tXxCvzOFPQnB5r7O0nQ7DQ4ZItNjkjSRtzCSd5cn6uxxXRmDvKJriFZowtT1K9sPFkb6hd6rZ6W88UEBgitmtXdgMCQsplG5m25GBx1FdbWXNoaXOoGe8vbq5g81Jks5NnlRuuNpGFDcEZwWIzzitSvNWxzPcKKKKACiiigAooooAKKKKACiiigAooooAKKKKACiiigAooooAK4n4wWN3qXwp1e0020nvLmQwbIbeJpHbE8ZOFUEnABP4V21FNOzuNOzufF/8AwhXiv/oVtc/8Fk3/AMTR/wAIV4r/AOhW1z/wWTf/ABNfaFFdn1yp2R1fW59kfF//AAhXiv8A6FbXP/BZN/8AE0f8IV4r/wChW1z/AMFk3/xNfaFFH1yp2QfW59kfF/8AwhXiv/oVtc/8Fk3/AMTR/wAIV4r/AOhW1z/wWTf/ABNfaFFH1yp2QfW59kfFcnhLxLDJCk3hvWI3nfy4lbT5gZG2ltqjbydqscDsCe1Sf8IV4r/6FbXP/BZN/wDE19galpf9oX+k3PneX/Zt21zt258zMEsW3OeP9bnPP3cd8jQo+uVOyD63Psj4v/4QrxX/ANCtrn/gsm/+Jo/4QrxX/wBCtrn/AILJv/ia+0KKPrlTsg+tz7I+L/8AhCvFf/Qra5/4LJv/AImj/hCvFf8A0K2uf+Cyb/4mvtCij65U7IPrc+yPi/8A4QrxX/0K2uf+Cyb/AOJrtfhVpOseG/F097rXh/XLa3exeJX/ALJuXy5kjIGFQnop/KvpuiuPHP67hp4appGWjtv+oPFTfRHAf8JFbf8AQP1z/wAEV7/8ao/4SK2/6B+uf+CK9/8AjVd/RXyH+qWB/nn96/8AkQ+tz7I4D/hIrb/oH65/4Ir3/wCNUf8ACRW3/QP1z/wRXv8A8arv6KP9UsD/ADz+9f8AyIfW59kcB/wkVt/0D9c/8EV7/wDGqP8AhIrb/oH65/4Ir3/41Xf0Uf6pYH+ef3r/AORD63PsjzxvFVgtylu1rrAnkRpEiOiXm5lUgMwHlZIBZQT23D1qT/hIrb/oH65/4Ir3/wCNV182l+d4kstW87H2W0uLbytv3vNeFt2c8Y8nGMc7u2OdCj/VLA/zz+9f/Ih9bn2RwH/CRW3/AED9c/8ABFe//GqP+Eitv+gfrn/givf/AI1Xf0Uf6pYH+ef3r/5EPrc+yOA/4SK2/wCgfrn/AIIr3/41R/wkVt/0D9c/8EV7/wDGq7+ij/VLA/zz+9f/ACIfW59kcB/wkVt/0D9c/wDBFe//ABqrng+V7zxdrV6lpfQW7WNnEj3dlLb73WS5LACRVJwHXOPUV2dFd2AyDC4Ct7alKTe2rX6JEVMRKpHlYV8+fHbw5rurfEazudI0XUb6BdKSNpbW0eRQ3mynaSoIzgg49xX0HRX0lObhJSRlCXJK58cReCvFgmTPhjWgNwznT5f/AImvseiirrVnVabRVWq6juwooorAyCiiigAooooAKKKKACiiigAooooAKKKKACiiigAooooAKKKKACiiigArN8R20F34Y1KG6hSaJrWTckihgflPY1pVBfWUOo2M1ndBzDMhRwkjRkg9RuUgj8DSkrqxUXaSZ53ERYyaX4X8TKl68VzBNpN5cIGNxCGGUJP/AC0TofVcH1rQTxxqEtjpmopFbfZNXkuIbePy23wMiyMjOd3zAiI5AC4z14rrW0WwkhsopYPNFjIJLZpXZ2jYAgHcSSTgkcmqy+FdGjkkaO0K7zIdqzOFQyffKLuwhPOSoB5Pqacm2n8/0IirNfL9Tk7Px/qdrpi3+txWc0U+hLq0SWsTxlGyoMbFmbIJcc4GOevWorvV7jw5411q/vmt55n0yxSMQQMq75J5I1yNzFuSORyQMYrrIvB2hRRxRrZFo4rE6esck8jr9nP8BVmII4HJ5461HH4G8PpbzwtZyzJPAttJ9ou5pS0aklVy7kjBJIxyO1U2r3Xn+v6WGr2s/L9P8mZc/iPxEt9ptiLe0t5L6+mtkuLi2kCuiwmRJBHvDDkbSpPOD0zWfb/EDU7WystS1mKyayuLW8eSO2idXR7bOSGLEFW2n5cZHHJrrE8K6SjWLeVcO9g7SW8kl5M7KzKVJLFyWO0kfNnioovBegwx20a2btHaiURJJcyuoEufMBBYhg2T1zUvbQFurmFd+K/ENvYRzC0tVE13ZQxTy20iIwnYI6hSwbKHnd0II4qs/iLXrrVtItJLu1hli12awuWgt2Edwq27yKdpckDpxuPIBz2rpo/Bmhx6fFZLb3Bt4Zo541e9mYoyHKYJfO1TyFztHpTn8H6K7Mxtpg5vft29buVWE+3aWDBsjK8EDgjjFVdX/ry/4ItbW/rr/wAA55fH97/Zr6wtgJdLkjk8p/KePy381Y4wztwwfdklR8uCOat+HYrmL4l+JReSQSSNZ2TZghMa/wDLbqCzZPHXPpWtF4O0KGG9hWxzBfBhNA80jRfMcttQttTJ5O0DJqfSvDemaLcSXFhFMJpY1ikkmupZmdVztBLsScZOPrSWg2alFFFIAooooACAQQRkHqDXlVtpWmw/CnXNRS3htbyyutRmtruKMLLDIk8mzawGewGO446V6oRuUg5wRjg4rGtPCOi2UYjht5jEJ2uPKlupZIzIW3lijMQTuOenB5oGna3qY9n4s1W9v1tbWxEr2sltBfR+Q+Q0kas7B8hVCb1ODknB9qo6d4s8S6hJpig6VENTnvLVM20jeS8DPhz+8G4EJjb8vPO7tXWP4b0uTWzqxgdbxgod455EWTb90ugYKxHYkEjtUFv4P0W0Nobe3mQ2csssH+lzHY8ud55bnO49fXim3cm1lZHN23jzU9Q0uzWwsopdUk097ySFYZHSRlkKBFwfk3FW+Zjgcdaevi/XRqkxlWwFnDrceltF5D+aVkRGDbvMwCpfkbTnHat1PBGgRx2aRWksf2IMIGS7mVgrHcyFg+WUnkqxI9qlPhDRWaRjbS5kvVv3xdS8zqAFf73YKOOnA4oVr6/1qv0uge1l/Wn+epy+ieKdTg0m3jvrlbq81DV7y1hk+yu/lLHJKTlVbLDCAADGM8k4ql4p13U9e+H/AIit7i2gsJ9OsUN5FLEXYyMu75PmG0YwQTnr7c9jL4K0KWCWFrWVUkujeDZdzIYpiSS8ZDgxkknOzGcmi88E6BfuzXVlIxeAW8oS5lQTRjoJArAPjJ5bJ5NBV/euv61/yNyL/Up/uinU2NBHGqJnaoAGSSfzPWnUPclKysFFFFIYUUUUAFFFFABRRRQAUUUUAFFFFABRRRQAUUUUAFFFFABRRRQAUUUUAFFFFABRRRQAUUUUAFFFFABRRRQAUUUUAFFFFAHO+Or690zwrJeabePaTxzwL5iIjZVpVRhh1I6MayIPGM+j6xqtnqX2vVraLUILS0ngij3mSSPcY2xtU7T3xxkZ9a6DxVoUviTQX02K6jtfMljdnkgMoIRw+Nu5epUDrUereHW1C20uK0nt7IWF5HdlUtcq5XPyhQw2g5PrQv1/DT/gje39fIT/AIS+xW5hhuILm38yVLeR5Am2CZo/MET4Y/Ntx0yORzWHqfjO7TW7SbT0uF02bSbq8QyxRssxj2FHUBg+MMSQSuQRWlH4MEPiDUbxLq3az1JzLPBJZhplcoEOybdwpAHG0nrgis5PAGoi2tYJtehlSy0+fTrYmwIYRSBVBc+Z8zKEHICg+lJ3t5/8B/rsONubXb/gm5F4mWS1tfs1jdahcSW0NxNHaqgMSyDhiHcejcAseD+NPRfGZ1DSvtN5p80U8t/PZ29vGyFpjG7jj5sZCxknJA4OM0lj4Sv9L1CC60/WUi3WcNpeI1puEwiBCumX/dtgkc7x7VTk+H05to44tUty9rqU1/Zmew8xF80uXjkXzBvHznBGwjAq5Wu7f1qRG/Kr7/8AA/zHa943SXwXqF/4c+0SXUWnG8DRpH/o/Dbd4c46o2QMn5T7Ve1/VL6z0vQbi1uWie5v7WGfCKRIkhAYHIOPwxVTU/A11efbxZ6vFapqlgLK+Q2W5WwGCvGA67CN5GDuBGO/NamreHp9S03S7VL2OFrC5guGcwFhJ5RzjG4Yzj1NLS/zX3X1/Acvhsuz/JW/ExfF3jZrPQ9Wi01byx1CGxmurSeWFNsoicK2FbJ4JH3lGQcjPWtWDxjZkXcV9a3dleWhiDWs4TfJ5rbYyhRmUhmyBzweuKwL74YXF+10ZNcj3XEF1bmVrLdKyTMrDe3mfMVKgA4A28YHWtTVfA39swXMt9fR/wBoy/Z/LuEtv3cfksXQGNmO4FmbILcg9sUK1l+P3/5A9/68v+CNs/E8upePLK0tJpY7R7S7W5tJUTMc8Mka9Rk9HPRiCCK6+ubs/C91B4h07VZ761JtLWa3eG3sfJR/MZCSvznaB5Y4O7qea6SjTlX9dWHVhRRRSAKKKKACiiigAooooAKKKKACiiigAooooAKKKKACiiigAooooAKKKKACiiigAooooAx77xd4b0u9ks9T8Q6VZ3UeN8FxexxuuQCMqWBGQQfxqv8A8J94P/6GzQ//AAZQ/wDxVfMHxy/5LPrv/bv/AOk8def0Dsfb/wDwn3g//obND/8ABlD/APFUf8J94P8A+hs0P/wZQ/8AxVfEFFAWPt//AIT7wf8A9DZof/gyh/8AiqP+E+8H/wDQ2aH/AODKH/4qviCigLH2/wD8J94P/wChs0P/AMGUP/xVH/CfeD/+hs0P/wAGUP8A8VXxBRQFj7f/AOE+8H/9DZof/gyh/wDiqP8AhPvB/wD0Nmh/+DKH/wCKr4gooCx9v/8ACfeD/wDobND/APBlD/8AFUf8J94P/wChs0P/AMGUP/xVfEFFAWPt/wD4T7wf/wBDZof/AIMof/iqP+E+8H/9DZof/gyh/wDiq+IKKAsfb/8Awn3g/wD6GzQ//BlD/wDFUf8ACfeD/wDobND/APBlD/8AFV8QUUBY+3/+E+8H/wDQ2aH/AODKH/4qj/hPvB//AENmh/8Agyh/+Kr4gooCx9v/APCfeD/+hs0P/wAGUP8A8VR/wn3g/wD6GzQ//BlD/wDFV8QUUBY+3/8AhPvB/wD0Nmh/+DKH/wCKo/4T7wf/ANDZof8A4Mof/iq+IKKAsfb/APwn3g//AKGzQ/8AwZQ//FUf8J94P/6GzQ//AAZQ/wDxVfEFFAWPt/8A4T7wf/0Nmh/+DKH/AOKo/wCE+8H/APQ2aH/4Mof/AIqviCigLH2//wAJ94P/AOhs0P8A8GUP/wAVR/wn3g//AKGzQ/8AwZQ//FV8QUUBY+3/APhPvB//AENmh/8Agyh/+Ko/4T7wf/0Nmh/+DKH/AOKr4gooCx9v/wDCfeD/APobND/8GUP/AMVR/wAJ94P/AOhs0P8A8GUP/wAVXxBRQFj7f/4T7wf/ANDZof8A4Mof/iqP+E+8H/8AQ2aH/wCDKH/4qviCigLH2/8A8J94P/6GzQ//AAZQ/wDxVH/CfeD/APobND/8GUP/AMVXxBRQFj7f/wCE+8H/APQ2aH/4Mof/AIqj/hPvB/8A0Nmh/wDgyh/+Kr4gooCx9v8A/CfeD/8AobND/wDBlD/8VR/wn3g//obND/8ABlD/APFV8QUUBY+57Hxd4b1S9js9M8Q6VeXUmdkFvexyO2AScKGJOACfwrYr5A+Bv/JZ9C/7eP8A0nkr6/oEFFFFABRRRQAUUUUAFFFFABRRRQAUUUUAfIHxy/5LPrv/AG7/APpPHXn9egfHL/ks+u/9u/8A6Tx15/QUFFejWreGrzwlq2vJ4YtM6fdWcMavNON6sCHLBZAuSVzwAOehqjr/AIAe21Znj1bRreG7VryKDz3DQWzKZFZgUzgKMYGWz2oen9eVxJ3OHoruZfhzLY6brJ1C7g+1WLWflSRTN5RScjDkGPcRg+xGDweKo+Ivh9qPhuxu7qe/0+7FldLaXSWryFoXZdy53IoIIHUE0PTf+tv8xrU5SiujsfBV/qGgTapbXVkxhtmuzaCVjMYlfYWwFKjnsWB9qkbwJfi9TT1vrB9S8wJPYiRxJbDYXZnJTbtUA7irHHTrRsFzmKK6lfAlzcaVNqOnaxpF9bQvDG7RTupVpXKqCHRSuCMktgY6Zq3c/DLULKHU5b7WNItk0y5+yztLNIMybN4C/u+cjpRt/Xp/mg8ji6K61/hzrBgtpLSexvWmuxZulvMWMMpj8zDEqFwFySVLAYNRQeB3vLO8uNN17SL77HbG6ljgaffsDbThTEOQcfgQadgOXorQ1zSH0HWJ9Nmure5lgO2R7csVVu6/MoOR0PFZ9LcAooooAKKKKACiiigAooooAKK3vBWjWPiHxhp+k6nLcRQXcoj3W4XcCenJ4A/A1J4e8NR6746j0PznigM0geQAFhGgZmx2zhT+NH9fcF9/I52iuj8Q6FY2vh/SNc0g3KWuomaMw3MiyPG8bAfeVVBBBB6cc9a5ygYUUUUCCiiigAooooAKKKKACiiigAooooAKKKKAPQPgb/yWfQv+3j/0nkr6/r5A+Bv/ACWfQv8At4/9J5K+v6BMKKKKBBRRRQAUUUUAFFFFABRRRQAUUUUAfIHxy/5LPrv/AG7/APpPHXn9egfHL/ks+u/9u/8A6Tx15/QUdHp3iWzsvBGpaBLp08sl/NHK1yt2FCFM7cJ5ZyOefm/KtdviHaHxRa6uNEk/0fTRp4Q3gLrhNqyxv5fyOOucGuFoo/r8LfkKy/r1uei6l8T7LU4L9JtBuQ99FaRyyf2kCf8ARzlTzF1PeqPiL4gW+u6frtuukS276vfRXhc3gcRFF27ceWMg5Pcdq4iih67/ANbf5Ia0d/67Hf6J8TIdH8Mx6SNGkbFpLbSPDe+WkhdtwkKeWcuMAZJ6ccUjfEixHiv/AISKDw2i31xlb8PeM0c6shRwi7Rs3ZzklsYGO+eBopvV3Ykkjs7Hxnoun2Wo6dbeHJl0++MLlP7RzKskTlwS5jII5xgKOB1zzUviT4g2viDTdWtho0tu+pagl+XN6HEbKmzbt8sZGCe4rh6KX9fl/kh7O56iPjKkQh+z+H2QQ3KTpE19mGMCIxNGiCMbUKlsDPBJPPSszwtr+maZ4iudc0a1h0i2sbKYta3V750l4zghYxkLuAJXgLwFJJNcDRR5/wBdgtpYknmkubiSedy8srF3Y9WJOSajoooGFFFFAgooooAKKKKACiiigDY8Ka5F4b8UWWsTWj3f2OQSLCswj3MOmTtbj8K0dJ8W2eia22r2WkM179sMyPNdlgIWUh4ioUA53H5uMelctRQFv6/r1N3XfEMWp6Xpul6fZNZWGn+YY45JvNdnkbczFgqjsABjoKwqKKBhRRRQIKKKKACiiigAooooAKKKKACiiigAooooA9A+Bv8AyWfQv+3j/wBJ5K+v6+QPgb/yWfQv+3j/ANJ5K+v6BMKKKKBBRRRQAUUUUAFFFFABRRRQAUUUUAfIHxy/5LPrv/bv/wCk8def16B8cv8Aks+u/wDbv/6Tx15/QUejWreGrzwjq+vJ4XtCdPubOGNHmnG9WBDlgsgXJK54AHPQ1Wm+GWrapqs7aWLOJZLkbrTe++yWRGlRXAXH3B0Usc8daxdO8TWlj4J1LQX06eSW+mjmNyLoKqNHnb8nlnI55+bn2rf1D4oR6nqcOoXOl3ouQoEvl6s6xq4jKiSFNuI2yQ3O4cdOTTdr/wBdl+pKul/XyM5/BFpb+DtX1abWrWW4sbmGGNYN5jfehbBymd3bBxgghsVQ0XwXfa7psl3Z3dkrrFNKltJKfNlWIAuQApA4IxuK57Vr618RYtesdatr3SGUanJBMkkVyFaOSJCoZ/3eHznJwFp3hX4jweG9Bj05tGeYjz1lkgvPJE6yrt+ddjbmX+E549KXf8Pu/wAyl0/Ey4vAuoSyQWovLFdTmWN101ncThXGQx+XZgL8xG7IHUUR+B57rT72903WdJvobGATzGGZ1IBfZjDopBzzk4GOc8itg/Eu0HiKz8QL4cX+14Y0inma8YxzIF2HCBRtYp8uckd8ZqjY+MNF01tTt7Lw5NFp2p2pt5ov7RJlB3hwRIY8ADAAGzp1Jof+YtdPl/wSVvhfqUM+pR3er6PajTVge4kmnkCATAFCGCHPXH19uapzfD7VU06O6tLiyv2a5itWgtJWd0klXcgJKhTkehOO+K0ta+ItnrFnrcI0SaBtWhtYy324MIvIGFIHlc5xyM1f/wCFurFYww2ehtA8EttPCv2zMMTwjGFj8sYVuSRnOTnNPT8v+CGvTt+Nv8zAt/AM15PcW9lr2j3F1bwzSyW8bzbx5Qy6geVyfTHBwcHisXW9Gk0K8jtZ7q3uJWhSVhBv/d71DBW3KPmwRkDNdboXiDSJPH0GuabZRaFHaNNe3X2m+80zDHMMYIUfNkgLgn5jzgYritSv5tV1S5v7o5muZWlfHQEnOB7VOul/6/r9CtNf6/r/AIJVooopiCiiigAooooAKKKKACiiigDofDehWmoaZrOq6oZzZ6Vbo7RW7hHld3CIu4qwA5JJwelbA8A28vxLsfD8N1L9hvoUuoZGx5piaLzNvTG/gr06847Vg+H/ABCuj2up2V3aNeWOpwCGeJJfLYFWDKyttYAgjuD1NaGp+L7LV9S+33OlXEFzHJELaW0vzG1vBGm1Y1OwjdwDvx17U9Lr+v66P0Frr/Xb/glu/wDDegaZpulaxex6tHa6hHMosPMTzxNHIEI8wpgLg5+4TwRWP400O18OeLbzTNPnkngh2FTLjeu5A21scbhnBx6VtzfEZNR8QW2oa1ptxeQ6fAYrCH7d88LnnzWkdH8x885IxkDjjFcvrd9Z6jqRuNPtJrVGUbxcXJuJJH/idnwuST6ACk/8yl/X9f1+RnUUUUCCiiigAooooAKKKKACiiigAooooAKKKKAPQPgb/wAln0L/ALeP/SeSvr+vkD4G/wDJZ9C/7eP/AEnkr6/oEwooooEFFFFABRRRQAUUUUAFFFFABRRRQB8gfHL/AJLPrv8A27/+k8def16B8cv+Sz67/wBu/wD6Tx15/QUFFem2WvC98Da3rn9kaULqyu7KK33afC5VcEEbimTnaOTzUl38KrjUdadp79bC5ubtfNt5LbaiGVGkCwsWHm4I2dF5PWm1Z/15f5iUrrU8uorvtY8HaNo/gW/vJJ75tSt9TS1DTWZhK5hLmNkL8cnlufujGQc1R0vwRaaj4StNWbWJIrq9u2sbazFnv8yYAFRv38A5HOOPQ0b7eX4/8ON6Wv8A1b/hjj6K9BvvhZJZB5Tqbi3tRcG9aW08uSNYcZdELZkVtwCnK59qg8O/D+w8U3bRaNrlzKpIRGOmEFG8suTLhyEXI2ggtk9qQHC0V7Fa6Zp8mh2Zl0vTy8vhK7uJGFnGCZUchZM7eGA7jmvHaHvb+t2v0Baxv/Wyf6hRRRQAUUUUAFFFFABRRRQAUUUUAFFFFABRXT+FdKsp9D8QazqNst4ul28ZitndlV5JJAgLFSGwBk4BHatxvCGin4raZpbnyNL1G3iu0haUjaXi3iLeTnlvlznOCOc07f1/XoK+j/rt/meeUV6fN4O0601vwaNY0NrB9WuJLW901Z5FClZQgcFizAENnGeccdaXwl4M0bV9a8QW0lrA8lnqaQW8d5NLHCITKysqurAmTAG0E84PBotf+u1v8wbt/Xr/AJHl9FewaV8OtJvpLaK30ma4trq6voLu6kkdZdMKFvJDKGCg4UE7gc5rjpdH0lvhlYaqlpIl62sNZzzrKzmRBHu4XoOvp260lr+H4uw3p+P4f8MchRXt938NfDi6haotnEsUt26W3lXEv70C33rDcb2/dyl8cDbxnpxWJF4L0qLxd4Pg1jRXtP7ZRkvNNE8i+U6yFdwJJfBHOM/jR1SE5JK55XRXp/gXwbo+uNqCz2sM00GqpAI7uaWNDAd25YmUjdNxkKSeB0q7pnw80q9sbVYNMlmtrmG9NzqMkjiTT5oy3lo6htowFGQynOTg0r6X+f4X/rzK62PI6K7SXRdGfwH4b1JbOaK4u9RktruSORpHkRdv3V6A/McAD867a++HHh+PWrGA2kCRz3lzHB9muZTHOqRbo4ZmdsxzF+CBjoenFU9P69P8yU0/69f8jxWivVIvBelReLvB8GsaK9p/bKMl5ponkXynWQruBJL4I5xn8areFPB2n6nbTTR6UNWkXXFs7i3E0ita2p48wBWB6nGTkDb0oSu9P61t+oXS/ryb/Q80orQ16wj0rxFqOnwSebHa3UkKOf4grEA/pWfUp3VymrOwUUUUxHoHwN/5LPoX/bx/6TyV9f18gfA3/ks+hf8Abx/6TyV9f0CYUUUUCCiiigAooooAKKKKACiiigAooooA+QPjl/yWfXf+3f8A9J468/r0D45f8ln13/t3/wDSeOvP6CjcsvFE1j4VvdBj0+zeC9kWSWd/N80MudpGHCjGT/D9c1pXfxDu7++W9vdG0ea8aLyri4aB99yuwp85D8HBzlNpyB6VyNFO4WOs1j4h6nr2m3tlqlpZTxXUscqkrIGgZI/LUod/Py/392ap2/jG+tPD9hpVrb2sQ0+8+3QXKh/NEvHJy23HAGNtc/RS21C2ljsP+FjXya5Lqdvo+jwSXSSJeRJbuY7wSAbhIC5OOM4UqM896k0v4m6hoyxpYaPo8cMNyLm3iEMgWF9nlnGJAWyuclyx561xdFHSwHaf8LMvhGkaaNpKJHYS6eqqs+BDIcsP9b1yetcXRRQMKKKKBBRRRQAUUUUAFFFFABRRRQAUUUUAauia/c6GLyOKGC5tr6HyLm2uAxSRcgj7pBBBAIIIq5qHjCbVp5ZtU0rTbp5Jkk3NHIpRETYsKlXBEeMcZzkda56igDov+E01BvEmn6xJb2jnTdgs7TYywQBTlQFVgevPJ5PXNTQ+O7yKS/36bp80F7eLfNbyLLsjnUkh1IkDdzwSR7Vy9FAWR0Z8balv1K4SK1TUNTL/AGnUFRvOKufmRSW2oD0+VQccZqKPxZdQ+F7fRIbO0jjt7v7bHcASeaJcAbuX29ABjbisGihabf1YHrudVqPj681RZkutL07ybq7F5eQoJlW6lCkAv+8yOpOFKjNQw+ONSi8WWmvyQWk09iqraW7IywwKv3VVVYcD69+c1zdFC02B6qzOnsvHV5YrLGunafLC1+uoxQyLLtgnAxuUhwfwYkVX/wCEw1BbbUFihtorvUy/2y/VG8+ZXbLJksVVTnnaBnvWBRR0sM6FPGN5FoOm6Xb2lpCumXX2u3uFEhkEuQSTlyp+6ONtTaj44udTUxXGl6cLWS9a/uLZBMEuJmGCzfvNw6nhSo56VzFFH9f19yFt/X9d2dJD441KLxZaa/JBaTT2KqtpbsjLDAq/dVVVhwPr35zUNh4sn0zUrnUbDTrGG+mdnjuNsjtbE9TGGcgH3IJHY1g0UAOd2kdndizMclickn1ptFFABRRRQB6B8Df+Sz6F/wBvH/pPJX1/XyB8Df8Aks+hf9vH/pPJX1/QJhRRRQIKKKKACiiigAooooAKKKKACiiigD5A+OX/ACWfXf8At3/9J468/r0D45f8ln13/t3/APSeOvP6Cj02y14XvgbW9c/sjShdWV3ZRW+7T4XKrggjcUyc7Ryeaku/hVcajrTtPfrYXNzdr5tvJbbUQyo0gWFiw83BGzovJ61xVl4omsfCt7oMen2bwXsiySzv5vmhlztIw4UYyf4frmtK7+Id3f3y3t7o2jzXjReVcXDQPvuV2FPnIfg4OcptOQPSm7N3/rZfqiUml/XyNDWPB2jaP4Fv7ySe+bUrfU0tQ01mYSuYS5jZC/HJ5bn7oxkHNL8JvDlrrOuz3OqafJfWMCrA0aRGTDzHYGIweFG5s9toNZmsfEPU9e029stUtLKeK6ljlUlZA0DJH5alDv5+X+/uzWYviORPDkGjx2NokUV0LszKZBJI4GPmO/GMccAY7ck0K13fy/RP9Rv4UkdPY6X/AGT4M8c2d7Z2kl5pc8EMc0trG8ke6Uo5VmUsMgDvx1GK0PDemWWs6LpEuo2FpJHY6fe38kcVrHG92YSAiu6gMw5555wc1z9z8SNQu9X1G+n0vS2XVYFhvrYpL5VxtxtY/vNwYYHKkVQj8aanba1ZajpqW9h9hi8mC2gQmJYySWUhiSwbcc5JJzS1tr/Wlvz1G7X/AK8tCC78Rm/0y5tbvTdODySK8M9tZxQNDgnIyigsCDjBPYGsWty68SibS7uxs9G03TkvHVpnthKWYKchQXkYBc84AHQelYdIYUUUUxBRRRQAUUUUAFFFFABRRRQAUUUUAdP4V0qyn0PxBrOo2y3i6XbxmK2d2VXkkkCAsVIbAGTgEdq3G8IaKfitpmlufI0vUbeK7SFpSNpeLeIt5OeW+XOc4I5zXI6Jr9zoYvI4oYLm2vofIuba4DFJFyCPukEEEAggirmoeMJtWnlm1TStNunkmSTc0cilERNiwqVcER4xxnOR1p6XX9f13/AWuv8AXb/g/eddN4O0601vwaNY0NrB9WuJLW901Z5FClZQgcFizAENnGeccdaZong/TrubWntdJGrzWetramw86QGC13sDINrBj0AySQMEmuV/4TTUG8SafrElvaOdN2CztNjLBAFOVAVWB688nk9c0238XT2mvXes2+mael/cSmaOZkkf7M55LRqzkZyc/MGwemKE1p8/zVv1+8Gm9v63/r5HpEHww0j+0orC1sjqVrLd31td6gsz79PMefKGFYKOBk7gc5rIv/BWjRfDc6va2ayONNgmMqyS/aUmaTDM8ZO0QkA4YDnHWuJsvFN7p9ndpZw28d5eqyT6iQzXDK33lDFiFz3IAJ9avv8AEDU5LEwNa2XnPZJp8t1sfzJbdCCEYbtvYAkKCR3pdLen6/8AA/4NtX9q/wDW/wDX9PTc13TdE0+1Gs6Voui6tokNwbYtbXl2JfMKEL525+AT83yAZxjcM1V1AaRZ6jY6XF4NsZ9XngjEkC3V0I45pGDKpXzdxIQqPvAAsfSsdvGUnmwLDpGnWtlHdi8ksYFkEU8oHyl9zscD+6CByeKq2Xii9s/EF3rZSObULgSkSyZ/dPJkF1AP3gCcen4Udf67fq7/AICtp/Xf/I7G20vwxf65qNjp9noaXYuYbSzgvrm7WGVgrCVlKOW+Z9oXc2MY71Q0vS9FlstestY0MWk+mWk7zX32mTMNyH2xxKu7aVJ+XBBY8nPFc3o/iH+xox5elafc3Ec4nhurhHMkLjpja4BGecMCM1oR+OZhpgtLnRNKu282Sdri4WZnklcEGRx5gRmGeMqQPSh7f1/Xf8Brf+v67fibUHgvS7TwA17qizPqv2+0WZYiS1vDKCdgUdXKgNgjjKjrmuovvhx4fj1qxgNpAkc95cxwfZrmUxzqkW6OGZnbMcxfggY6HpxXC2fxP8S2ehvpn2t590yTC5uJ5nlUocqBl9u3/Z24Peq2o+OLnU1MVxpenC1kvWv7i2QTBLiZhgs37zcOp4UqOelN6t/12/4P9MSvbX+t/wDgHR6j4Y03SL/w/JqOiWtlPqdq/wBosb+8lhgtpEk2mRm3b8FRwu7r69Ks2PhfQE+KuoeH7vSLcWZuB5P23UWRhEy5VYdrDe7EggsSMYBGea42fxfPfX8lzqumadfoYVght5Y3SO2RTlVjEbqVx9TnJznNSL44vTqMmo3Wn6fdaiZ1nhvJon327KoChArBdqgDAYMOKPXz/F/oDT6F220LTv8AhAvFFxc6fJHqmlXkESSSTHKB5CpUqOMjb1569q42t638WXUOg6rpclpa3C6tIstzcTeYZS6kspBDgcEk9Oe+awaXX7vy/wAygooooEegfA3/AJLPoX/bx/6TyV9f18gfA3/ks+hf9vH/AKTyV9f0CYUUUUCCiiigAooooAKKKKACiiigAooooA+QPjl/yWfXf+3f/wBJ468/r638V/A/w34w8T3eu6ne6rFdXWzelvLGqDaioMAxk9FHesj/AIZq8H/9BLXP+/8AD/8AGqB3Pl+ivqD/AIZq8H/9BLXP+/8AD/8AGqP+GavB/wD0Etc/7/w//GqB3Pl+ivqD/hmrwf8A9BLXP+/8P/xqj/hmrwf/ANBLXP8Av/D/APGqAufL9FfUH/DNXg//AKCWuf8Af+H/AONUf8M1eD/+glrn/f8Ah/8AjVAXPl+ivqD/AIZq8H/9BLXP+/8AD/8AGqP+GavB/wD0Etc/7/w//GqAufL9FfUH/DNXg/8A6CWuf9/4f/jVH/DNXg//AKCWuf8Af+H/AONUBc+X6K+oP+GavB//AEEtc/7/AMP/AMao/wCGavB//QS1z/v/AA//ABqgLny/RX1B/wAM1eD/APoJa5/3/h/+NUf8M1eD/wDoJa5/3/h/+NUBc+X6K+oP+GavB/8A0Etc/wC/8P8A8ao/4Zq8H/8AQS1z/v8Aw/8AxqgLny/RX1B/wzV4P/6CWuf9/wCH/wCNUf8ADNXg/wD6CWuf9/4f/jVAXPl+ivqD/hmrwf8A9BLXP+/8P/xqj/hmrwf/ANBLXP8Av/D/APGqAufL9FfUH/DNXg//AKCWuf8Af+H/AONUf8M1eD/+glrn/f8Ah/8AjVAXPl+ivqD/AIZq8H/9BLXP+/8AD/8AGqP+GavB/wD0Etc/7/w//GqAufL9FfUH/DNXg/8A6CWuf9/4f/jVH/DNXg//AKCWuf8Af+H/AONUBc+X6K+oP+GavB//AEEtc/7/AMP/AMao/wCGavB//QS1z/v/AA//ABqgLny/RX1B/wAM1eD/APoJa5/3/h/+NUf8M1eD/wDoJa5/3/h/+NUBc+X6K+oP+GavB/8A0Etc/wC/8P8A8ao/4Zq8H/8AQS1z/v8Aw/8AxqgLny/RX1B/wzV4P/6CWuf9/wCH/wCNUf8ADNXg/wD6CWuf9/4f/jVAXPl+ivqD/hmrwf8A9BLXP+/8P/xqj/hmrwf/ANBLXP8Av/D/APGqAufL9FfUH/DNXg//AKCWuf8Af+H/AONUf8M1eD/+glrn/f8Ah/8AjVAXPH/gb/yWfQv+3j/0nkr6/rzfwp8D/Dfg/wAT2mu6Ze6rLdWu/YlxLGyHcjIcgRg9GPevSKBMKKKKBBRRRQAUUUUAFFFFABRRRQAUUUUAFUtY1iy0HSZ9S1WR4rS3XdLIkTybB64QE4/Crtcr8T8/8Kt8RY6/YJP5UDRuWWs2d/eSWtuZxNHGsrLNbSRfKxIBBdQDyD0zjv1q9XE+JrjxDo3hDWdSbUrdZ4bWI2k1raBCh3HcCrl85yvf8B3syatfXXirU9K+13NnDpllDOpgjiMt0X37n+dSuF2gYAHOfYUPQmLudbRXC6V4gvL/AMSeF0h1aebTtT0ee5Je3jj+0Ohi2PjblSVdjtBA9uMVV1rXdZ06z8PSRanfzLeancxT/Z4IGklhWOdkCgpjI8tSMcn3zTa5d/61a/Qa1/ryueiUV53L4g1t9F8Dzw6lJNLq1wY7prJISZ1+zyyDHmLtU5Rc4x3+ldtoss02i2z3UzTTlP3rPs3Bs8q2wBcg8HAHIPFNxaDsWUureS5kt454mnjAZ4lcFkB6EjqM4P5URXVvPLLFBPHJJCQJERwShPQEDpXKaVFHH8YPEPloqb9KsWbaMbj5lxyfel8NRrB4y8aCBY4v9Jt2HGFz9mQ5OKl6fcO2rX9bHX1kr4n0p7kQRzTSMxkCNHayskhj++FYLtYjB4BJ4Poas6PPcXOiWk99NaT3EkQaSWxJMLnHJQkk7fSuJ0E3fhzXNIs7K5j1fwzrMsslgXTE+nuUeUjP8UeNw5AZcgHNO2thdLnT2/jHRLvwvJ4it7iZ9LiDl5vskwYBSQ3yFN/BB7djU3/CT6SNYsNLkuJIb3UImmtYpraSPzVUAtgsoAIBB2nn2rjNPiay8a6p4J8thaXd2usREL8ot2O6VM9P9cuMeklT/EaznutQivtNXfqehWbalaqByxWVNyf8CRXX/gVLTS+z/wAtfuf5Brql/V3p/Xmdje6/pun6zY6TdXDC+vw7W8CRO5cLjcx2ghQMjk4FaNea2N7Hrfjjwt4kUMiaqt19lEg2sLdYRsGD6ks//Ah6V03jvUr/AEnw0t1pVz9muPttrFuMauCsk6RsCD7Madnonv8A8EUXzPQ6SivM9U1jxFptt4pkTX55f+EfuYZId9tBm4R0R2jkwn3RuIBUK3qTU+r+KtZFp4xvrO5a0k8OOot7IxIy3KiJZMvkFvnLFRtI6euaW/8AXp/mPrY7nVtWstD0ubUdUmMFpAu6WTYzbR64UE1bDAqGHQjNeU+M9eudf8HeN7ee6k0z+y7dEFmoj3Sq8SSbn3KTglig24+6ec9Nq417Xr/xTqWm6Td2NimlG2JF1OF82NwGZypjYlTkoCGXkGqsK52Ol6tZa1aNc6bMZYlleFiUZCHRirKQwB4IIq5XJ/Dr/kBal/2GtQ/9KXrN1fxVe2/i23istQZ7aPV4tPuYRDGsSh4g20lv3hcZDZXC4ODyDS6pd7fjb/MqXu83lf8AC/8AkdcdcsP7YGliSRrrBztgdo1IAO1pAuxWwQdpIODnFaFeO39tep4b1eRdbv1z4vhjOBCOPtMIz/q/ccdOBxjIPSJrniDUPFGo2Gn39nbxaPeW8EgvJlV54mVGZ2QRcltzBSrKMqOOoJFc0U+/+Sf6iejfz/Nr9Dvqp6lqtppMAlvXkG4kIkULyyPgZO1EBZsAZ4Fc94Sn1nUdU1a41DWGmtbPULi0itRbxqCq7dpZgMkjnpgc85qp4lt7mb4oaCINTurQf2ZfMBCsRAIaHn50brn9OMc5non3V/wuNK7a7f8ADHZ21zFeWsVzbtvimQOjYIyCMjg8ipa840jXNe1fTfBCvrMsEms2Mr3k0UEJdnWIMGXKFVOT6Y9qisvGGu3Wn+H7D7TCLy/uL63e+mdYPMNvIyKo/duodgN2NuPlbGKuSs2iT0ygEHpzXP6bqesR2+nWeoadNqE8kQFzqdhJB9mjfJBOHdXPTnbGRz07DidDv9T0jwrbXSa1cP53iqW1mE6xEGNr2RGGdgIyMd+O2BxSSu7fL8bA3aPN/Wzf6Hq1QXt7Bp9qbi7ZliVlUlUZzkkAcKCepFee3vifWotI8QyWuq7pLHxFb2MEhhjbbC5gDIQFwcea3PX3p+qa7rukWPiqBdXluJdLntXtriaCLeEl27kIVApAycHGfUmjon6fjZ/qN6fj+B6NRXnPijWtettQ8X/YNZktY9F0uDULaNbeJgXImLIxZSSp8sdMH0Ip2q6/4gvtRv7LSLq5t7yJLN7WK0tklR1l/wBY0jsjBCPmxkjhQcHNFg21/rp/meiUVDbTRPvhjuVuJbfCSncpYNgH5gOhIIOMDrU1IAooooAKKKKACiiigAooooAKKKKACiiigAooooAKKKKACiiigAqvf6fZapZvaanZwXltJ9+G4iWRG+qkEGrFFAFSfStPutO+wXVhbTWWAPs0kKtHgdBtIxSXWj6bfLEL3TrS4EIxGJoFfYMYwMjjirlFAFC40LSLuzgtLvS7Ke2t8eTDLboyRYGPlUjA444qSbSNNuHtXuNPtZWszm2Z4VYwHGMpkfLxxxVuigDMfw3ocojEmi6e4jlaZN1qh2O33nHHDHJyepzV62tbeyt1t7OCK3hTO2OJAqrk5OAOOpqWigClFo2lwapJqUOm2kd/KNsl0kCiVx6F8ZPU96S20TSrO7uLq00yzguLr/XzRW6K83+8QMt+NXqKAIrW0t7G0itbG3itreFQkcMKBERR0AUcAVXs9G0vT5mmsNNtLWVyxZ4YFRm3HJyQO55Pqau0UeYEfkRfaPtHlJ52zZ5m0btuc4z1xntVc6PpjaodTOnWhvynlm7MC+bt/u78Zx7Zq5RQBny6Bo891a3M2k2Mk9mNttK9shaAeiHGV/Cp77TbHVIBDqdnb3kSuHEdxEsihgcg4IPIPerNFAGbL4c0Sf7V5+jafJ9sIa532qHzyOhfI+bHvU0mj6ZLcx3EunWjzRACOVoFLIByADjIx2q5RQBn3vh/RtSvBd6jpFjd3KoYxNPbI7hD1XcRnHtRNoOj3F5bXc+lWMtzaLttpntkLwj0RiMqPpWhRQBVsdMsNLiePTLK2s0kcyOtvEsYZjyWIAGSfWoJ/D2i3V5Jd3WkWE1zJs3zyWyM77DlcsRk4PI9K0aKAM4eHdEFndWg0ewFteNuuYfsqbJz6uuMMfrSnQdHa/t75tKsTd2qeXb3Btk8yFf7qtjKj2FaFFAFWy0uw00zHTrG2tDO5kl8iFU8xj1ZsDk+5ptxpGm3d4l5dafaz3MaNGk8kCs6qeqhiMgHuKuUUAZ0Ph7Rbf7N9n0iwi+xgrbbLZF8gHqEwPlz7UyTwxoMulnTZdE017AyeYbVrSMxF853bMYznnOK1KKAGxxpDEscKLHGgCqqjAUDsBVCTw7ok0N5DNo9hJFfNvu0a1QrcN6uMfMfc5rRooAzD4a0JrcwNounGFnVzGbVNpZfunGMZGBg9qWbw5odybg3GjafKboqbjzLVG84r93dkfNjtnpWlRQBnSeHdFmNwZdHsHN1GIrjdaofOQdFbj5gPQ8Vxus/Ds6rrmoG50Xw/e2d3EkVreXCbbjTUVNoWNBGQ2GywIdDk47CvQ6KB3Ktjptpp6v9lgjSSXaZpQgDzMFChnI5Y4AGT6Vaooo3EtAooooAKKKKACiiigAooooAKKKKACiiigD/2Q==\" />"
   ]
  },
  {
   "cell_type": "code",
   "execution_count": 16,
   "metadata": {},
   "outputs": [
    {
     "name": "stdout",
     "output_type": "stream",
     "text": [
      "Validation Accuracy =  53.06%\n"
     ]
    }
   ],
   "source": [
    "log_clf = LogisticRegression(hidden_layer_sizes=(15, 10), alpha=3, learning_rate='adaptive', max_iter=100000)\n",
    "print('Validation Accuracy = ', format(cross_val_score(mlp_clf, X_train, y_train, cv=5).mean(), '.2%'))"
   ]
  },
  {
   "cell_type": "markdown",
   "metadata": {},
   "source": [
    "![convert notebook to web app](https://shengliu66.github.io/images/AD_all_slices.gif)"
   ]
  },
  {
   "cell_type": "markdown",
   "metadata": {},
   "source": [
    "<img src=\"data:image/jpeg;base64,/9j/4AAQSkZJRgABAQEAYABgAAD/4RD4RXhpZgAATU0AKgAAAAgABAE7AAIAAAAPAAAISodpAAQAAAABAAAIWpydAAEAAAAeAAAQ0uocAAcAAAgMAAAAPgAAAAAc6gAAAAgAAAAAAAAAAAAAAAAAAAAAAAAAAAAAAAAAAAAAAAAAAAAAAAAAAAAAAAAAAAAAAAAAAAAAAAAAAAAAAAAAAAAAAAAAAAAAAAAAAAAAAAAAAAAAAAAAAAAAAAAAAAAAAAAAAAAAAAAAAAAAAAAAAAAAAAAAAAAAAAAAAAAAAAAAAAAAAAAAAAAAAAAAAAAAAAAAAAAAAAAAAAAAAAAAAAAAAAAAAAAAAAAAAAAAAAAAAAAAAAAAAAAAAAAAAAAAAAAAAAAAAAAAAAAAAAAAAAAAAAAAAAAAAAAAAAAAAAAAAAAAAAAAAAAAAAAAAAAAAAAAAAAAAAAAAAAAAAAAAAAAAAAAAAAAAAAAAAAAAAAAAAAAAAAAAAAAAAAAAAAAAAAAAAAAAAAAAAAAAAAAAAAAAAAAAAAAAAAAAAAAAAAAAAAAAAAAAAAAAAAAAAAAAAAAAAAAAAAAAAAAAAAAAAAAAAAAAAAAAAAAAAAAAAAAAAAAAAAAAAAAAAAAAAAAAAAAAAAAAAAAAAAAAAAAAAAAAAAAAAAAAAAAAAAAAAAAAAAAAAAAAAAAAAAAAAAAAAAAAAAAAAAAAAAAAAAAAAAAAAAAAAAAAAAAAAAAAAAAAAAAAAAAAAAAAAAAAAAAAAAAAAAAAAAAAAAAAAAAAAAAAAAAAAAAAAAAAAAAAAAAAAAAAAAAAAAAAAAAAAAAAAAAAAAAAAAAAAAAAAAAAAAAAAAAAAAAAAAAAAAAAAAAAAAAAAAAAAAAAAAAAAAAAAAAAAAAAAAAAAAAAAAAAAAAAAAAAAAAAAAAAAAAAAAAAAAAAAAAAAAAAAAAAAAAAAAAAAAAAAAAAAAAAAAAAAAAAAAAAAAAAAAAAAAAAAAAAAAAAAAAAAAAAAAAAAAAAAAAAAAAAAAAAAAAAAAAAAAAAAAAAAAAAAAAAAAAAAAAAAAAAAAAAAAAAAAAAAAAAAAAAAAAAAAAAAAAAAAAAAAAAAAAAAAAAAAAAAAAAAAAAAAAAAAAAAAAAAAAAAAAAAAAAAAAAAAAAAAAAAAAAAAAAAAAAAAAAAAAAAAAAAAAAAAAAAAAAAAAAAAAAAAAAAAAAAAAAAAAAAAAAAAAAAAAAAAAAAAAAAAAAAAAAAAAAAAAAAAAAAAAAAAAAAAAAAAAAAAAAAAAAAAAAAAAAAAAAAAAAAAAAAAAAAAAAAAAAAAAAAAAAAAAAAAAAAAAAAAAAAAAAAAAAAAAAAAAAAAAAAAAAAAAAAAAAAAAAAAAAAAAAAAAAAAAAAAAAAAAAAAAAAAAAAAAAAAAAAAAAAAAAAAAAAAAAAAAAAAAAAAAAAAAAAAAAAAAAAAAAAAAAAAAAAAAAAAAAAAAAAAAAAAAAAAAAAAAAAAAAAAAAAAAAAAAAAAAAAAAAAAAAAAAAAAAAAAAAAAAAAAAAAAAAAAAAAAAAAAAAAAAAAAAAAAAAAAAAAAAAAAAAAAAAAAAAAAAAAAAAAAAAAAAAAAAAAAAAAAAAAAAAAAAAAAAAAAAAAAAAAAAAAAAAAAAAAAAAAAAAAAAAAAAAAAAAAAAAAAAAAAAAAAAAAAAAAAAAAAAAAAAAAAAAAAAAAAAAAAAAAAAAAAAAAAAAAAAAAAAAAAAAAAAAAAAAAAAAAAAAAAAAAAAAAAAAAAAAAAAAAAAAAAAAAAAAAAAAAAAAAAAAAAAAAAAAAAAAAAAAAAAAAAAAAAAAAAAAAAAAAAAAAAAAAAAAAAAAAAAAAAAAAAAAAAAAAAAAAAAAAAAAAAAAAAAAAAAAAAAAAAAAAAAAAAAAAAAAAAAAAAAAAAAAAAAAAAAAAAAAAAAAAAAAAAAAAAAAAAAAAAAAAAAAAAAAAAAAAAAAAAAAAAAAAAAAAAAAAAAAAAAAAAAAAAAAAAAAAAAAAAAAAAAAAAAAAAAAAAAAAAAAAAAAAAAAAAAAAAAAAAAAAAAAAAAAAAAAAAAAAAAAAAAAAAAAAAAAAAAAAAAAAAAAAAAAAAAAAAAAAAAAAAAAAAAAAAAAAAAAAAAAAAAAAAAAAAAAAAAAAAAAAAAAAAAAAAAAAAAAAAAAAAAAAAAAAAAAAAAAAAAAAAAAAAAAAAAAAAAAAAAAAAAAAAAAAAAAAAAAAAAAAAAAAAAAAAAAAAAAAAAAAAAAAAAAAAAAAAAAAAAAAAAAAAAAAAAAAAAAAAAAAAAAAAAAAAAAAAAAAAAAAAAAAAAAAAAAAAAAAAAAAAAAAAAAAAAAAAAAAAAAAAAAAAAAAAAAAAAAAAAAAAAAAAAAAAAAAAAAAAAAAAAAAAAAAAAAAAAAAAAAAAAAAAAAAAAAAAAAAAAAAAAAAAAAAAAAAAAAAAAAAAAAAAAAAAAAAAAAAAAAAAAAAAAAAAAAAAAAAAAAAAAAAAAAAAAAAAAAAAAAAAAAAAAAAAAAAAAAAAAAAAAAAAAAAAAAAAAAAAAAAAAAAAAAAAAAAAAAAAAAAAAAAAAAAAAAAAAAAAAAAAAAAAAAAAAAAAAAAAAAAAAAAAAAAAAAAAAAAAAAAAAAAAAAAAAAAAAAAAAAAAAAAAAAAAAAAAAAAAAAAAAAAAAAAAAAAAAAAAAAAAAAAAAAAAAAAAAAAAAAAAAAAAAAAAAAAAAAAAAAAAAAAAAAAAAAAAAAAAAAAAAAAAAAAAAAAAAAAAAAAAAAAAAAAAAAAAAAAAAAAAAAAAAAAAAAAAAAAAAAAAAAAAAAAAAAAAAAAAAAAAAAAAAAAAAAAAAAE1vaGFtbWVkIEV6aGFuAAAABZADAAIAAAAUAAAQqJAEAAIAAAAUAAAQvJKRAAIAAAADMzMAAJKSAAIAAAADMzMAAOocAAcAAAgMAAAInAAAAAAc6gAAAAgAAAAAAAAAAAAAAAAAAAAAAAAAAAAAAAAAAAAAAAAAAAAAAAAAAAAAAAAAAAAAAAAAAAAAAAAAAAAAAAAAAAAAAAAAAAAAAAAAAAAAAAAAAAAAAAAAAAAAAAAAAAAAAAAAAAAAAAAAAAAAAAAAAAAAAAAAAAAAAAAAAAAAAAAAAAAAAAAAAAAAAAAAAAAAAAAAAAAAAAAAAAAAAAAAAAAAAAAAAAAAAAAAAAAAAAAAAAAAAAAAAAAAAAAAAAAAAAAAAAAAAAAAAAAAAAAAAAAAAAAAAAAAAAAAAAAAAAAAAAAAAAAAAAAAAAAAAAAAAAAAAAAAAAAAAAAAAAAAAAAAAAAAAAAAAAAAAAAAAAAAAAAAAAAAAAAAAAAAAAAAAAAAAAAAAAAAAAAAAAAAAAAAAAAAAAAAAAAAAAAAAAAAAAAAAAAAAAAAAAAAAAAAAAAAAAAAAAAAAAAAAAAAAAAAAAAAAAAAAAAAAAAAAAAAAAAAAAAAAAAAAAAAAAAAAAAAAAAAAAAAAAAAAAAAAAAAAAAAAAAAAAAAAAAAAAAAAAAAAAAAAAAAAAAAAAAAAAAAAAAAAAAAAAAAAAAAAAAAAAAAAAAAAAAAAAAAAAAAAAAAAAAAAAAAAAAAAAAAAAAAAAAAAAAAAAAAAAAAAAAAAAAAAAAAAAAAAAAAAAAAAAAAAAAAAAAAAAAAAAAAAAAAAAAAAAAAAAAAAAAAAAAAAAAAAAAAAAAAAAAAAAAAAAAAAAAAAAAAAAAAAAAAAAAAAAAAAAAAAAAAAAAAAAAAAAAAAAAAAAAAAAAAAAAAAAAAAAAAAAAAAAAAAAAAAAAAAAAAAAAAAAAAAAAAAAAAAAAAAAAAAAAAAAAAAAAAAAAAAAAAAAAAAAAAAAAAAAAAAAAAAAAAAAAAAAAAAAAAAAAAAAAAAAAAAAAAAAAAAAAAAAAAAAAAAAAAAAAAAAAAAAAAAAAAAAAAAAAAAAAAAAAAAAAAAAAAAAAAAAAAAAAAAAAAAAAAAAAAAAAAAAAAAAAAAAAAAAAAAAAAAAAAAAAAAAAAAAAAAAAAAAAAAAAAAAAAAAAAAAAAAAAAAAAAAAAAAAAAAAAAAAAAAAAAAAAAAAAAAAAAAAAAAAAAAAAAAAAAAAAAAAAAAAAAAAAAAAAAAAAAAAAAAAAAAAAAAAAAAAAAAAAAAAAAAAAAAAAAAAAAAAAAAAAAAAAAAAAAAAAAAAAAAAAAAAAAAAAAAAAAAAAAAAAAAAAAAAAAAAAAAAAAAAAAAAAAAAAAAAAAAAAAAAAAAAAAAAAAAAAAAAAAAAAAAAAAAAAAAAAAAAAAAAAAAAAAAAAAAAAAAAAAAAAAAAAAAAAAAAAAAAAAAAAAAAAAAAAAAAAAAAAAAAAAAAAAAAAAAAAAAAAAAAAAAAAAAAAAAAAAAAAAAAAAAAAAAAAAAAAAAAAAAAAAAAAAAAAAAAAAAAAAAAAAAAAAAAAAAAAAAAAAAAAAAAAAAAAAAAAAAAAAAAAAAAAAAAAAAAAAAAAAAAAAAAAAAAAAAAAAAAAAAAAAAAAAAAAAAAAAAAAAAAAAAAAAAAAAAAAAAAAAAAAAAAAAAAAAAAAAAAAAAAAAAAAAAAAAAAAAAAAAAAAAAAAAAAAAAAAAAAAAAAAAAAAAAAAAAAAAAAAAAAAAAAAAAAAAAAAAAAAAAAAAAAAAAAAAAAAAAAAAAAAAAAAAAAAAAAAAAAAAAAAAAAAAAAAAAAAAAAAAAAAAAAAAAAAAAAAAAAAAAAAAAAAAAAAAAAAAAAAAAAAAAAAAAAAAAAAAAAAAAAAAAAAAAAAAAAAAAAAAAAAAAAAAAAAAAAAAAAAAAAAAAAAAAAAAAAAAAAAAAAAAAAAAAAAAAAAAAAAAAAAAAAAAAAAAAAAAAAAAAAAAAAAAAAAAAAAAAAAAAAAAAAAAAAAAAAAAAAAAAAAAAAAAAAAAAAAAAAAAAAAAAAAAAAAAAAAAAAAAAAAAAAAAAAAAAAAAAAAAAAAAAAAAAAAAAAAAAAAAAAAAAAAAAAAAAAAAAAAAAAAAAAAAAAAAAAAAAAAAAAAAAAAAAAAAAAAAAAAAAAAAAAAAAAAAAAAAAAAAAAAAAAAAAAAAAAAAAAAAAAAAAAAAAAAAAAAAAAAAAAAAAAAAAAAAAAAAAAAAAAAAAAAAAAAAAAAAAAAAAAAAAAAAAAAAAAAAAAAAAAAAAAAAAAAAAAAAAAAAAAAAAAAAAAAAAAAAAAAAAAAAAAAAAAAAAAAAAAAAAAAAAAAAAAAAAAAAAAAAAAAAAAAAAAAAAAAAAAAAAAAAAAAAAAAAAAAAAAAAAAAAAAAAAAAAAAAAAAAAAAAAAAAAAAAAAAAAAAAAAAAAAAAAAAAAAAAAAAAAAAAAAAAAAAAAAAAAAAAAAAAAAAAAAAAAAAAAAAAAAAAAAAAAAAAAAAAAAAAAAAAAAAAAAAAAAAAAAAAAAAAAAAAAAAAAAAAAAAAAAAAAAAAAAAAAAAAAAAAAAAAAAAAAAAAAAAAAAAAAAAAAAAAAAAAAAAAAAAAAAAAAAAAAAAAAAAAAAAAAAAAAAAAAAAAAAAAAAAAAAAAAAAAAAAAAAAAAAAAAAAAAAAAAAAAAAAAAAAAAAAAAAAAAAAAAAAAAAAAAAAAAAAAAAAAAAAAAAAAAAAAAAAAAAAAAAAAAAAAAAAAAAAAAAAAAAAAAAAAAAAAAAAAAAAAAAAAAAAAAAAAAAAAAAAAAADIwMjM6MDE6MDggMjA6NDM6MzgAMjAyMzowMTowOCAyMDo0MzozOAAAAE0AbwBoAGEAbQBtAGUAZAAgAEUAegBoAGEAbgAAAP/hCyFodHRwOi8vbnMuYWRvYmUuY29tL3hhcC8xLjAvADw/eHBhY2tldCBiZWdpbj0n77u/JyBpZD0nVzVNME1wQ2VoaUh6cmVTek5UY3prYzlkJz8+DQo8eDp4bXBtZXRhIHhtbG5zOng9ImFkb2JlOm5zOm1ldGEvIj48cmRmOlJERiB4bWxuczpyZGY9Imh0dHA6Ly93d3cudzMub3JnLzE5OTkvMDIvMjItcmRmLXN5bnRheC1ucyMiPjxyZGY6RGVzY3JpcHRpb24gcmRmOmFib3V0PSJ1dWlkOmZhZjViZGQ1LWJhM2QtMTFkYS1hZDMxLWQzM2Q3NTE4MmYxYiIgeG1sbnM6ZGM9Imh0dHA6Ly9wdXJsLm9yZy9kYy9lbGVtZW50cy8xLjEvIi8+PHJkZjpEZXNjcmlwdGlvbiByZGY6YWJvdXQ9InV1aWQ6ZmFmNWJkZDUtYmEzZC0xMWRhLWFkMzEtZDMzZDc1MTgyZjFiIiB4bWxuczp4bXA9Imh0dHA6Ly9ucy5hZG9iZS5jb20veGFwLzEuMC8iPjx4bXA6Q3JlYXRlRGF0ZT4yMDIzLTAxLTA4VDIwOjQzOjM4LjMyNTwveG1wOkNyZWF0ZURhdGU+PC9yZGY6RGVzY3JpcHRpb24+PHJkZjpEZXNjcmlwdGlvbiByZGY6YWJvdXQ9InV1aWQ6ZmFmNWJkZDUtYmEzZC0xMWRhLWFkMzEtZDMzZDc1MTgyZjFiIiB4bWxuczpkYz0iaHR0cDovL3B1cmwub3JnL2RjL2VsZW1lbnRzLzEuMS8iPjxkYzpjcmVhdG9yPjxyZGY6U2VxIHhtbG5zOnJkZj0iaHR0cDovL3d3dy53My5vcmcvMTk5OS8wMi8yMi1yZGYtc3ludGF4LW5zIyI+PHJkZjpsaT5Nb2hhbW1lZCBFemhhbjwvcmRmOmxpPjwvcmRmOlNlcT4NCgkJCTwvZGM6Y3JlYXRvcj48L3JkZjpEZXNjcmlwdGlvbj48L3JkZjpSREY+PC94OnhtcG1ldGE+DQogICAgICAgICAgICAgICAgICAgICAgICAgICAgICAgICAgICAgICAgICAgICAgICAgICAgICAgICAgICAgICAgICAgICAgICAgICAgICAgICAgICAgICAgICAgICAgICAgICAgCiAgICAgICAgICAgICAgICAgICAgICAgICAgICAgICAgICAgICAgICAgICAgICAgICAgICAgICAgICAgICAgICAgICAgICAgICAgICAgICAgICAgICAgICAgICAgICAgICAgICAKICAgICAgICAgICAgICAgICAgICAgICAgICAgICAgICAgICAgICAgICAgICAgICAgICAgICAgICAgICAgICAgICAgICAgICAgICAgICAgICAgICAgICAgICAgICAgICAgICAgIAogICAgICAgICAgICAgICAgICAgICAgICAgICAgICAgICAgICAgICAgICAgICAgICAgICAgICAgICAgICAgICAgICAgICAgICAgICAgICAgICAgICAgICAgICAgICAgICAgICAgCiAgICAgICAgICAgICAgICAgICAgICAgICAgICAgICAgICAgICAgICAgICAgICAgICAgICAgICAgICAgICAgICAgICAgICAgICAgICAgICAgICAgICAgICAgICAgICAgICAgICAKICAgICAgICAgICAgICAgICAgICAgICAgICAgICAgICAgICAgICAgICAgICAgICAgICAgICAgICAgICAgICAgICAgICAgICAgICAgICAgICAgICAgICAgICAgICAgICAgICAgIAogICAgICAgICAgICAgICAgICAgICAgICAgICAgICAgICAgICAgICAgICAgICAgICAgICAgICAgICAgICAgICAgICAgICAgICAgICAgICAgICAgICAgICAgICAgICAgICAgICAgCiAgICAgICAgICAgICAgICAgICAgICAgICAgICAgICAgICAgICAgICAgICAgICAgICAgICAgICAgICAgICAgICAgICAgICAgICAgICAgICAgICAgICAgICAgICAgICAgICAgICAKICAgICAgICAgICAgICAgICAgICAgICAgICAgICAgICAgICAgICAgICAgICAgICAgICAgICAgICAgICAgICAgICAgICAgICAgICAgICAgICAgICAgICAgICAgICAgICAgICAgIAogICAgICAgICAgICAgICAgICAgICAgICAgICAgICAgICAgICAgICAgICAgICAgICAgICAgICAgICAgICAgICAgICAgICAgICAgICAgICAgICAgICAgICAgICAgICAgICAgICAgCiAgICAgICAgICAgICAgICAgICAgICAgICAgICAgICAgICAgICAgICAgICAgICAgICAgICAgICAgICAgICAgICAgICAgICAgICAgICAgICAgICAgICAgICAgICAgICAgICAgICAKICAgICAgICAgICAgICAgICAgICAgICAgICAgICAgICAgICAgICAgICAgICAgICAgICAgICAgICAgICAgICAgICAgICAgICAgICAgICAgICAgICAgICAgICAgICAgICAgICAgIAogICAgICAgICAgICAgICAgICAgICAgICAgICAgICAgICAgICAgICAgICAgICAgICAgICAgICAgICAgICAgICAgICAgICAgICAgICAgICAgICAgICAgICAgICAgICAgICAgICAgCiAgICAgICAgICAgICAgICAgICAgICAgICAgICAgICAgICAgICAgICAgICAgICAgICAgICAgICAgICAgICAgICAgICAgICAgICAgICAgICAgICAgICAgICAgICAgICAgICAgICAKICAgICAgICAgICAgICAgICAgICAgICAgICAgICAgICAgICAgICAgICAgICAgICAgICAgICAgICAgICAgICAgICAgICAgICAgICAgICAgICAgICAgICAgICAgICAgICAgICAgIAogICAgICAgICAgICAgICAgICAgICAgICAgICAgICAgICAgICAgICAgICAgICAgICAgICAgICAgICAgICAgICAgICAgICAgICAgICAgICAgICAgICAgICAgICAgICAgICAgICAgCiAgICAgICAgICAgICAgICAgICAgICAgICAgICAgICAgICAgICAgICAgICAgICAgICAgICAgICAgICAgICAgICAgICAgICAgICAgICAgICAgICAgICAgICAgICAgICAgICAgICAKICAgICAgICAgICAgICAgICAgICAgICAgICAgICAgICAgICAgICAgICAgICAgICAgICAgICAgICAgICAgICAgICAgICAgICAgICAgICAgICAgICAgICAgICAgICAgICAgICAgIAogICAgICAgICAgICAgICAgICAgICAgICAgICAgICAgICAgICAgICAgICAgICAgICAgICAgICAgICAgICAgICAgICAgICAgICAgICAgICAgICAgICAgICAgICAgICAgICAgICAgCiAgICAgICAgICAgICAgICAgICAgICAgICAgICAgICAgICAgICAgICAgICAgICAgICAgICAgICAgICAgICAgICAgICAgICAgICAgICAgICAgICAgICAgICAgICAgICAgICAgICAKICAgICAgICAgICAgICAgICAgICAgICAgICAgIDw/eHBhY2tldCBlbmQ9J3cnPz7/2wBDAAcFBQYFBAcGBQYIBwcIChELCgkJChUPEAwRGBUaGRgVGBcbHichGx0lHRcYIi4iJSgpKywrGiAvMy8qMicqKyr/2wBDAQcICAoJChQLCxQqHBgcKioqKioqKioqKioqKioqKioqKioqKioqKioqKioqKioqKioqKioqKioqKioqKioqKir/wAARCAG7AakDASIAAhEBAxEB/8QAHwAAAQUBAQEBAQEAAAAAAAAAAAECAwQFBgcICQoL/8QAtRAAAgEDAwIEAwUFBAQAAAF9AQIDAAQRBRIhMUEGE1FhByJxFDKBkaEII0KxwRVS0fAkM2JyggkKFhcYGRolJicoKSo0NTY3ODk6Q0RFRkdISUpTVFVWV1hZWmNkZWZnaGlqc3R1dnd4eXqDhIWGh4iJipKTlJWWl5iZmqKjpKWmp6ipqrKztLW2t7i5usLDxMXGx8jJytLT1NXW19jZ2uHi4+Tl5ufo6erx8vP09fb3+Pn6/8QAHwEAAwEBAQEBAQEBAQAAAAAAAAECAwQFBgcICQoL/8QAtREAAgECBAQDBAcFBAQAAQJ3AAECAxEEBSExBhJBUQdhcRMiMoEIFEKRobHBCSMzUvAVYnLRChYkNOEl8RcYGRomJygpKjU2Nzg5OkNERUZHSElKU1RVVldYWVpjZGVmZ2hpanN0dXZ3eHl6goOEhYaHiImKkpOUlZaXmJmaoqOkpaanqKmqsrO0tba3uLm6wsPExcbHyMnK0tPU1dbX2Nna4uPk5ebn6Onq8vP09fb3+Pn6/9oADAMBAAIRAxEAPwD6RooooAKKKKACiiigAooooAKKKKACiiigAooooAKKKzte1mLQNIfUJ7ee5VZYolht9u93kkWNQNzKv3nHUik2krsDRorlf+E2uf8AoUdc/wC/ll/8kUf8Jtc/9Cjrn/fyy/8AkiuH+08D/wA/of8AgS/zNPZT7M6qiuV/4Ta5/wChR1z/AL+WX/yRR/wm1z/0KOuf9/LL/wCSKP7TwP8Az+h/4Ev8w9lPszqqK5X/AITa5/6FHXP+/ll/8kUf8Jtc/wDQo65/38sv/kij+08D/wA/of8AgS/zD2U+zOqorlf+E2uf+hR1z/v5Zf8AyRR/wm1z/wBCjrn/AH8sv/kij+08D/z+h/4Ev8w9lPszqqK5X/hNrn/oUdc/7+WX/wAkUf8ACbXP/Qo65/38sv8A5Io/tPA/8/of+BL/ADD2U+zOqorlf+E2uf8AoUdc/wC/ll/8kUf8Jtc/9Cjrn/fyy/8Akij+08D/AM/of+BL/MPZT7M6qiuV/wCE2uf+hR1z/v5Zf/JFUtX+JkWhaXLqOq+GNcgtIdu+TNo2NzBRws5PUgdKqGYYOclCFWLb2XMv8w9nPszt6K8k/wCGjfCn/QK1z/vzD/8AHaP+GjfCn/QK1z/vzD/8dr0fZVP5X9weyn2Z63RXkn/DRvhT/oFa5/35h/8AjtH/AA0b4U/6BWuf9+Yf/jtHsqn8r+4PZT7M9boryT/ho3wp/wBArXP+/MP/AMdo/wCGjfCn/QK1z/vzD/8AHaPZVP5X9weyn2Z63RXkn/DRvhT/AKBWuf8AfmH/AOO0f8NG+FP+gVrn/fmH/wCO0eyqfyv7g9lPsz1uivJP+GjfCn/QK1z/AL8w/wDx2j/ho3wp/wBArXP+/MP/AMdo9lU/lf3B7KfZnrdFeSf8NG+FP+gVrn/fmH/47R/w0b4U/wCgVrn/AH5h/wDjtHsqn8r+4PZT7M9boryT/ho3wp/0Ctc/78w//HaD+0d4TVSTpeuYHX9zD/8AHaPZVP5X9wezn2Z63RRVXU9Qi0nSLzUblXaGzgeeRYwCxVFLEDOOcCszMtUVytr45+22cN1beHNYeGeNZI23Wo3KRkHBmz0NSWnjNr3U3sIfDmr+fGgkcM1sAqk4Bz51clLG4atP2dOom+yauW4SSu0dNRVHU7aHUdKa3u7aGRZgB9nuj8jt12uBkMPUcg1534dtxJd6Nomq2sf9n2/9pI0RO+3eZJFA2AjhArSBV/hAI7ZrrJPUqK86Oo3Mnwg03zbhnlk+yrcMz5c2rTqpZu+DHnJ+tb/hhBbeIvElnaKI7CC5h8mNBhI3aFS6qOgHQ4Hdj607av8Art/mI6aiiikAUUUUAFFFFABRRRQAUUUUAFFFFABRRRQAUUUUAFc14+/5FVP+wnp3/pbDXS1zXj7/AJFVP+wnp3/pbDXPif4E/R/kVH4kR0UUV+GHuBRRRQAUUUUAFFFFABRRRQAUUUUAFcZ8W/8Akl2q/wC9B/6Pjrs64z4t/wDJLtV/3oP/AEfHXo5V/wAjCh/jj/6UiZfCz5wooor+jCgooooAKKKKACiiigAooooAKKKKACmS/wCpf/dNPpkv+pf/AHTUz+Fky+Fn3dWJ40/5EHxB/wBgy5/9FNW3WJ41/wCRB8Qf9gy5/wDRTV87L4WeGcr4Ymx4R0gZ/wCXGH/0WK0PDL7/AB5qJ/6co/8A0Kuf8OTEeFtKGellD/6AK2fB77/G+pH/AKc4/wD0Kvz3IaTjmcpeUvzOqpUUoWO0vdPs9Ttjb6laQXcBYMYp4hIuQcg4IxkU2fTLC6tUtbqytprePGyKSJWReMcAjA44q1RX6IcpWbTrJpJJGs7cvLEIJGMS5eMZwhOOV5PHTk0+1s7axgENlbxW8QJIjhQIuT1OBU1FABRRRQAUUUUAFFFFABRRRQAUUUUAFFFFABRRRQAUUUUAFc14+/5FVP8AsJ6d/wClsNdLXNePv+RVT/sJ6d/6Ww1z4n+BP0f5FR+JEdFFFfhh7gUUUUAFFFFABRRRQAUUUUAFFFFABXGfFv8A5Jdqv+9B/wCj467OuM+Lf/JLtV/3oP8A0fHXo5V/yMKH+OP/AKUiZfCz5wooor+jCgooooAKKKKACiiigAooooAKKKKACmS/6l/900+mS/6l/wDdNTP4WTL4Wfd1Yfjb/kQPEP8A2DLn/wBFNW5WH43/AOSf+If+wXc/+imr56WzPDPNdAnx4b0wZ/5dIv8A0AVo+GvEmk6N40vBq19Fama1jWMSE/Md1c7oc2PD+nD/AKdYv/QBXW/Dpt/izUz/ANOif+hV8lldLlxrfqctOrzTsd3qKW99pJeW8lt7Nl8x5YJjESmM/fXDKO+QQfeuVg02UeDYLrxDe6uzQNMLWGPUJreWVZJMQJIyMrM+3YvzHqxzk811mraRaa3Y/ZNQE5h3q/7i5kgbIOR80bKevPWoLbw5ptpHAkaTuIJzcqZ7qWZjJt27mZ2JbA6bicYGOgr671Ou/wDX9f19xBJpN7B4LOl2l1NJefZvKE8l1JvLHq3mklx1ODyRxVfwfOoj1HT3trq2urG5CTpcahLeglkVlKSyEsVKkcYGDnjudO80SxvpZ5LhZt9xEkTtHcyRnarFlxtYbSCeowferFnY29hCY7VCoZtzMzl2c9MszEljwOSe1O+rbF0sWKKKKQBRRRQAUUUUAFFFVYdTsLiO4e3vbaVLZik7JKrCJgMkMQflIHY0AWqKgs7211G1W50+5huoH+7LBIHVvoRwanoAKKhuLy2s/L+13EUHmuI4/NcLvY8BRnqT6VNQAUUUUAFFFFABXNePv+RVT/sJ6d/6Ww1vz3ltavEtzcRQtM+yISOFLt6DPU+wrA8ff8iqn/YT07/0thrnxP8AAn6P8io/EiOiiivww9wKKKKACiiigAoqtLqVjBfRWU17bx3cwzFbvKokkHqFzk/hTkvrSS7e1juoWuEGWhWQF16dV6jqPzFVyStewronoooqRhRRRQAVxnxb/wCSXar/AL0H/o+OuzrjPi3/AMku1X/eg/8AR8dejlX/ACMKH+OP/pSJl8LPnCiiiv6MKCiiigAooooAKKQkDqcUtAgooooGFFFFABTJf9S/+6afTJf9S/8Aumpn8LJl8LPu6sLxx/yT3xF/2C7n/wBFNW7WF45/5J54i/7Bdz/6KavnnseE9jxfRpcaDYf9e0f/AKCK7b4ZNu8Uamf+nVP/AEKvOtJlxotkP+neP/0EV3/wpbd4k1M/9Oyf+hV4uDpcte/qeBga3PiOX1PVaKragL42pXS2gS4Y4ElwhdIx6lQQW+mR9a5E+LNYfwzaXjfZ7OZrqeG4uRp893DsiZl8xY42DBWKqQSxAB79a9s+hO3orB1LxB/Z/hGDU4Jre+luPIihmiUrDK8rqisBuJC5YHG4nHepdE1a4u9S1TTb8RG506VFMkKlVkR0DKdpJIPUYyeme+KdhdLmzRRRSAKKKKACiiigArgL+C60XxLrPinSlknENykWp2ac+fAIIjvUf30ySPUEj0rv6q22mWFlPPNZ2Vvby3DbppIolVpT6sQOT9aOtx+RwVl4hu59PW20y9+wW9toC6lbzCNCJyS3XeD8oCjIGD8/UcVVvfFPiF4NU1FL+ax+xabYX62PkRMoeXf5kbFkLbfl7EEeteiy6Ppk8cEc+nWkiW4xCrwKREP9kEcdB0pk+haRdSXD3WlWUz3Sqs7SW6MZQvIDZHzAds9Kasv69f6+Qnr/AF6f5P7zhPEGqTa1As0l28K2Pii1tBZKqYwsyYZiRuyc7hggYx75sw+Jdc1HTr/VLScQW8K3yGKTyj5TxEiPYOWJ+Q7g3Hzcdq7CXw9os959rm0ewkucKvnPaoXwv3Ruxnjt6Up0DRzcXU50mxM14uy5kNsm6dfRzjLD2NT9jl9fyS/S40/eu/61f+Z59d654kgsL+Vdfm3w+HotYQ/ZoOJcNlPuf6s7eR97nhhWzF4i1jVteuLfT3FutjPbJKjmII8ciKzt82Xz8/y4GCU5zk10zeHNEZWDaPp5Dwi3YG1T5oh0Q8fd9ulPOhaQ13DdNpVkbiCPyopjbpvjTGNqtjIGOwqm03/Xf+kT0t/Wy/4LPPbHXdeuNN097vWp5hqmm37uohiTynhI2MhVAc4ODnI9MVPY61q8ejaLo+k3T/am0BL2OabyQrvhQqsWx8g53bQWwRzXdQ6Bo9s0Bt9JsYjbhlhKWyL5Qb7wXA4z3x1qP/hGdB+z28H9iad5Nq/mW8f2SPbC/XcoxhT7iktH/Xn/AJ/gPt/Xb/L8TiL3VbjXho99c3RiMHidbU2KBCqbGdQSdu7JA3dQMMOK1vH2tWv9nppflX32j+09O+f+z5/J/wCPuFv9ds8vp/tdeOvFdLJ4f0aXUGvpdJsXvGILXDWyGQkdCWxnisrx9/yKqf8AYT07/wBLYawxP+7zXk/yS/QcfjT/AK3b/Ujooor8LPdCiiigAooooA5TxLJHcalZw6fPazXlrfQTTaftBkkGQN5OcgKp3A4x8uD6VmaaJGuNFtBn+0bbWbuW7XPzLGfOyzf7Lb48Hvla76iu+GM5afs+X+rNdttfXzM3C7uFFFFcBoFFFFABXGfFv/kl2q/70H/o+OuzrjPi3/yS7Vf96D/0fHXo5V/yMKH+OP8A6UiZfCz5wooor+jCgooooAKKKKAIpeq4OD6npT4/9WvGOKdRUKNpORHL71woooqywooooAKZL/qX/wB00+mS/wCpf/dNTP4WTL4Wfd1YXjn/AJJ34j/7BV1/6Kat2sHx1/yTvxH/ANgq6/8ARTV8+eDL4WfP2lyY0iz/AOuCf+giu2+Gui6drPiK/bUbfzjDAjJ87Lg7vYiuA01j/ZVpz/yxT/0EV6X8HDnXtU/690/9Crlp0+Wdz43KKnNjmvU9K1jTr270Y2Wj3sWnudq+ZLA0w2DquA6EZHGd2fx5qrbaXrttYwQLq9guwlXWPTCsYjwAqxr5uVxjqS2cnjpjdorqPtDm5fCCtoa6LDeeVp0EMItU8rLxTRvvEpbPzchflwOh55rR0jR2065v7y5uBcXd/KskrrHsUBVCqqqScAAep5J+ladFO4BRRRSAKKKKACiiigAooooAKKKKACiiigAooooAKKKKACua8ff8iqn/AGE9O/8AS2GulrmvH3/Iqp/2E9O/9LYa58T/AAJ+j/IqPxIjooor8MPcCiiigAooooAKKKKACiiigAooooAK4z4t/wDJLtV/3oP/AEfHXZ1xnxb/AOSXar/vQf8Ao+OvRyr/AJGFD/HH/wBKRMvhZ84UUUV/RhQUUUUAFFFFABRRRQAUUUUAFFFFABTJf9S/+6afTJf9S/8Aumpn8LJl8LPu6sHx1/yTvxH/ANgq6/8ARTVvVg+Ov+SdeI/+wVdf+imr588GXws+c9N/5BVp/wBcU/8AQRXpnwb/AOQ7qv8A1wT+deZ6b/yCrT/rgn/oIrvPhZpQ1LX9QLXt7a+XCh/0Wcx7ue+OtPltqfC5N/yMH8z2XUL02NqZUtZ7uQnakFuAXc+gLEKPqSB71jL4yt5tDXUrPTNSugDKs1tFEglgMbbZA25wuVIxgMSe2av6xcX+n6MTpFhPqV0NqIiPGGHYuTI6g464zz+tc6w1S28MRabZeF9USK4kkW42XNr9oCNy7sTKF3uzN91jjOeDgVOtnY+900udI+t2o8Of23BvubVrcXEYiA3SKRkAAkDJyOpFS6bez31u0l1pl1prhtoiumiZiPX927jH4546Vll7htFNnL4Wka2S1jxZieFg3ODDgsFyqgHk7T0BNL4V0VtHGoFITZWl1cCW2sMgi1XYoIG0lRlgWwpwM/Wqdru2xKvZXN+iiikMKKKKAKmqWtzeabNb2N69hO4AS5jRWaPnqAwIPHqK4C/TU7aTVYJfGfiBI9PtnmkuDbWYRtoBcLiMMSoZSenXg5r0O9vrXTbKS71C5itbaIZkmmcKqD1JPAryLxDrHhnxB4nuNSl1vwyLWwYKtvLdsX1EBFY52ShSM4UAq/K/hSXxFLY9gtyGtYir7wUBDf3uOtSUyFxLbxyKpUMoYKRgjI6U+qe5EdkFFFFIYUUUUAFFFFABRRRQAVzXj7/kVU/7Cenf+lsNdLXNePv+RVT/ALCenf8ApbDXPif4E/R/kVH4kR0UUV+GHuBRRRQAUUUUAFFFFABRRRQAUUUUAFcZ8W/+SXar/vQf+j467OuM+Lf/ACS7Vf8Aeg/9Hx16OVf8jCh/jj/6UiZfCz5wooor+jCgooooAKKKKACiiigAooooAKKKKACmS/6l/wDdNPpkv+pf/dNTP4WTL4Wfd1YPjv8A5J14k/7BV1/6Kat6sHx3/wAk68Sf9gq6/wDRTV8+eDL4WfOmmD/iU2n/AFwT/wBBFel/Bv8A5D2q/wDXBP515rpg/wCJRZ/9cE/9BFelfBz/AJD+q/8AXBP5101I2ifCZL/yMX8z16iq1/qFvptqbi7ZwgOAI42kdj6Kigsx9gCaop4p0eXTre+humlhuSyxCOGR3YrncNgXcCuDkEcd65j7016KqPqtimk/2mbmM2RjEonU5VlIyCMdc9sdaWw1O11OORrOQt5L+XIjoyPG2AcMrAEHBB5HQg0eQFqiiigAooooAZNDFcRGKeNJY26o65B/CvN/GNjrf2zUJLW61OG2X93Da6ZpsT7g0fyNvKM2S4ZWII25U8Dk+gapp6arps1lJNcQJKADJbSmOQc54ZeR07VyU/g7wy01zYya/qyzwxB5ojr9wWiRuAzKZOAffijqNHaw7vIj3ghtoyGOSDin02NBHEiKchVABNOpvclbBRRRSGFFFFABRRRQAUUUUAFc14+/5FVP+wnp3/pbDXS1yXxPvU03wFPfTI7x217YzMseNzBbuEkDJAzx3IrGvFzpSjHdp/kVH4kSUV53/wALn0T/AKBOr/8AfuH/AOO0f8Ln0T/oE6v/AN+4f/jtfk3+r2bf9A8vuPX9tT7nolFed/8AC59E/wCgTq//AH7h/wDjtH/C59E/6BOr/wDfuH/47R/q9m3/AEDy+4PbU+56JRXnf/C59E/6BOr/APfuH/47R/wufRP+gTq//fuH/wCO0f6vZt/0Dy+4PbU+56JRXnf/AAufRP8AoE6v/wB+4f8A47R/wufRP+gTq/8A37h/+O0f6vZt/wBA8vuD21PueiUV53/wufRP+gTq/wD37h/+O0f8Ln0T/oE6v/37h/8AjtH+r2bf9A8vuD21PueiUV53/wALn0T/AKBOr/8AfuH/AOO0f8Ln0T/oE6v/AN+4f/jtH+r2bf8AQPL7g9tT7nolcZ8W/wDkl2q/70H/AKPjrO/4XPon/QJ1f/v3D/8AHawPG/xH0/xT4RutF07TNSS6vJIUiMyxBciZDgkSHrjHSu7L8jzOjjKVWpQkoxlFt22SabZMq1Plep5BRWz/AMIhr/8A0DW/7/Rf/FUf8Ihr/wD0DW/7/Rf/ABVfs/17C/8APxfeZ/XcN/z8X3mNRWz/AMIhr/8A0DW/7/Rf/FUf8Ihr/wD0DW/7/Rf/ABVH17C/8/F94fXcN/z8X3mNRWz/AMIhr/8A0DW/7/Rf/FUf8Ihr/wD0DW/7/Rf/ABVH17C/8/F94fXcN/z8X3mNRWz/AMIhr/8A0DW/7/Rf/FUf8Ihr/wD0DW/7/Rf/ABVH17C/8/F94fXcN/z8X3mNRWz/AMIhr/8A0DW/7/Rf/FUf8Ihr/wD0DW/7/Rf/ABVH17C/8/F94fXcN/z8X3mNRWz/AMIhr/8A0DW/7/Rf/FUf8Ihr/wD0DW/7/Rf/ABVH17C/8/F94fXcN/z8X3mNTJf9S/8Aumtz/hENf/6Brf8Af6L/AOKqG78La3b2U802nskccbO7edGcADJPDUpY3DNNKovvE8ZhmrKa+8+2KwfHf/JOfEn/AGCrr/0U1b1YHjz/AJJz4k/7BN1/6JavKR5ktmfO+l/8gez/AOuCf+giu5+GC6yfEOof2NJYoPJTzftcbtkZ/h2sP1rg9Mf/AIlFn/1wT/0EV6Z8GjnXtW/64J/Ou+srUz4PJl/wov5npesao+j6N9qltZ7ucbVEdpbSTZc8Z2orMFHOTg8eprkNLthYanpOq21pqUtnFHex3LyWEscjzzMkpkEJXeFLK6jI447cn0KiuA++PPP7N1CP4dWWiGyufttiLW9ljERKMq3AkaJW6MwVSNo9vWuh8O28z69r+ptDLDb3s8QgWaMxs4SIKz7WAIyeORztz0xXRUU7/wBf16CCiiikAUUUUAFeU+OU1capqx0rT9WXT2heO/eG2t2WVWjQtsdpVZflUAko2PmxXq1eX6/Jox8Ta4viKDxNcIkibIrFr17Z4/JQlSI/kHOcjpzz3wL4ikemW4VbaIICFCAAE5IGKkpkBU28ZjXamwbV9BjpT6b3IjsgooopDCiiigAooooAKKKKACuG+M3/ACSbVf8Arpa/+lMVdzXDfGb/AJJNqv8A10tf/SmKrp/GgPmyiiivqjUKKKKACiiigAooooAKKKKACiiigAp9t/yELL/r7g/9GrTKfbf8hCy/6+4P/Rq1zYr/AHefo/yM6nwP0PS6KKK/Lj5AKKKKACiiigAooooAKKKKACiiigArP1//AJFrU/8Ar0l/9ANaFZ+v/wDItan/ANekv/oBq6fxoun8aPo6sDx5/wAk48Sf9gm6/wDRLVv1gePP+SceJf8AsE3X/olq+rW59VLY+bdNf/iVWn/XFP8A0EV6h8FjnXNW/wCuCfzrynTm/wCJXa/9cU/9BFeifCTW7TStc1EXguSZYkC+RaSzc577FOPxr08Qv3R8TlEbY9/M9zorM1zZdeFb8/OEe0dh95G+6SPQj6VzI07R7z4d6Bc6vpVpqlylhBDZxXcQlUyyIgHysCOoBJxkAH3ry97/AC/G/wDkfb9V8/wt/mdzRWBNodlD4Pfw3aS2tugthBtZBtCtwSUBHDHPHGc4qv4LjFkuqaYuladYfYrsIZNMthBDcExq27ZzhgCAeT060+rQdDp6KKKQBRRRQBj+LnMXg3V3DKpWzkIZnKAHacZYdPrWEL3xzHpJ/s3Q/D3lrCfJMWqSuOnGB5OD+fNdqQCMEZB7GkVQqhVAUDoAOlAxsRYwoZBh9o3D3p9FFBK0QUUUUDCiiigAooooAKKKKACuG+M3/JJtV/66Wv8A6UxV3NcN8Zv+STar/wBdLX/0piq6fxoD5sooor6o1CiiigAooooAKKKKACiiigAooooAKfbf8hCy/wCvuD/0atMp9t/yELL/AK+4P/Rq1zYr/d5+j/IzqfA/Q9Looor8uPkAooooAKKKKACiiigAooooAKKKKACs/X/+Ra1P/r0l/wDQDWhWfr//ACLWp/8AXpL/AOgGrp/Gi6fxo+jqwPHv/JN/Ev8A2Cbr/wBEtW/WB49/5Jv4l/7BN1/6Javq1ufVPY+YLB8abbf9cU/kK9X+BxzrOrf9cU/nXkNi3/Evt/8Arkv8hXrnwKOdX1b/AK4p/OvXxS/cfcfIZXG2Ob9T2W4t4bu3eC6hjnhkGHjkUMrD0IPBqGLS7CCK2jgsreOO0ObdEiULCcEZUAfLwSOOxNWqK8c+wKl1pOm3pmN7p9rcGeMRTGWFX8xAchWyOQCScH1qe3toLS3WC0hjghQYWOJAqr9AOBUlFABRRRQAUUUUAFFFFABRRRQAUUVDd3cVjZy3VyWEMKF3KozkAdThQSfwFF7asNyaise08VaReyWaQ3EqG+QPatPbSwrMCNwCs6gE45xnOO1bFOzQBRRRSAKKCQASeAOppscqTRJLC6yRuoZXU5DA9CD3FADq4b4zf8km1X/rpa/+lMVddfapaaa9st7KYzdTLBD8jEM56LkDj8a5H4zf8km1X/rpa/8ApTFV0/iXqHU+bKKKK+qNQooooAKKKKACimllDBSRuPQZ60oZSxUEZHUZ6UgFooopgFFFFABT7b/kIWX/AF9wf+jVplPtv+QhZf8AX3B/6NWubFf7vP0f5GdT4H6HpdFFFflx8gFFFFABRRRQAUVEl3bS3D28dxE80fLxq4LL9R1FOWeJpmiWRDIoyyBhkD3FOzHZj6KKKQgooooAKz9f/wCRa1P/AK9Jf/QDWhWfr/8AyLWp/wDXpL/6Aaun8aLp/Gj6OrA8e/8AJN/Ev/YJuv8A0S1b9c/4+/5Jv4l/7BN1/wCiWr6tbn1T2PlayP8AxL7f/rkv8q9e+BB/4m2rf9cU/nXj9l/x4W//AFyX+VeqfBXSdO1PVtSOpWFrdmOJChnhV9h3dRkcV7OL/gfcfN5fT5cU36ntGumQeH79oZpIJFt3ZZIzhlIUniuae21XWfA3h6a38+6cWsc9yq6pNZvOTF/z1j+YnJzg8EjmusuLG3utPeylQi3ePyykbGP5cYwCpBHHpVIeGtMFnZWqLcpDYp5cCx3ky4XAG0kPlhgDhsjivE6P5fqfS9V8/wBDD1HXvM+GthqGkG5t471rSFWmkZpYkllRGJckksAx+bJ55zV/w7PMmva/pjTSzW1lPEYGmkMjIHiDMm5iScHnk/xY6YrRl0DTJxMJbUFJrdbZo97BPLUkqAoOFIJ6gA9OeBU9hptrpsci2cbL5rmSR3dneRsAZZmJJ4AHJ6ACqvq/67f18w6WLVFFFIAooooAKKKKACiiigArO8Qyxw+GtSeZ1jQWsmWY4A+U960aKmS5otDi7NM8286HXvAfhPS9Hniub4PYTEwuGNske1ndsfd4Urz1JxVePXL2+ttZuZ9ZFlfWUd+tzYi6fzIwCfJbZwIsBVww+9u6816jRVzfNfzv+Ioe7byt+B45e37xadqLR+IdQ3x+GIdSQ/2nJkXQDDcPm6HC5T7pzyOa3I9dutT8VNa3GrR6fJG9tLaobl1+1W5jDSFYxw4JZwWz8m0HjGa9Hoobu/67/wBL0FbS39bL/Jv1Z49pV7LcWGjqdXvbp9V0zUVuI5L+STzChHl7VLfKw5GVwSOualtdbzofh/TbPWUsbS40UfZr1r1wv2wbRsyM72XH+qJAOSMcceuUUlo/68/8/wAB9v67f5HlNzq8eoX2mrq96y6zaeJFSSzM7II4QziN/KzjaU2ncR1J5q78Ztatf+EA1XS/KvvtHmWvz/2fP5P+vib/AF2zy+n+11468V6TXDfGb/kk2q/9dLX/ANKYqunul5/5L9A+1f8Ardv9T5sooor6o1CiiigAooooAqylRqVvyAdrf0oiK/2lMARnYvA/GrVFZ8mt/O/4CCiiitBhRRRQAU+2/wCQhZf9fcH/AKNWmU+2/wCQhZf9fcH/AKNWubFf7vP0f5GdT4H6HpdFFFflx8gFFFFABRRRQBzlxeWdxqLHTbi3NzawzRwRRuC7yEZPA6Abep6k/nJoEjpLHbwXH2m1a2ErsVG6OTIyCR1J5PPOQa36K29ouW1jZ1E48tgooorExCiiigArP1//AJFrU/8Ar0l/9ANaFZ+v/wDItan/ANekv/oBq6fxoun8aPo6uf8AH3/JNvEv/YJuv/RLV0Fc/wCPv+SbeJv+wTdf+iWr6tbn1T2PlaxH/Evt/wDrkv8AIV698CBjVtW/64p/6FXkVj/yD7b/AK5L/IV678Cf+Qtq3/XFP/Qq9rGfwPuPMw9Plq3Pa6KqatczWWj3d1arG8sMLSKshIU4GecViS6vrNz4Ls9YsH0+2lewF5O11G7xg7A20AMpAOT8xJxjoa8O+jfb/g/5Hq2u0u/9fqdNRWLLq943goarDaGG9ks1mW2eNpNkjKDtKrgtgnoME4o8Maq+q6fM8+pWt/LFMY3+z2UloYiADseOR2YNznnHBHFU002uxKaaTRtUUUUhhRRRQAUUUUAFFFFABRRRQAUUUUAFFFFABRRRQAVw3xm/5JNqv/XS1/8ASmKu5rhvjN/ySbVf+ulr/wClMVXT+NAfNlFFFfVGoUUUUAFFFFABRRRQAUUUUAFFFFABT7b/AJCFl/19wf8Ao1aZT7b/AJCFl/19wf8Ao1a5sV/u8/R/kZ1Pgfoel0UUV+XHyAUUUUAFFFFABRRRQAUUUUAFFFFABWfr/wDyLWp/9ekv/oBrQrP1/wD5FrU/+vSX/wBANXT+NF0/jR9HVz/j7/km3ib/ALBN1/6Jaugrn/H/APyTXxN/2CLr/wBEtX1a3Pqz5WsT/wAS+3/65L/IV6n8FtMg1HV9SM8l0nlxIR5F3LDnnvsYZ/HNeUWTY0+3/wCuS/yr2H4DHOq6t/1xT+de5jP93+4yjCzuew39k91o89jBKImlhMSySKZNuRjJ5BP51hS+GtXXw9pWlWerWKx2MaRzfaNOeRLnYAFyomXA4yRk5PtxXUUV4X9fcamQLHXFt2Ua1btN5CKrtYfKJQxLPtDjKkYG3ORj7xNTaVpI06a8upZFmvL6RZbiRE2KxVAgCrk4ACjue/NaNFABRRRQAUUUUAFFFFABRRRQAUUUUAFFFFABRRRQAUUUUAFcN8Zv+STar/10tf8A0pirua4b4zf8km1X/rpa/wDpTFV0/jQHzZRRRX1RqFFFFABRRRQAUUUUAFFFFABRRRQAU+2/5CFl/wBfcH/o1aZT7b/kIWX/AF9wf+jVrmxX+7z9H+RnU+B+h6XRRRX5cfIBRRRQAUUUUAFFFFABRRRQAUUUUAFZ+v8A/Itan/16S/8AoBrQrP1//kWtT/69Jf8A0A1dP40XT+NH0dXP+P8A/kmvib/sEXX/AKJaugrn/H//ACTXxN/2CLr/ANEtX1a3Pqz5Ms2xYwf9c1/lXsnwCOdT1f8A64p/OvEraTFpD/1zX+VesfBK11a81LUTpOqxWAWNTIJLQTeYM9PvDFe5jP8Ad/uOicLQue9aleNp+l3N4kLTmCNpPLVgpbAz1NY6eKXubbRhY2Sy3mq2hu0gkn2LGgVScuFPd1HTnNamo21zc6Dc2sTRy3Mtu0QaQlFZiuMnAOB371gWnhvU7GDw/dQ/Y21DSrBrGWNpmEUisqch9meGjU/d6E14Pf8Arv8ArY5+3z/T/gl9vFdqfB8GvxQyMlwsYigY4YyOwRUJ5wdxwT2q1pGsNqN1f2dzbi3u7CVY5UWTepDKGVlbAJBB9ByD9awz4Rvh4Uh0FJrYxWkcE0FwSwZ7mOXzDuXGAhIHQk8njitjRdJuLTUdU1K/MQudRlRjHCxZY0RAqjcQCT1PQdcds1Wl3/Xb/gh0NiiiikAUUUUAFFFFABRRRQAUUUUAFFFFABRRRQAUUUUAFcN8Zv8Akk2q/wDXS1/9KYq7muF+NDBfhLqzMQAJLUknt/pMVXD4kB820VB9stv+fmH/AL7FH2y2/wCfmH/vsV9Pzw7mhPRUH2y2/wCfmH/vsUfbLb/n5h/77FHPDuBPRUH2y2/5+Yf++xR9stv+fmH/AL7FHPDuBPRUH2y2/wCfmH/vsUfbLb/n5h/77FHPDuBPRUH2y2/5+Yf++xR9stv+fmH/AL7FHPDuBPRUH2y2/wCfmH/vsUfbLb/n5h/77FHPDuBPT7b/AJCFl/19wf8Ao1aq/bLb/n5h/wC+xT7e9tVvrNjcwhVuoWYmQcASKSfyrnxU4uhNJ9H+RFT4GepUVn/2/o//AEFrH/wJT/Gj+39H/wCgtY/+BKf41+Z8k+x8n7OfY0KKz/7f0f8A6C1j/wCBKf40f2/o/wD0FrH/AMCU/wAaOSfYPZz7GhRWf/b+j/8AQWsf/AlP8aP7f0f/AKC1j/4Ep/jRyT7B7OfY0KKz/wC39H/6C1j/AOBKf40f2/o//QWsf/AlP8aOSfYPZz7GhRWf/b+j/wDQWsf/AAJT/Gj+39H/AOgtY/8AgSn+NHJPsHs59jQorP8A7f0f/oLWP/gSn+NH9v6P/wBBax/8CU/xo5J9g9nPsaFZ+v8A/Itan/16S/8AoBo/t/R/+gtY/wDgSn+NUdb1vSpfD+oxxanZu72sqqq3CEsShwAM1cIS5loXCE+daH05XP8Aj/8A5Jr4m/7BF3/6Jaugrn/H4J+GviYAZJ0i6wB/1xavqFufUHx5bt/osX+4P5V7d+zwc3+r/wDXJP514XCWEEYKnIUdvavcf2dCTe6xn/nkn869bFSTo29D0K9vZHvFFFFeQeeFFFFABRRRQAUUUUAFFFFABRRRQAUUUUAFFFFABRRRQAUUUUAFFFFABRRRQBUi1XT57Wa5gv7aSCBissqTKVjI6hiDgEd81LaXltf2sd1Y3EVzbyDKSwuHRx6gjg1wd2k/hzW9W8U2AkmtGuzHq9qmWzGETEyj+8ncDque4FVofEWoxaFcx2F39iTR/Dttf248tCLlijE7twJ2/IF+XB+Y89KF8N/T8rjtd2X9a2PS6hnvLa1eJbm4ihaZ9kQkcKXb0Gep9hXneoeI9fSbVb1NRmtksZdOZbEwxFcT7RJGxKbv4jggggjrS6lqk2tyaVeS3Txi38UC1+xAJhRGzqC3y7txA3dcfMOKOqXn+q/zJv7jkv60b/Q7XxDpk2raZFb2zRq6X1pcEyEgbYrmOVhwDyVQge+OnWtSvNm8VeILvwrqOvWdwsEK2N5KscgiJhlib92EUZJwAQ+/vjAFQ6trviLTotcePXZn/s3TLbU4w1tD8zOXDRH5P9X8n+8M/eppXKa/r7v8z0+iuJXX9Y1TX7+Gwl+zw6ffLbSo5iCmMwht4zl9+5gV42kL35rmv7f1+48LRNd6zPMdU8MXV82IokMMsYTBQqgIyHOc59sVPS/9bX/JDiuZpf1vY9bqGa8treaGK4uIopJ22xI7hWkPXCg9T9K4P+2tXQ2ujaTcN9ot9HgvUlnMKpMWbGHJA+QBcEoM/MOfWvJqk+u33hbUp7tlP/CQTwGyATbFsSdADxu3YUE84+bp0q3HW3n+tiE7q/l+lz0qiiipGFFFFABVC713SLC6NtfarZW06p5himuERgv97BOce9X65iX/AJKzb/8AYFl/9HJRu0vX8m/0B6Jv0/NI6OC4hurdJ7WVJoZBuSSNgysPUEdakry/TtVu9P1q707SvNgsNV1m4+xywiPgJCpcR+Z8vMu4987XwKdq/iDxPa22qO+rJbz6boMOomO2ijkjefMgYbmUkodnbB54Ip72/rpcdnr/AF1sd14n0ybWvCOr6XatGk99YzW8bSEhQzxlQSQCcZPoa1K86vfFWq6Jeara3F7JeKG08wzPHEpt/tLsjgYCrgbcruzyeSaszXniNtY0nTJtXktPtct4rSQpA8hRFDRlsoVDjOCAMcUnoTdHeUV5Ro/iXUmmk8Q3lzNczQ+F1u2tkVQkjrJIDxjjJUE4/lgVsx+ItZgk06O6u1+y6tcW8UN2xhMkO6J2bhMrhiihCcn5jnOBTt/Xza/Qb0f9dk/1O4try2vEdrO4inVHKMYnDBWHUHHQ+1TVyfgBDHba6jTvcMutXIMjhdzcr12gD8hXWUuifdL8UHVrzf4MKKKKACiiigAooooAKKKKACiiigAooooAKKKKACiiigAooooAKKKKACiiigAooooAKKKKACiiigAooooAq2ul2Fi05srG2tjcNumMMKp5p9WwOT9abJo+mzfZ/O060k+zKFg3QKfKAxgLx8o4HT0FXKKAM+bQdHuWna40qxla5ZWnL2yMZSv3S2RyR2z0pH8PaNJfG9k0iwa7Ygm4a2QyEjp82M8dq0aKAM4+HtFLXbHR7AtfDF0Tapm4/wB/j5vxzSSeHdElEol0fT3E0axS7rVDvRfuqeOQOw6CtKigCg2haQ98Lx9LsmuhF5InNuhcR4xs3Yztx26UkWgaPAYjBpNjGYYmhi2WyDy426oMDhT3A4q+6LJGySKGVhhlIyCPSvJvDOnzrY6LqGg2S2r6e+oPeXRh2JJHukCRHGC/zbTxwNvUUm0tw9D0ceG9DVLRF0XTwtkd1qotUxAc5ynHy/hin/8ACP6N/aDX/wDZFj9sdw7XH2ZPMZgMAlsZyB3rkrHxjrc+l6P562R1DWbI3sCQWksixosaHawDZJLuOcgAeuOaPivW73X/AAdq6mCKxOnyWqXME8ZeQSt5TsFYMAuA4XODnmraadv63t+Yr6XPS6K4iHxJc23iPVdO3J59xq8dnavKXeOPNsJclS3HAPyqVBJ9zTNR1zWNC8TGXV763ltbPRJ7yeG2t2RZCki8gFzg4wOc459ant/XS5TT/r1sd1RXGxeLNVFxa2t1aRo+ozxRWd0YHjjy0bu4Ks247fLPPAbcvTmmeD7c/wBheJYLsQy/8TS7VwkW1CMDgKScD2yaUrq/kr/l/mJa28/+D/kdrVC60LSL67+1XulWVxcbPL86a3R32/3ckZx7V5/pXiu70H4f+G/s32WRU0+xMsLI8kjrIwjJJXAjAzkM2dxyMcVNpGqX/h641C4iW1k0qbxJLay26wMJkMjKA6uGwQCRldvTJzVNWm4+v5pfqK9o3/rZv9DvbzR9M1GxWy1DTrS6tVIKwTwK8Yx0wpGOKjm0DR7lpWuNJsZTNEIZS9sjeZGOiNkcqPQ8V5/4h8Q3niTwBf3Ulip0y5sPtME3kMhhbzF2qSx+clTnKgAYI9K9PX7o+lFn1C+tiidB0hvPzpViftMYhnzbJ+9QdFbjlR6Hikj0HR4lthFpVigtVKW4W2QeSp6hePlB9BWhRSGZ8Ph/Rrd7d7fSbGJrVGSBktkUxK3ULgfKD3A601PDehx6bLp8ejaetlM2+W2W1QRyN6lcYJ9zWlRQBXstOstOjaPT7O3tEY7mWCJUBPrgCrFFFABRRRQAUUUUAFFFFABRRRQAUUUUAFFFFABRRRQAUUUUAFFFFABRRRQAUUUUAFFFFABRRRQAUUUUAFFFFABRRRQAUUUUAFFFFACOodGVsgMMHBIP5jkVnWHh/TtM0eTS7KOVLOTfuRrmRj8xJbDMxYZJJ4PetKigDEk8H6JJp+n2RtpUi00bbRo7qVJIRjGBIrB8Y4xnBpt74L0HULiSa5sn3Sokcqx3EsaShMbNyqwViMDBIJFbtFHW4GHceDNCuluxcWkjm8mS4lc3Uu7zEACurbsowAAypFSP4U0aWa3lktXZ4IXgUm4kO+N+XWT5v3gJ5O/PPNbFFAGCPBehDSRpv2WZrdZFkj3XkzPEy/d2SF96Y5wFIAycdau2Og6dptnc2tlFJHFdO0k2Z5GZ2b7zbixOT6g1o0Ubgc43gDw21rFb/YZBFDbpbKq3cwzGjbkBw/zbTypOSvYirtp4Y0myvHube2cSPMbgh55HTzSNpcIzFQ2O4Hr61rUUXAwB4I0AafdWK2kotLrPmQC7mCAFtxCDfhATyQuAa3kUIioucKMDJJP5nrS0UAFFFFABRRRQAUUUUAFFFFABRRRQAUUUUAFFFFABRRRQAUUUUAFFFFABRRRQAVXv7630vTbm/vpPKtbWF5ppNpbYigsxwMk4APAqxXP+Pv8Akm3iX/sE3X/olqAOf/4Xl8Ov+hh/8krj/wCN0f8AC8vh1/0MP/klcf8AxuvkCigdj6//AOF5fDr/AKGH/wAkrj/43R/wvL4df9DD/wCSVx/8br5AooCx9f8A/C8vh1/0MP8A5JXH/wAbo/4Xl8Ov+hh/8krj/wCN18gUUBY+v/8AheXw6/6GH/ySuP8A43R/wvL4df8AQw/+SVx/8br5AooCx9f/APC8vh1/0MP/AJJXH/xuj/heXw6/6GH/AMkrj/43XyBRQFj6/wD+F5fDr/oYf/JK4/8AjdH/AAvL4df9DD/5JXH/AMbr5AooCx9f/wDC8vh1/wBDD/5JXH/xuj/heXw6/wChh/8AJK4/+N18gUUBY+v/APheXw6/6GH/AMkrj/43R/wvL4df9DD/AOSVx/8AG6+QKKAsfX//AAvL4df9DD/5JXH/AMbo/wCF5fDr/oYf/JK4/wDjdfIFFAWPr/8A4Xl8Ov8AoYf/ACSuP/jdH/C8vh1/0MP/AJJXH/xuvkCigLH1/wD8Ly+HX/Qw/wDklcf/ABuj/heXw6/6GH/ySuP/AI3XyBRQFj6//wCF5fDr/oYf/JK4/wDjdH/C8vh1/wBDD/5JXH/xuvkCigLH1/8A8Ly+HX/Qw/8Aklcf/G6P+F5fDr/oYf8AySuP/jdfIFFAWPr/AP4Xl8Ov+hh/8krj/wCN0f8AC8vh1/0MP/klcf8AxuvkCigLH1//AMLy+HX/AEMP/klcf/G6P+F5fDr/AKGH/wAkrj/43XyBRQFj6/8A+F5fDr/oYf8AySuP/jdH/C8vh1/0MP8A5JXH/wAbr5AooCx9f/8AC8vh1/0MP/klcf8Axuj/AIXl8Ov+hh/8krj/AON18gUUBY+v/wDheXw6/wChh/8AJK4/+N0f8Ly+HX/Qw/8Aklcf/G6+QKKAsfX/APwvL4df9DD/AOSVx/8AG6P+F5fDr/oYf/JK4/8AjdfIFFAWPr//AIXl8Ov+hh/8krj/AON0f8Ly+HX/AEMP/klcf/G6+QKKAsfc/hrxXovjDTZL/wAOXn2y1jmMLyeU8eHADEYcA9GHPvWxXkH7NX/JNtQ/7C0n/omGvX6BBRRRQAUUUUAFFFFABRRRQAUUUUAFc/4+/wCSbeJf+wTdf+iWroK5/wAff8k28S/9gm6/9EtQB8QUUVo6LrDaLdTXEdtBcPJbvConjWRV3DG7awIOPQigozqK9iv9Mtta8QR+F447DS4dQ0K3vGuLfTYgySKglY/JtOGCnufpXLWnw+stU0i/1DR9bnu4bW2luVc6cyIRGASjsXwjnJIA3ZAzkUPRvyv+Gn6Ci+a1utvxOGor0vV/h/owkvLldRk0+0sNLs7xxBZtKZfNwCcNLw2TnGcc9q5nVvCI0rx7/wAI3LqMewyRqLxomA2uoYHYMnOG6c896Othp3XN/X9anNUV3mp/DRtKjF9dX9xHpi2K3k0ktjsni3SeWI/JL/eLerDjNZ0nhbSLaxj1G8124j068lkisZ10/c02xQWZ08wbBuYLwWOc8YoD+v1OUoru7j4bxW8F5L/biSC20aHVQEtWzIrnG0ZIwB6nBOelTX3w40yz1r+yk8RXFzeLAlw8EGlM0m1lUqFAfDN8+SMgAAnPanZ3t/X9aCun/Xp/mjz6iu31b4eweHLu6HiLWHtrSO9NnBPBZ+aZSEDlipddqgMvQscnocU1/Alivhu310a1OdPms3nMn2EfJMsix+Sf3nUlgc+nOKW6v/W1x/1+hxVFXNV086VqUtmbq1uzHj99aSiWNsgHhh164+uap0AFFFFABRRRQAUUUUAFFFFABRXpSeENGNomlm0H2x/DZ1j7f5r7xLguE27tmzaNv3c980vw38H6R4i0Qz3trHc3C6gIpUnlljLQ+WWIg2kB5cgnac8AcU2rNrt/nYV9E/62ueaUV3GmWPh678N64LnR5LZtOtCy6jLO4lN0XwkWzOzBGRjbkbSc+kd/a+Hrj4fyanBpJ024S+S3s3+0O73iBcyFwxKgjg5UAAsBil5/1q7D62/ra5xdFd14k8KWUnibR7TQ4P7PtbvSYL65aSRpBCCpaR2J7AD29hzVzXtI0TR/Gsei6L4dj1M31taG0F7czAIzplmYRupJOQfvADB4p21t52/r7hXX4X/L/M85or1S18HaDqUlzqVjFp8aXd8dP0iyubmdIJ3RRvcsCz/MfuqWUc8noDmW/hu0ufDU9tYWGjza7aw3Et9bz3FyLmHY7D90quIztVc4OT7Gp6X/AK7j/r+vnoefUV6FaeEtJ1fTvAq21u9pLrF1NBeS+cXLhHQZAPA43dB371q6b4Q8Pa1pd5riaYLWDSbi9SWzjnkK3KRRb48lmLA54baRkdMVT0Tfa/4W/wAwWrSX9b/5HlFFer23gPQbnQbHxXcm2sLG4tIwLOaeVYTdNI6cuNzrH8m719wORlWenafYeIrvSNe8JaeDppluNRn+13JVYgAVWLbKMZyAC24kuPpSejafn+Ar3V1/V/6t6nntFddNpmlT/Ct9agsPIv11cWxkEzMPLMbPtCk4GOBzk8deam1jw3aXOg+D30CwaO91eOZZQZi/mOsgQNzwo4J4AA/CnZ/l+KuPpf8ArexxdFdl488P6RoVj4fOisZhdWTSTXJYkTuJGXcATwOOAO2M81xtIAooooA+oP2av+Sbah/2FpP/AETDXr9eQfs1f8k21D/sLSf+iYa9foJCiiigAooooAKKKKACiiigAooooAK5/wAff8k28S/9gm6/9EtXQVz/AI+/5Jt4l/7BN1/6JagD4gpyMFkVmUOAclWzg+xxzTaKCjsv+Fk3w1+31dNI0tbm3svsKACfaYtmwZBl6hcjOe9M0v4j6hpekRadHpmmTwQwz26GZJSRFMcunEgBGcckZ461yFFH9f197DbY7G8+JF9e2l3by6TpYS7s4bKTaJgfLiOUx+868Dmqk/jvUpvHEHipbazhv4dmI0RzE21dgyGYn7oxwRXM0UdbhbSx3B+KepNaraNo+kNZC3a1e1aOVkkjLbwGzJuyGJIIIPPU1R/4T26fSzp0+j6PPapM01rHJbNi0YgA+WAwBHAJD7snk5NcrRQB2K/EjUP7Mazm0vS5i+nLpslw6SiR4FOVBxIBkeoA96ST4kahNq97fyaZprG+s1sriDbLsdF2hT/rNwI2joQD3FcfRTu73/r+tQsv6+X+SO31H4o6lq6zpqmj6PdRzTLcBJYJCIpQoXevz9wBkHKnHSs7Udbji8B6doNlfG5Ely9/eRiNkWKQgKsYyBnABJxxlvauZopf1/X4fcBb1S/Gp6jLdrZ2tkJMfuLRCka4AHAJOM4z16mqlFFABRRRQAUUUUAFFFFABRRRQB0q+OtTXSBZeTamUWJ08XhRvO+z7t3l/e247Z25xxmrMHxEvbYoINI0mOOG8W9tYkikVLaYIF3IA464BIbIz2rkaKd3/X3/AJ6hZbHUP44ll0pbO50PSbhgZXNxKsxdpZAQ0rL5mwvzwSvHGMVHqvjH+1dOW0bQNJt9kSQxywrMWjRW3YXfKyrk9SACcnnmubopAdJqPjjVL3ULK8tVTS57O1SzVtPlmiLxJ0VjvJ7diKu6l8StX1XVG1G6gtxdLYtZQurykQBgFLqGc4crkZ988muOooeu/wDVw2Oi0XxnfaLp0NktpZ3kVtdi9tvtKuTBMBjcu1l9BwcjgcUh8Y3Yt5vJsbGC+uIpIZ9RjRxPKrkl8/NsyckEhQccZrnqKHruC0OiPjO+XStGsra1tLY6LMZrS4iEnmBywYk5cqckA9Kuf8LH1aO5je0tLC1gEs801rFG/lXDTDbIXDOScjjAIx2xXI0UbgdY3xC1CWzfT57DT5tLMMUKae6yeVEI2LKykOH3ZZsksc5Oap6l4x1HVLXU47lIfO1W5We6nVSGZUHyRjnAQdcdeBzxXP0UbhsbSeJZk8Hv4c+w2htnuRdGc+Z5vmAbQc79vQ4xt/Wprrxjfz6XpFnaww6e2kK62tzZvKkwDnLZYuepPYD8q5+igDo/EnjjVfFOm6fZamVKWC7UYSys0nX5n3uwLcnnGe3SucoooDyCiiigD6g/Zq/5JtqH/YWk/wDRMNev15B+zV/yTbUP+wtJ/wCiYa9foJCiiigAooooAKKKKACiiigAooooAK5/x9/yTbxL/wBgm6/9EtXQVz/j7/km3iX/ALBN1/6JagD4grR0XWG0W6muI7aC4eS3eFRPGsiruGN21gQcehFZ1ORgsisyhwDkq2cH2OOaCj17WdKfVbufR7DTbS3tH0C1v7iSy02PzlcbWOwIFLMzcbcgc57Vz918MEsbPVbufWHlt9PlCM1pZ+cwUxCRWkUPmMHO3uAwOSBzVJ/iXqL6ibo6Vpex7AadNbFJWinhAAUMDITkY4IINVrTx/fafbXMWn6bptr56Sxq8MTqYkkRVZR8+GGFB+cMc5Ocmm7XbXn+f+Qo3Vk/L8l+tyXx14d0nR/HS6Po80kMJWBXa5U7YyyIS24Fic5JPAx0ArQv/hdJZx210uoT/YXt7m5uJJ7ExSRJAQCRGXO7duXbkrnIzisHU/GV7qniSz157Szg1C1MTGSJXxM0YUKXVmI6KPu4FbTfFnViVC6VpCxbpzJEYpWWVZzmVG3SHKlsN2IIGDjijp56/wDAH1+7/gmenhbRzp51aXXLpNHa4S1juBpwMplKb2Bj8zACjqQxz2BrRi+G0M0NvLFrqMtxo82qJ/orAkRk/IOfbknGOwNZsPj24i0+fTm0TRpdOklSaOze3fy4JFGA6kOGJI67i2e/FWLP4lalaWENs2maXcNDaTWSTSRSK4hlJLJhHVcc8YGRSezt/Wn+f4At1f8ArX/L8SzP8P8AS4DpkX/CRTvd6hZJfR2qaYzOY2Vm2rhzufK4C8A56ik1j4cx+Hri6l1rVZYdMheCNLmOz3yu8qbwDEXG3aoOfmPbGc1TX4i6gmo2t2mm6cPs2mnTPK2y7ZICMbW/eZzyeVINWbv4palfwS21/o+j3NrKkStbyQylN0Y2o4/eZDBeOuCOopytfT+tf8vxEr9f62/4Iv8AwgWnPoMWuQ67PJpjQ3DyzCwAMTxMqrGR5vVy646denXHKanpp0y4iiN3aXXmQpLvtZhIq7hnaSOjDuO1bl9r6J4Dj0i0vBJJqF899e28URjjtyBtRAMAHPLccDCjtWFqWoDUZ4pFsrWz8uFItlqhVX2jG45J+Y9z3pPf+v68vkNbf18inRRRQAUUUUAFFFFABRRRQAUUUUAelJ4Q0Y2iaWbQfbH8NnWPt/mvvEuC4Tbu2bNo2/dz3zWD4N/sq7mjs7/QLW7WJpLm9vriecGO3VQSFWN0APBwTnJYCoF8damukCy8m1MosTp4vCjed9n3bvL+9tx2ztzjjNV7jxTJLZ6nBa6bY2A1Mxib7IjKFRMYRQWOAWAY9ckCm3q2v61dvwt9wktEn/Wi/wCCdHpXhPTLvwj4g1i9tzFdNam6020WRsQReaFDk5yc5IXOchSe4rUu/hchMejaMbG7voJreLU7l55fPtnlI5WPhPLGcZ+Yn2rldG+Imv6Lo93psVy9xBcwiAefcTEwIO0YWQBenp7dKlf4l62ZnubeO0tr6ZoGuLyJG8y4MOCm7LFeoBO1RnHNGl/LT+v8w1s++v6f8Gx0zfDnTdQ1GFtPks08O2rT/a9ThuJHnPkrl1kVgFRj1G1SADnLd2J4B083FxrOprplnoMNtHLavbXc7Q3TSOVTfIwLrgg7sKOnQda52P4k6rbzZsrLT7W2kmmmuLSONzFctKu194ZycY4ABAHaov8AhYGoGzfT5LGwfSmtkthpzLJ5SqrlwwO/fu3EnO7vSX9fr/wB/wBfj/w9zqrf4bR2klxJrMGlQ391efY9N097qZbWRtituDgl2yGXaCy8nk9BVY/DsWmg+UYLG48RXNtLeNYXFxKjW8Klh+6VeHcbSfmbt0PJrEPxM1iafzb21sbwx3i3lsJo3xayKoVdm1xwAq8NuHyioj8RdZeBDNHay30cEttHqLo3npHISWUYbb/E2CVJGTijp/Xb/PfyBXvr/Wv+X4nUXfwuQmPRtGNjd30E1vFqdy88vn2zykcrHwnljOM/MT7UrfDnTdQ1GFtPks08O2rT/a9ThuJHnPkrl1kVgFRj1G1SADnLd+Zf4l62ZnubeO0tr6ZoGuLyJG8y4MOCm7LFeoBO1RnHNLH8SdVt5s2Vlp9rbSTTTXFpHG5iuWlXa+8M5OMcAAgDtTf4/wDDfhuJef8AXf5nSr8P9OHna3qQ0q00byohYeTeTm3u3kZgpkkILjG07sKvb7vJot/hqLQSDVbbS01m+u5LfT9LmupktyEAJKspLMTkbQzqOeSelcsfiFqD6cdMm0/T5dK8qOJNPZZfKj2MXDKQ+/dlmySxznFTH4na3LcLc3sFjeXEN213ayzRtutZGAHybWAxwMBgwyBSdun9bfjuGv8AXp+Rsv8ADtbfw6kFtFZXniCay+3z21xPKkltCTgeUi4ViBySzH/d70a/4R0vwvbPJDY2OuQaRPHFqzfbJo7jzGH3dowqRk8AjceOoPTnj8QtYa1VWjtTerZmxGo7X8/ySclc7tvqM7c4PWk1Hx7faoLgXdjYr9tmhm1BoldWvDF90PliBnqdoXJpvf8Arv8A5fiP+v6+ewnilNPg0jSVh0W003UbiM3U4tpJ2CxNxGpEkj8kAt24Za5er2s6tc67rFzqV7sE1w+4qgwqDoFUdgAAAPQVRqRhRRRTEfUH7NX/ACTbUP8AsLSf+iYa9fryD9mr/km2of8AYWk/9Ew16/QSFFFFABRRRQAUUUUAFFFFABRRRQAVz/j7/km3iX/sE3X/AKJaugrn/H3/ACTbxL/2Cbr/ANEtQB8QU9I3lLCNGcqpY7RnAHU/SmVf0jWr7Q7mW40yYwTyQvD5qkhlVhglSOh96CimsUjxu6IzImN7AZC54GfSmV7Xrseo6/fXFjeX876XH4atLy5he5VN7gKVw8nyoS3ViDxmuf8A+EB8Oy2Or3WlXl3rAs2Lxw2tzEriIRKxblcShXbaxXGAM4PSnaza/rewovmSt1/yv+p5pRXb/ELTdIsviMNP0+xe1tVW3WSOOVQCGjQ/L8vynnkndk8+1bd/8PfDcGr63Day6kbbQmjjumubyCLzWkYBdrsoCgDeTnJJAAxmha/1/XcL2/D8Ty2iu61nwr4e8PQwTz3F9qttqU1wthPYyooCRttUsCh3kseQCvA4zmut0DwbaeGvFXhvUtOlvoZW1n7BNFcTRszr5YbcVQZjJB5RiSBjNC1CT5U/62PGKK9O8aRW2o+G/DX9rap9jCQagY5JInl3ss5CR8cjOAM9BXmNSmU1ZhRRRTEFFFFABRRRQAUUUUAFFFFABRRRQAUV6umiaZ9lj0c2Fr9nfwmdTN15C+b9owX3+ZjdjI27c4x2rmfBGoOrNFNYaY+nWAe+vp7jT4Z5XQAAR7pFbGWAUAY5cmm1ZtPp/m1+gbpP+tk/1OOor1220vTLubTNNl0yxW31XQLjUp50tkDxzHe4KuBlVTYFCggYzxzWFcatYweCbe/vtB0mK8OoRyaXALVQWgQYfzSMNIhOBliSTu7Ck9N/61t+n3Bvt/Wlzz+ivWdLSG7WCDWdM0uTUbfS7nWWij02CEf6v9xEwRBuGP3hBznK56VWMUay+F7vT9G0p77WLJXu/tFpGYYljlYPJ5ZGxQygZbAwFOME5p21s/63/wAmK+l/66f5o8vor0ew1XT5fFmqf2Npelr4csria+lkn06GaR4RgCMNKrbQzABQMY31rW2l6ZdzaZpsumWK2+q6BcalPOlsgeOY73BVwMqqbAoUEDGeOan7PN/Wzf6Mrrb+t0v1R5FRXoFxq1jB4Jt7++0HSYrw6hHJpcAtVBaBBh/NIw0iE4GWJJO7sK2dLSG7WCDWdM0uTUbfS7nWWij02CEf6v8AcRMEQbhj94Qc5yuelN6X8v8AK/8An9wlrbz/AM7f16nk1FerQR26T+Fbu30XSDNqtos2ovcWcZhiiikZXk2EbEDKASwAPy8dazNI1ezOsapNp+k6WPDumyz3bNcadDNJMjNiKIvIrEZO1QBjAJ9KHo7ev4CTurry/E88or1r+ydMkVdMk06y+zy+FW1Vp1t0WQXBzJuEgG4LkbdoO3HGKxr/AFiztfCWnX93oOjxam1+ZrG2FmoBtAhH70DBkUtjBfJOCelN6Oz/AK1t+n3DWuq/rS/9eZ59RXW+Mrp47DS9NvLSwi1FY/tN29tYQ27KZACkZ8tF6JgnPd/auSpB0CiiigD6g/Zq/wCSbah/2FpP/RMNev15B+zV/wAk21D/ALC0n/omGvX6CQooooAKKKKACiiigAooooAKKKKACuf8ff8AJNvEv/YJuv8A0S1dBXP+Pv8Akm3iX/sE3X/olqAPiCnI5jkV1wSpyNygj8QeDTaekbylhGjOVUsdozgDqfpQUdEfiD4lOpJfi+hW4S2+yZWygVWhwB5bKE2svAwCDjtUX/CceIRBPEL5VWfeG220QKB1CMEIXKAqqjC4GBWEsUjxu6IzImN7AZC54GfSmUAa2o+JtU1bULa+1GaGa6tgqpKbWIFguAu/C/PgAD5s1cXx54iXVb7UftsbXGoIEu91pC0c4HTdGU2E++M1ztFAHQxePPEkNnJapqRMTyvMN8MbNG7DDNGxXMZOf4SKtn4neLDMsp1GEyJOLgN9gt8+aBjf9zlsd+pwK5OigDopfHniGeKOOS6t9kcUsKBbGBdqS/6wDCdyc1ztFFAwooooEFFFFABRRRQAUUUUAFFFFABRRRQBsjxZrS6ONMF7/ooh8gfuk3+Vu3eX5mN+zPO3OPakvvFWrajBexXc8bC/kje5KQIhkKDCD5QMAegxzyax6KNwNmDxZrVtpA0yG8xaiN4VBhQusbHLIHK7gpI5UHB/GrF7431zUbU293JZtEyxo4TT7eMuiEFULIgYqCBxnHFc9RRcLGt/wk+r/wDCRvrovCNRdiWlCLg5G0jbjbtxxtxjHFW4vHWvRTSyC4tX82BbZkl0+3dBEvRFRkKquecAAE8mueoo6WA2L3xTq2oW97DczoVvnje42Qom/wAsYRflAwoHRRgUsHizWrbSBpkN5i1EbwqDChdY2OWQOV3BSRyoOD+NY1FAHQ3vjfXNRtTb3clm0TLGjhNPt4y6IQVQsiBioIHGccVU/wCEn1f/AISN9dF4RqLsS0oRcHI2kbcbduONuMY4rJooA6NPHmvp5o8+0kSaJIWjl063kQRp91ArRkKoPOAAM89apX3ifVdStbqC7uFZLy4W4uNsSoZHVdq52gYAGcKMAZ6Vk0UAbSeLdbj0ldOW8H2ZYvIAaGMv5W7d5e8ru2Z525x7VYvfHWu6gu28ls3UvG7hNPgj8zy/uBiiAso9CcVztFO7As6hf3OqajPfX8pmubhzJLIQBuY9eBwPoKrUUUthhRRRQI+oP2av+Sbah/2FpP8A0TDXr9eQfs1f8k21D/sLSf8AomGvX6CQooooAKKKKACiiigAooooAKKKKACuf8ff8k28S/8AYJuv/RLV0Fc/4+/5Jt4l/wCwTdf+iWoA+IKv6RrV9odzLcaZMYJ5IXh81SQyqwwSpHQ+9UKcjmORXXBKnI3KCPxB4NBR7Trseo6/fXFjeX876XH4atLy5he5VN7gKVw8nyoS3ViDxmuf/wCEB8Oy2Or3WlXl3rAs2Lxw2tzEriIRKxblcShXbaxXGAM4PSuZPxB8SnUkvxfQrcJbfZMrZQKrQ4A8tlCbWXgYBBx2qL/hOPEIgniF8qrPvDbbaIFA6hGCELlAVVRhcDApvdtef53/ACFFWsn5fkjQ+KFjpmm+N5rPR7I2cUUMOUDgqSYkOQAox15yTk5NdRf+Hkj+D7WEIgXUtJEOrSGOdDN+9yHDIDuXahiOSB0rz3UvEup6xqFve6lLBcXNuqqkjWsWWCgAb8L+8wAB82atR+N9ej1i91RbqD7XfxGG5c2UJEqHgqVKbecDOBzS+y1/Xl/wR9U/67P9Tutc1HUW+K/gySO8uSXs9PIYSt8wbG/nPQ4OfXvWVq1/eaV8O9P1fSbudL3V9Quft+oRykSkoQEjL9QMZbGea5lPG+vpYw2i3key3iaGBzaxGWFG6qkhXeo5PAIx2qnp3iLU9KsZrK0mja0nYPJb3EEc8ZYdG2yKQD7gZpvW/q/xdwjol8vwTRc1m4l1jT01bWr7bqm2OKOB7d991EAR5xkPBORt9Tj2rArZ1LxZrOr2T2l/cxvbsyN5aW0UYXYu1Qu1RtAB6DA9qxqXVh0QUUUUAFFFFABRRRQAUUUUAFFFFABRRRQB6umiaZ9lj0c2Fr9nfwmdTN15C+b9owX3+ZjdjI27c4x2rmfBGoOrNFNYaY+nWAe+vp7jT4Z5XQAAR7pFbGWAUAY5cmsceLNaXRxpgvf9FEPkD90m/wArdu8vzMb9meduce1JfeKtW1GC9iu542F/JG9yUgRDIUGEHygYA9Bjnk029W1/Wr/r5CS0Sf8AWi/4P3nf6J4NNz4F17VLrRGm1DUbL7XaGO1PlWyGUYWPAwGI3HA+6oHqa1E8BaNNrEfh+wnt/L0q5tE1VJrJRNceYVy6TkkgZIXaoXj1ryfTPEOpaPZXtpp8sUcF8nl3CvbxyGRc5xllJAzzxVq48aeILqBYpdRbgxEyJEiSP5X+r3SKAzbe24noKNE0/T+v63FZtO/n+n9eR6ToWlaVrQj1LUtFs4/surXtq/kWsaRxQLCXDyJgK4jPPPJ6c9KmPh7Ro764uZo9OgtG0a2eHXvsUT2pkaXaXMBGFL/cxjIwTxXmj+O/Eb3sN1/aCpJCZGUR28SIxk4kLIFCuW7lgc0weNdeDyE3kbRyQLbtbtaxND5atuVREV2DB5GB1J9aS0t/XT+n+dyur/rrf+v+HO2l0mxg8UfECxl0SzhS302W5tQUDmEjZtaM9FBD7uOmQO1S6Ho2hal4Vja3/sqWxj0K4k1AsI/tkF2pJD8jeFztAwduOO/PBw+Mtdgu9Rulu0efU0Md3JNbRSGVDj5fmU4XgcDA4HpVT+39SGinSY51ismYNJHDCkZlI5G9lAZ8dtxOKVvdt5W/P/P70NfFfz/y/wAvuZ3NppMXi/4drDpFtpMmqw31vGy29p5D20bgoAZMZlyw3EknHP4aOvaNo3hWPwle3WjSw2EUd3HdTXGn72nlBYRtIjgA7iNwVjwPavOdT8T6tq9t9nvbiPyiwd0ht44RIwGAz7FG8gd2yeTViPxprkVvZW6z2xhsI3it0exgYKj/AHwQU+YHPOc+tU3u/P8ASxKWlv63PQv+EY0m0sZfFWt39neWUkFuunywaPHEiGVnBeW2jKqSu09Sc++AKmXwHaaPMlnqV5Y/29rN9Lb2dw2mJLbIqBcARcIhcsOdrY7AcmvNo/GWuxS3Di8RluI0jkhktonh2ocoBGylFCnpgDHPrUkXjrxJCZGGpF3kuGud8sMcjJKwwXRmUlDj+7jt6Unb+vl/wdQ1/r0/rQ2JdMjb4UyL/Z9qNTh18WfnxRjzHHlsdu703dhgcCuh1TwjY+GvBOky6ho8paz1tBql49qT5kexS2CRzHk7R2YjPevOR4j1MeH30Tzojp7y+c0Ztoyxk/vb9u7OOM56cVPZ+LtZ0/TLbT7S4hS2tbj7VEhtIWKy9N2SpJOOOSeOKd9/l+Fv8mN6/j+N/wDM2PG9rHcaXpuuafdWc+nXskyRRw6XDYyQspBKMsf3wARhiT+Ga4yr+p6zfau0X26RCsIIiihhSGOME5O1EAUZPJwOaoVKVht3CiiimI+oP2av+Sbah/2FpP8A0TDXr9eQfs1f8k21D/sLSf8AomGvX6CQooooAKKKKACiiigAooooAKKKKACuf8ff8k28S/8AYJuv/RLV0FV7+xt9U025sL6PzbW6heGaPcV3IwKsMjBGQTyKAPgiivr/AP4Ub8Ov+he/8nbj/wCOUf8ACjfh1/0L3/k7cf8Axygdz5Aor6//AOFG/Dr/AKF7/wAnbj/45R/wo34df9C9/wCTtx/8coC58gUV9f8A/Cjfh1/0L3/k7cf/AByj/hRvw6/6F7/yduP/AI5QFz5Aor6//wCFG/Dr/oXv/J24/wDjlH/Cjfh1/wBC9/5O3H/xygLnyBRX1/8A8KN+HX/Qvf8Ak7cf/HKP+FG/Dr/oXv8AyduP/jlAXPkCivr/AP4Ub8Ov+he/8nbj/wCOUf8ACjfh1/0L3/k7cf8AxygLnyBRX1//AMKN+HX/AEL3/k7cf/HKP+FG/Dr/AKF7/wAnbj/45QFz5Aor6/8A+FG/Dr/oXv8AyduP/jlH/Cjfh1/0L3/k7cf/ABygLnyBRX1//wAKN+HX/Qvf+Ttx/wDHKP8AhRvw6/6F7/yduP8A45QFz5Aor6//AOFG/Dr/AKF7/wAnbj/45R/wo34df9C9/wCTtx/8coC58gUV9f8A/Cjfh1/0L3/k7cf/AByj/hRvw6/6F7/yduP/AI5QFz5Aor6//wCFG/Dr/oXv/J24/wDjlH/Cjfh1/wBC9/5O3H/xygLnyBRX1/8A8KN+HX/Qvf8Ak7cf/HKP+FG/Dr/oXv8AyduP/jlAXPkCivr/AP4Ub8Ov+he/8nbj/wCOUf8ACjfh1/0L3/k7cf8AxygLnyBRX1//AMKN+HX/AEL3/k7cf/HKP+FG/Dr/AKF7/wAnbj/45QFz5Aor6/8A+FG/Dr/oXv8AyduP/jlH/Cjfh1/0L3/k7cf/ABygLnyBRX1//wAKN+HX/Qvf+Ttx/wDHKP8AhRvw6/6F7/yduP8A45QFz5Aor6//AOFG/Dr/AKF7/wAnbj/45R/wo34df9C9/wCTtx/8coC58gUV9f8A/Cjfh1/0L3/k7cf/AByj/hRvw6/6F7/yduP/AI5QFz5Aor6//wCFG/Dr/oXv/J24/wDjlH/Cjfh1/wBC9/5O3H/xygLmB+zV/wAk21D/ALC0n/omGvX6x/DXhTRfB+myWHhyz+x2skxmePzXky5AUnLknoo49q2KBBRRRQAUUUUAFFFFABRRRQAUUUUAFY2oeJEsPEVpow068ubi8gknieHytm2MqGBLODn517Vs1wviZ45fiv4btk1VtPnOn3uGiaLectBgYdWHOD2zxQt0vX8mNdTsdOvRqNhHciCa2L5BhnADoQSCDgkdR2JFWa4C9mv9M8c6Hp0epzXl2mg3bGJ7llW6nQwhHZM4JOX5x3PpUGi65bsfCwuLy+udXvpNl5H9vdTDN5LNIstuTtVRggDAwduOuaq19v61a/T8hPT+vK56NRXnWmXge31PRrnVLv8AtVdfPl2zX8gn8jzlZdo3bvL8ok8cYz6VmXmsTwfELU1GqXUVjbaxaLJcDUHeO1QwgsjRE7Qjt8pJ4UtnjFStbef/AAP8xvS/lf8AA9Ypk00dvC80zBI0G5mPYV5xBq0Z+IWuRTaxi2g1K0VEbVpQU3RL8iQglWDOQCPc8V6NcTR29vJLPIkUaKSzuwAUepJpN+7zBbWxQXxFpb6DHrMVyZrGVcxPDE8jS84AVFBZiewAJNTaRq9jrumx3+lz+fbyEgMUZCCpIZWVgCpBBBBAIIri/BevaRZ/B3R7i81u3063MIgN6JY8QyEnGWYFQf8AeGKf4Za40m0sbK51tYreXWJls5mt0L6tGyM/zEAAMWLtvUDcEB/iq7atCei/rzOq8R69H4a0SXU7i0ubuKJlDpbbN43EKD87KOpHetKNi8SsyNGWAJRsZX2OCR+Rrk/ijdQWvw71B7qeOFS0QBkcKCfNU45+lVfGPiyM2cVvoV6JkS6tjqdxZyhjbWryYZty/dzg8jkLk5GM1K1dvMDuKgu7o2qxFbae48yVYyIVBKZONxyR8o715lq+u32lRa/Pa6nLJ4dt7uxMd010WbDti4iScngY2/MWAUsRuXtX/tiKLQv7UsfEzTRXHiW0jh2a19p8q3MqAxOVkZeQXJAP3SM9KcVzNL0/G3+YpOy/rs/8j1p3WKNpJGCIoJZmOAB6mq5vgbm1jhhlmiuUZxcRgGNAACNxznnPGAehry/Ub271L/hKdNluLjUkm06/eCa0vJMR7SAIZYP+Wbg8KV++u7I5NXo9ZhtH8HDQNUN0txYXJWD7e0i3DrCCoOWOcNwPTp2qb6Xf9b/5FNWaXr+n+Z6ZRXHeBdU0vWYIb221W7u9Ua1VdQtpbmRlgl4LBoidsThiRgBePUCq/ig/bPiRoWkNrN5YwXVjdPLDa3hhMjK0Wzocg/M3IwTjHSr5bS5RLVXO5orzDRdV1HUvEF2t14kWy1axvLoPpBhlZ2hG9YiV8wqU27H3iPk8ZyTnP8La9ba4UvB4kfzLbRHa8t21ze7XPeURLKSigbuGVcbl+UEcRfS/lf8ABv8AQOtvl+Nj1+ivIbbVLrTvA/hLUbjxFci01VIm1TU72eSaOF/I+UEq6eUpfqQw5AznJzdv9RvdLbRUXXJdahWNN6RXElrPMGnwksQyROBgKVYnK4OTu5txtLl87EqV483lc9MuZjbWks4hknMaFxFEAXfAzhQSOT9adFJ5sKSFGjLKG2OMMuex968vl1y6jv8AxHHPqM0yLZXs0F7b3zqtvsYARyxHiJ1OAjL94bs1HBrlxe296NV1e6tFTQrWbSZobtk+0SGMmRxg4lcSBQVO7tx8xzF9L+j/AD/yLt71vX9P8z1eivLnu7zUNTS18Q6rdWF1/wAIwt1d21tqD24iuQRlvlYFSPTp65Fdr4L1KTV/AeiahdTiaa4sIZJpQR8zlBuPHvmqto32/wA2v0I5ru39bJ/qblFeP2epNJHpV03iO9L3Hie605v+Jk217bfKAm3djoqYbG4Z4IzVm31u7gK6fHqdxLott4kktLy7a8d5YLfydyK0xYuFMhC7ic44zQtf69P81+JUvddn/W//AMi/wPV6zdI1y31mbUYreKaJ9OujaTCVQMuEV8jBORhxXnsviLU9M877XeTf8It/bwg/tRpmLJamDcf3uc7BN8nmZ4GRnvWZHrQ0n+120zU/s+kz+J/9M1GWSScRQNaoVcuHD7DIAu8MAB3xRFX+7/5H/MHp/Xr/AJHqs+uW9v4ltNEkhm+0XdvJPFIAvl7YyoYE5zn517d60q810uaKHx54Vhl12PV2aw1Ex3JJHmK0kJQLuZiwAGAxJ3Bc5Nb3jrVIbGPTrW4uZ7Zb6V4VdbtrWMtsJAaVfnB/uhcFjxSlpFP+t2PS5uavrEekxxAW895czllgtLbb5kxCljjeyqMAE5JA/EirNleRX1qs8J4PDKSCUYcFTgkZB4I9RXlek30Gu3Hw5uNX1KV7+W0nWci8eJ2kEYByFYfNuyD3PQ+lUtP1L+wPDIhtdSayhHiO7i1eeeaWb7HEZZmjLgSBowx8vLArkHJJzVWs2v63sLpf+tm/0PaKjuLiK0tZbi5kWKGFC8jscBVAySfwrzSYGXUvCmlSeMLu4gvje7ri1umgNxHgmMKSzMQucB9xJwOTXS/ElIV+FfiFJ5WRF02YBjKVJIQ4BYEE5OOO/TvUy0VyoJSmomzpWrnVDIf7OvLSNVV45LlUCzqwyGXax/ENgjuK0a8rTUIrC+1+2tNauVgj8MQXMQfUpJPLlJl+dSznaeE6e1Fnq19YahaDR9SuNRvL/wAKyXotri9aYS3KCPYVViQpO5shQAce1N6Nrt/wf/kWQr6edvx5f/kj1So2uIUuEgaVBNIpZIy3zMBjJA9sj864DwdqN/f2Muo6Hrtr4guHt40ksLiSa3SCUH5zIxMxjfnGwKvToOtP1aJP+FqeGLnXH+wzz6ZdRbYb+QRGbfCRGjfJuJAY42jcByOOHy+9b1/J/wCQJ3Vz0CivJtC8RGS98J2cmtXMl5Bqt9bajDJduWVQs+xZgT/ubd3timadqzRw6ZqZ1+7kmPimewxJqDNG9uZZFCFC21sKFIJGRxg4pW1Xn/ml+oX91y7f5N/oeq2l0bpZS1tPb+XK0YEygF8HG4YJ+U9qnrye715/7DuvL1+ZXj8XR2qyLencITNGpTOfu7S3H1pl34hOhrr1sdZnfTdP8QW0UnnX7NKkEkSF0E7vlB5jE5ZgAARkUo6xT9P/AG3/AOSH1a7X/N/5HrdFcR4J1nTYtP8AMl15L46pqUsVkP7RN7tABZIt4d1DBAScH0ySea7emAUUUUgCiiigAooooAKKKKACiiigAooooAKKKKACiiigAooooAKKKKAMjxHo1xrWnxRWV8LKeC4S4jd4fNjZkOQrpldy+wIOQDninaNoz6fcXV9fTQ3Go3uz7RNBAYY2CDChULMQOT1Ynnr0A1aKFoG4UUUUAFFFFAEN7b/bLCe2EskJmjaPzYjhkyMZB9RXP6L4Wu7OTT31m/tb46UjR2Rt7E25UFdpL5kfc2M9No5PHTHTUULQHqFFFFABRRRQAUUUUAFFFFABRRRQAUUUUAFFFFABRRRQAUUUUAFFFFABRRRQAVjeI9FutZt7Q6fqC2NzZ3K3MZlh86KQgEbZI9ylhznhgQQDnitmigDL0bRzprXdzcSxz319IstzLFD5SMwUKNqZYgYHdifetSiigAooooAKKKKAP//Z\" />"
   ]
  },
  {
   "cell_type": "code",
   "execution_count": 18,
   "metadata": {},
   "outputs": [
    {
     "name": "stdout",
     "output_type": "stream",
     "text": [
      "          Importance\n",
      "MMSE        0.362151\n",
      "AGE         0.297750\n",
      "PTEDUCAT    0.160082\n",
      "Male        0.019854\n",
      "Female      0.019552\n",
      "0           0.018643\n",
      "False       0.016984\n",
      "True        0.016215\n",
      "2,3         0.012140\n",
      "3,3         0.010497\n"
     ]
    }
   ],
   "source": [
    "# https://towardsdatascience.com/running-random-forests-inspect-the-feature-importances-with-this-code-2b00dd72b92e\n",
    "feature_importances = pd.DataFrame(rf_clf.feature_importances_, index=X_train.columns, \n",
    "                                   columns=['Importance']).sort_values('Importance', ascending=False)\n",
    "print(feature_importances[:10])"
   ]
  },
  {
   "cell_type": "markdown",
   "metadata": {},
   "source": [
    "### Conclusion: Feature Importance\n",
    "* Cognitive test score (MMSE), age (AGE), years of education (PTEDUCAT) are considered the three most important features by far\n",
    "* Interestingly, the genetic information (APOE4 and APOE4 Genotype) was not considered very important by the model"
   ]
  },
  {
   "cell_type": "code",
   "execution_count": null,
   "metadata": {},
   "outputs": [],
   "source": []
  }
 ],
 "metadata": {
  "kernelspec": {
   "display_name": "Python 3 (ipykernel)",
   "language": "python",
   "name": "python3"
  },
  "language_info": {
   "codemirror_mode": {
    "name": "ipython",
    "version": 3
   },
   "file_extension": ".py",
   "mimetype": "text/x-python",
   "name": "python",
   "nbconvert_exporter": "python",
   "pygments_lexer": "ipython3",
   "version": "3.9.13"
  }
 },
 "nbformat": 4,
 "nbformat_minor": 2
}
