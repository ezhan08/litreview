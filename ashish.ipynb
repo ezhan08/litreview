{
 "cells": [
  {
   "cell_type": "markdown",
   "metadata": {},
   "source": [
    "# Alzheimer's Prediction (Multi-Class) - Encoding\n"
   ]
  },
  {
   "cell_type": "markdown",
   "metadata": {},
   "source": [
    "### Variable Descriptions\n",
    "* `directory.id`\tId assigned to imaging directories. Not from LONi data\n",
    "* `Subject (PTID)`\tParticipant ID\n",
    "* `RID`\tParticipant roster ID\n",
    "* `Image.Data.ID`\tMRI ID\n",
    "* `Modality`\tImage type\n",
    "* `Visit`\t1=screening scan\n",
    "* `Acq.Date`\tMRI date\n",
    "* `DX.bl`\tDiagnosis at baseline\n",
    "* `EXAMDATE`\tExamination Date\n",
    "* `AGE`\t    Age at baseline\n",
    "* `PTGENDER`\tSex\n",
    "* `PTEDUCAT`\tYears of Education\n",
    "* `PTETHCAT`\tEthnicity\n",
    "* `PTRACCAT`\tRace\n",
    "* `APOE4`\tAPOE4 genotype\n",
    "* `MMSE`\tMMSE score on cognitive test\n",
    "* `imputed_genotype`\tChallenge specific designation, TRUE=has imputed genotypes\n",
    "* `APOE Genotype`\tAPOE allele 1 and allele 2 genotypes\n",
    "* `Dx Codes for Submission`\tThe LMCI in the ADNI data is equivalent to MCI in test. This column just converts LMCI->MCI"
   ]
  },
  {
   "cell_type": "code",
   "execution_count": 1,
   "metadata": {},
   "outputs": [],
   "source": [
    "import numpy as np\n",
    "import sklearn as sk\n",
    "import pandas as pd\n",
    "import os"
   ]
  },
  {
   "cell_type": "code",
   "execution_count": 2,
   "metadata": {},
   "outputs": [],
   "source": [
    "#Read data\n",
    "dat = pd.read_csv('AD_Challenge_Training_Data_Clinical_Updated_7.22.2014/ADNI_Training_Q3_APOE_CollectionADNI1Complete 1Yr 1.5T_July22.2014.csv')\n",
    "\n",
    "#Check NA values, 1 NA for imputed_genotype\n",
    "# dat.isnull().sum()"
   ]
  },
  {
   "cell_type": "code",
   "execution_count": 8,
   "metadata": {},
   "outputs": [
    {
     "data": {
      "image/png": "[encoded data removed]",
      "text/plain": [
       "<Figure size 432x288 with 1 Axes>"
      ]
     },
     "metadata": {
      "needs_background": "light"
     },
     "output_type": "display_data"
    }
   ],
   "source": [
    "plt.bar(Y.value_counts().index, Y.value_counts())\n",
    "plt.show()"
   ]
  },
  {
   "cell_type": "markdown",
   "metadata": {},
   "source": [
    "### Convert Categorical Variables to 1-Hot\n",
    "* Next time use `sklearn.preprocessing.OneHotEncoder`"
   ]
  },
  {
   "cell_type": "code",
   "execution_count": 9,
   "metadata": {},
   "outputs": [
    {
     "name": "stdout",
     "output_type": "stream",
     "text": [
      "Converting imputed_genotype to 1-hot encoding\n",
      "Converting APOE Genotype to 1-hot encoding\n",
      "Converting PTGENDER to 1-hot encoding\n",
      "Converting APOE4 to 1-hot encoding\n",
      "Converting PTETHCAT to 1-hot encoding\n",
      "Converting PTRACCAT to 1-hot encoding\n"
     ]
    },
    {
     "data": {
      "text/html": [
       "<div>\n",
       "<style scoped>\n",
       "    .dataframe tbody tr th:only-of-type {\n",
       "        vertical-align: middle;\n",
       "    }\n",
       "\n",
       "    .dataframe tbody tr th {\n",
       "        vertical-align: top;\n",
       "    }\n",
       "\n",
       "    .dataframe thead th {\n",
       "        text-align: right;\n",
       "    }\n",
       "</style>\n",
       "<table border=\"1\" class=\"dataframe\">\n",
       "  <thead>\n",
       "    <tr style=\"text-align: right;\">\n",
       "      <th></th>\n",
       "      <th>AGE</th>\n",
       "      <th>PTEDUCAT</th>\n",
       "      <th>MMSE</th>\n",
       "      <th>False</th>\n",
       "      <th>True</th>\n",
       "      <th>2,2</th>\n",
       "      <th>2,3</th>\n",
       "      <th>2,4</th>\n",
       "      <th>3,3</th>\n",
       "      <th>3,4</th>\n",
       "      <th>...</th>\n",
       "      <th>Male</th>\n",
       "      <th>0</th>\n",
       "      <th>1</th>\n",
       "      <th>2</th>\n",
       "      <th>Hisp/Latino</th>\n",
       "      <th>Not Hisp/Latino</th>\n",
       "      <th>Unknown</th>\n",
       "      <th>Asian</th>\n",
       "      <th>Black</th>\n",
       "      <th>White</th>\n",
       "    </tr>\n",
       "  </thead>\n",
       "  <tbody>\n",
       "    <tr>\n",
       "      <th>0</th>\n",
       "      <td>81.3</td>\n",
       "      <td>18</td>\n",
       "      <td>20</td>\n",
       "      <td>0</td>\n",
       "      <td>1</td>\n",
       "      <td>0</td>\n",
       "      <td>0</td>\n",
       "      <td>0</td>\n",
       "      <td>0</td>\n",
       "      <td>1</td>\n",
       "      <td>...</td>\n",
       "      <td>1</td>\n",
       "      <td>0</td>\n",
       "      <td>1</td>\n",
       "      <td>0</td>\n",
       "      <td>0</td>\n",
       "      <td>1</td>\n",
       "      <td>0</td>\n",
       "      <td>0</td>\n",
       "      <td>0</td>\n",
       "      <td>1</td>\n",
       "    </tr>\n",
       "    <tr>\n",
       "      <th>1</th>\n",
       "      <td>67.5</td>\n",
       "      <td>10</td>\n",
       "      <td>27</td>\n",
       "      <td>1</td>\n",
       "      <td>0</td>\n",
       "      <td>0</td>\n",
       "      <td>0</td>\n",
       "      <td>0</td>\n",
       "      <td>1</td>\n",
       "      <td>0</td>\n",
       "      <td>...</td>\n",
       "      <td>1</td>\n",
       "      <td>1</td>\n",
       "      <td>0</td>\n",
       "      <td>0</td>\n",
       "      <td>1</td>\n",
       "      <td>0</td>\n",
       "      <td>0</td>\n",
       "      <td>0</td>\n",
       "      <td>0</td>\n",
       "      <td>1</td>\n",
       "    </tr>\n",
       "    <tr>\n",
       "      <th>2</th>\n",
       "      <td>73.7</td>\n",
       "      <td>16</td>\n",
       "      <td>29</td>\n",
       "      <td>0</td>\n",
       "      <td>1</td>\n",
       "      <td>0</td>\n",
       "      <td>0</td>\n",
       "      <td>0</td>\n",
       "      <td>1</td>\n",
       "      <td>0</td>\n",
       "      <td>...</td>\n",
       "      <td>1</td>\n",
       "      <td>1</td>\n",
       "      <td>0</td>\n",
       "      <td>0</td>\n",
       "      <td>0</td>\n",
       "      <td>1</td>\n",
       "      <td>0</td>\n",
       "      <td>0</td>\n",
       "      <td>0</td>\n",
       "      <td>1</td>\n",
       "    </tr>\n",
       "    <tr>\n",
       "      <th>3</th>\n",
       "      <td>80.4</td>\n",
       "      <td>13</td>\n",
       "      <td>25</td>\n",
       "      <td>0</td>\n",
       "      <td>1</td>\n",
       "      <td>0</td>\n",
       "      <td>0</td>\n",
       "      <td>0</td>\n",
       "      <td>1</td>\n",
       "      <td>0</td>\n",
       "      <td>...</td>\n",
       "      <td>0</td>\n",
       "      <td>1</td>\n",
       "      <td>0</td>\n",
       "      <td>0</td>\n",
       "      <td>0</td>\n",
       "      <td>1</td>\n",
       "      <td>0</td>\n",
       "      <td>0</td>\n",
       "      <td>0</td>\n",
       "      <td>1</td>\n",
       "    </tr>\n",
       "  </tbody>\n",
       "</table>\n",
       "<p>4 rows × 22 columns</p>\n",
       "</div>"
      ],
      "text/plain": [
       "    AGE  PTEDUCAT  MMSE  False  True  2,2  2,3  2,4  3,3  3,4  ...  Male  0  \\\n",
       "0  81.3        18    20      0     1    0    0    0    0    1  ...     1  0   \n",
       "1  67.5        10    27      1     0    0    0    0    1    0  ...     1  1   \n",
       "2  73.7        16    29      0     1    0    0    0    1    0  ...     1  1   \n",
       "3  80.4        13    25      0     1    0    0    0    1    0  ...     0  1   \n",
       "\n",
       "   1  2  Hisp/Latino  Not Hisp/Latino  Unknown  Asian  Black  White  \n",
       "0  1  0            0                1        0      0      0      1  \n",
       "1  0  0            1                0        0      0      0      1  \n",
       "2  0  0            0                1        0      0      0      1  \n",
       "3  0  0            0                1        0      0      0      1  \n",
       "\n",
       "[4 rows x 22 columns]"
      ]
     },
     "execution_count": 9,
     "metadata": {},
     "output_type": "execute_result"
    }
   ],
   "source": [
    "#for each categorical var, convert to 1-hot encoding\n",
    "for var in cat_vars:\n",
    "    print('Converting', var, 'to 1-hot encoding')\n",
    "    \n",
    "    #get 1-hot and replace original column with the >= 2 categories as columns\n",
    "    one_hot_df = pd.get_dummies(X[var])\n",
    "    X = pd.concat([X, one_hot_df], axis=1)\n",
    "    X = X.drop(var, axis=1)\n",
    "    \n",
    "X.head(4)"
   ]
  },
  {
   "cell_type": "markdown",
   "metadata": {},
   "source": [
    "### Remember:\n",
    "* PTGENDER: (Male, Female)\n",
    "* PTETHCAT: (Hisp/Latino, Not Hisp/Latino, Unknown)\n",
    "* PTRACCAT: (White, Black, Asian)\n",
    "* APOE4: (0, 1, 2)\n",
    "* APOE4 Genotype: (22, 23, 24, 33, 34, 44)\n",
    "* imputed_genotype (True, False)"
   ]
  },
  {
   "cell_type": "markdown",
   "metadata": {},
   "source": [
    "## Logistic Regression before encoding"
   ]
  },
  {
   "cell_type": "code",
   "execution_count": 12,
   "metadata": {},
   "outputs": [],
   "source": [
    "from sklearn.linear_model import LogisticRegression\n",
    "\n",
    "\n",
    "from sklearn.model_selection import cross_val_score"
   ]
  },
  {
   "cell_type": "code",
   "execution_count": 13,
   "metadata": {},
   "outputs": [
    {
     "name": "stdout",
     "output_type": "stream",
     "text": [
      "Validation Accuracy =  69.05%\n"
     ]
    }
   ],
   "source": [
    "log_clf = LogisticRegression(solver='lbfgs', penalty='l2', max_iter=1000000, multi_class='multinomial')\n",
    "print('Validation Accuracy = ', format(cross_val_score(log_clf, X_train, y_train, cv=5).mean(), '.2%'))"
   ]
  },
  {
   "cell_type": "markdown",
   "metadata": {},
   "source": [
    "## Model Selection"
   ]
  },
  {
   "cell_type": "markdown",
   "metadata": {},
   "source": [
    "### Choosing Logistic Regression\n",
    "* `Validation Score = .69` - unable to take advantage of more complex models, likely due to small data set size"
   ]
  },
  {
   "cell_type": "markdown",
   "metadata": {},
   "source": [
    "### Test Logistic Regression Model\n",
    "* `Test Score = .746` - take with a grain of salt since validation score was `.69`"
   ]
  },
  {
   "cell_type": "markdown",
   "metadata": {},
   "source": [
    "## Logistic Regression after encoding"
   ]
  },
  {
   "cell_type": "code",
   "execution_count": 20,
   "metadata": {},
   "outputs": [
    {
     "name": "stdout",
     "output_type": "stream",
     "text": [
      "Test Accuracy = 74.60%\n"
     ]
    }
   ],
   "source": [
    "log_clf.fit(X_train, y_train)\n",
    "\n",
    "log_clf_preds = log_clf.predict(X_test)\n",
    "    \n",
    "log_clf_accuracy = (log_clf_preds == y_test)\n",
    "print('Test Accuracy =', format( np.sum(log_clf_accuracy)/num_test, '.2%'))"
   ]
  },
  {
   "cell_type": "markdown",
   "metadata": {},
   "source": [
    "<img src=\"data:image/jpeg;base64,/9j/4AAQSkZJRgABAQEAYABgAAD/4RD4RXhpZgAATU0AKgAAAAgABAE7AAIAAAAPAAAISodpAAQAAAABAAAIWpydAAEAAAAeAAAQ0uocAAcAAAgMAAAAPgAAAAAc6gAAAAgAAAAAAAAAAAAAAAAAAAAAAAAAAAAAAAAAAAAAAAAAAAAAAAAAAAAAAAAAAAAAAAAAAAAAAAAAAAAAAAAAAAAAAAAAAAAAAAAAAAAAAAAAAAAAAAAAAAAAAAAAAAAAAAAAAAAAAAAAAAAAAAAAAAAAAAAAAAAAAAAAAAAAAAAAAAAAAAAAAAAAAAAAAAAAAAAAAAAAAAAAAAAAAAAAAAAAAAAAAAAAAAAAAAAAAAAAAAAAAAAAAAAAAAAAAAAAAAAAAAAAAAAAAAAAAAAAAAAAAAAAAAAAAAAAAAAAAAAAAAAAAAAAAAAAAAAAAAAAAAAAAAAAAAAAAAAAAAAAAAAAAAAAAAAAAAAAAAAAAAAAAAAAAAAAAAAAAAAAAAAAAAAAAAAAAAAAAAAAAAAAAAAAAAAAAAAAAAAAAAAAAAAAAAAAAAAAAAAAAAAAAAAAAAAAAAAAAAAAAAAAAAAAAAAAAAAAAAAAAAAAAAAAAAAAAAAAAAAAAAAAAAAAAAAAAAAAAAAAAAAAAAAAAAAAAAAAAAAAAAAAAAAAAAAAAAAAAAAAAAAAAAAAAAAAAAAAAAAAAAAAAAAAAAAAAAAAAAAAAAAAAAAAAAAAAAAAAAAAAAAAAAAAAAAAAAAAAAAAAAAAAAAAAAAAAAAAAAAAAAAAAAAAAAAAAAAAAAAAAAAAAAAAAAAAAAAAAAAAAAAAAAAAAAAAAAAAAAAAAAAAAAAAAAAAAAAAAAAAAAAAAAAAAAAAAAAAAAAAAAAAAAAAAAAAAAAAAAAAAAAAAAAAAAAAAAAAAAAAAAAAAAAAAAAAAAAAAAAAAAAAAAAAAAAAAAAAAAAAAAAAAAAAAAAAAAAAAAAAAAAAAAAAAAAAAAAAAAAAAAAAAAAAAAAAAAAAAAAAAAAAAAAAAAAAAAAAAAAAAAAAAAAAAAAAAAAAAAAAAAAAAAAAAAAAAAAAAAAAAAAAAAAAAAAAAAAAAAAAAAAAAAAAAAAAAAAAAAAAAAAAAAAAAAAAAAAAAAAAAAAAAAAAAAAAAAAAAAAAAAAAAAAAAAAAAAAAAAAAAAAAAAAAAAAAAAAAAAAAAAAAAAAAAAAAAAAAAAAAAAAAAAAAAAAAAAAAAAAAAAAAAAAAAAAAAAAAAAAAAAAAAAAAAAAAAAAAAAAAAAAAAAAAAAAAAAAAAAAAAAAAAAAAAAAAAAAAAAAAAAAAAAAAAAAAAAAAAAAAAAAAAAAAAAAAAAAAAAAAAAAAAAAAAAAAAAAAAAAAAAAAAAAAAAAAAAAAAAAAAAAAAAAAAAAAAAAAAAAAAAAAAAAAAAAAAAAAAAAAAAAAAAAAAAAAAAAAAAAAAAAAAAAAAAAAAAAAAAAAAAAAAAAAAAAAAAAAAAAAAAAAAAAAAAAAAAAAAAAAAAAAAAAAAAAAAAAAAAAAAAAAAAAAAAAAAAAAAAAAAAAAAAAAAAAAAAAAAAAAAAAAAAAAAAAAAAAAAAAAAAAAAAAAAAAAAAAAAAAAAAAAAAAAAAAAAAAAAAAAAAAAAAAAAAAAAAAAAAAAAAAAAAAAAAAAAAAAAAAAAAAAAAAAAAAAAAAAAAAAAAAAAAAAAAAAAAAAAAAAAAAAAAAAAAAAAAAAAAAAAAAAAAAAAAAAAAAAAAAAAAAAAAAAAAAAAAAAAAAAAAAAAAAAAAAAAAAAAAAAAAAAAAAAAAAAAAAAAAAAAAAAAAAAAAAAAAAAAAAAAAAAAAAAAAAAAAAAAAAAAAAAAAAAAAAAAAAAAAAAAAAAAAAAAAAAAAAAAAAAAAAAAAAAAAAAAAAAAAAAAAAAAAAAAAAAAAAAAAAAAAAAAAAAAAAAAAAAAAAAAAAAAAAAAAAAAAAAAAAAAAAAAAAAAAAAAAAAAAAAAAAAAAAAAAAAAAAAAAAAAAAAAAAAAAAAAAAAAAAAAAAAAAAAAAAAAAAAAAAAAAAAAAAAAAAAAAAAAAAAAAAAAAAAAAAAAAAAAAAAAAAAAAAAAAAAAAAAAAAAAAAAAAAAAAAAAAAAAAAAAAAAAAAAAAAAAAAAAAAAAAAAAAAAAAAAAAAAAAAAAAAAAAAAAAAAAAAAAAAAAAAAAAAAAAAAAAAAAAAAAAAAAAAAAAAAAAAAAAAAAAAAAAAAAAAAAAAAAAAAAAAAAAAAAAAAAAAAAAAAAAAAAAAAAAAAAAAAAAAAAAAAAAAAAAAAAAAAAAAAAAAAAAAAAAAAAAAAAAAAAAAAAAAAAAAAAAAAAAAAAAAAAAAAAAAAAAAAAAAAAAAAAAAAAAAAAAAAAAAAAAAAAAAAAAAAAAAAAAAAAAAAAAAAAAAAAAAAAAAAAAAAAAAAAAAAAAAAAAAAAAAAAAAAAAAAAAAAAAAAAAAAAAAAAAAAAAAAAAAAAAAAAAAAAAAAAAAAAAAAAAAAAAAAAAAAAAAAAAAAAAAAAAAAAAAAAAAAAAAAAAAAAAAAAAAAAAAAAAAAAAAAAAAAAAAAAAAAAAAAAAAAAAAAAAAAAAAAAAAAAAAAAAAAAAAAAAAAAAAAAAAAAAAAAAAAAAAAAAAAAAAAAAAAAAAAAAAAAAAAAAAAAAAAAAAAAAAAAAAAAAAAAAAAAAAAAAAAAAAAAAAAAAAAAAAAAAAAAAAAAAAAAAAAAAAAAAAAAAAAAAAAAAAAAAAAAAAAAAAAAAAAAAAAAAAAAAAAAAAAAAAAAAAAAAAAAAAAAAAAAAAAAAAAAAAAAAAAAAAAAAAAAAAAAAAAAAAAAAAAAE1vaGFtbWVkIEV6aGFuAAAABZADAAIAAAAUAAAQqJAEAAIAAAAUAAAQvJKRAAIAAAADMDYAAJKSAAIAAAADMDYAAOocAAcAAAgMAAAInAAAAAAc6gAAAAgAAAAAAAAAAAAAAAAAAAAAAAAAAAAAAAAAAAAAAAAAAAAAAAAAAAAAAAAAAAAAAAAAAAAAAAAAAAAAAAAAAAAAAAAAAAAAAAAAAAAAAAAAAAAAAAAAAAAAAAAAAAAAAAAAAAAAAAAAAAAAAAAAAAAAAAAAAAAAAAAAAAAAAAAAAAAAAAAAAAAAAAAAAAAAAAAAAAAAAAAAAAAAAAAAAAAAAAAAAAAAAAAAAAAAAAAAAAAAAAAAAAAAAAAAAAAAAAAAAAAAAAAAAAAAAAAAAAAAAAAAAAAAAAAAAAAAAAAAAAAAAAAAAAAAAAAAAAAAAAAAAAAAAAAAAAAAAAAAAAAAAAAAAAAAAAAAAAAAAAAAAAAAAAAAAAAAAAAAAAAAAAAAAAAAAAAAAAAAAAAAAAAAAAAAAAAAAAAAAAAAAAAAAAAAAAAAAAAAAAAAAAAAAAAAAAAAAAAAAAAAAAAAAAAAAAAAAAAAAAAAAAAAAAAAAAAAAAAAAAAAAAAAAAAAAAAAAAAAAAAAAAAAAAAAAAAAAAAAAAAAAAAAAAAAAAAAAAAAAAAAAAAAAAAAAAAAAAAAAAAAAAAAAAAAAAAAAAAAAAAAAAAAAAAAAAAAAAAAAAAAAAAAAAAAAAAAAAAAAAAAAAAAAAAAAAAAAAAAAAAAAAAAAAAAAAAAAAAAAAAAAAAAAAAAAAAAAAAAAAAAAAAAAAAAAAAAAAAAAAAAAAAAAAAAAAAAAAAAAAAAAAAAAAAAAAAAAAAAAAAAAAAAAAAAAAAAAAAAAAAAAAAAAAAAAAAAAAAAAAAAAAAAAAAAAAAAAAAAAAAAAAAAAAAAAAAAAAAAAAAAAAAAAAAAAAAAAAAAAAAAAAAAAAAAAAAAAAAAAAAAAAAAAAAAAAAAAAAAAAAAAAAAAAAAAAAAAAAAAAAAAAAAAAAAAAAAAAAAAAAAAAAAAAAAAAAAAAAAAAAAAAAAAAAAAAAAAAAAAAAAAAAAAAAAAAAAAAAAAAAAAAAAAAAAAAAAAAAAAAAAAAAAAAAAAAAAAAAAAAAAAAAAAAAAAAAAAAAAAAAAAAAAAAAAAAAAAAAAAAAAAAAAAAAAAAAAAAAAAAAAAAAAAAAAAAAAAAAAAAAAAAAAAAAAAAAAAAAAAAAAAAAAAAAAAAAAAAAAAAAAAAAAAAAAAAAAAAAAAAAAAAAAAAAAAAAAAAAAAAAAAAAAAAAAAAAAAAAAAAAAAAAAAAAAAAAAAAAAAAAAAAAAAAAAAAAAAAAAAAAAAAAAAAAAAAAAAAAAAAAAAAAAAAAAAAAAAAAAAAAAAAAAAAAAAAAAAAAAAAAAAAAAAAAAAAAAAAAAAAAAAAAAAAAAAAAAAAAAAAAAAAAAAAAAAAAAAAAAAAAAAAAAAAAAAAAAAAAAAAAAAAAAAAAAAAAAAAAAAAAAAAAAAAAAAAAAAAAAAAAAAAAAAAAAAAAAAAAAAAAAAAAAAAAAAAAAAAAAAAAAAAAAAAAAAAAAAAAAAAAAAAAAAAAAAAAAAAAAAAAAAAAAAAAAAAAAAAAAAAAAAAAAAAAAAAAAAAAAAAAAAAAAAAAAAAAAAAAAAAAAAAAAAAAAAAAAAAAAAAAAAAAAAAAAAAAAAAAAAAAAAAAAAAAAAAAAAAAAAAAAAAAAAAAAAAAAAAAAAAAAAAAAAAAAAAAAAAAAAAAAAAAAAAAAAAAAAAAAAAAAAAAAAAAAAAAAAAAAAAAAAAAAAAAAAAAAAAAAAAAAAAAAAAAAAAAAAAAAAAAAAAAAAAAAAAAAAAAAAAAAAAAAAAAAAAAAAAAAAAAAAAAAAAAAAAAAAAAAAAAAAAAAAAAAAAAAAAAAAAAAAAAAAAAAAAAAAAAAAAAAAAAAAAAAAAAAAAAAAAAAAAAAAAAAAAAAAAAAAAAAAAAAAAAAAAAAAAAAAAAAAAAAAAAAAAAAAAAAAAAAAAAAAAAAAAAAAAAAAAAAAAAAAAAAAAAAAAAAAAAAAAAAAAAAAAAAAAAAAAAAAAAAAAAAAAAAAAAAAAAAAAAAAAAAAAAAAAAAAAAAAAAAAAAAAAAAAAAAAAAAAAAAAAAAAAAAAAAAAAAAAAAAAAAAAAAAAAAAAAAAAAAAAAAAAAAAAAAAAAAAAAAAAAAAAAAAAAAAAAAAAAAAAAAAAAAAAAAAAAAAAAAAAAAAAAAAAAAAAAAAAAAAAAAAAAAAAAAAAAAAAAAAAAAAAAAAAAAAAAAAAAAAAAAAAAAAAAAAAAAAAAAAAAAAAAAAAAAAAAAAAAAAAAAAAAAAAAAAAAAAAAAAAAAAAAAAAAAAAAAAAAAAAAAAAAAAAAAAAAAAAAAAAAAAAAAAAAAAAAAAAAAAAAAAAAAAAAAAAAAAAAAAAAAAAAAAAAAAAAAAAAAAAAAAAAAAAAAAAAAAAAAAAAAAAAAAAAAAAAAAAAAAAAAAAAAAAAAAAAAAAAAAAAAAAAAAAAAAAAAAAAAAAAAAAAAAAAAAAAAAAAAAAAAAAAAAAAAAAAAAAAAAAAAAAAAAAAAAAAAAAAAAAAAAAAAAAAAAAAAAAAAAAAAAAAAAAAAAAAAAAAAAAAAAAAAAAAAAAAAAAAAAAAAAAAAAAAAAAAAAAAAAAAAAAAAAAAAAAAAAAAAAAAAAAAAAAAAAAAAAAAAAAAAAAAAAAAAAAAAAAAAAAAAAAAAAAAAAAAAAAAAAAAAAAAAAAAAAAAAAAAAAAAAAAAAAAAAAAAAAAAAAAAAAAAAAAAAAADIwMjM6MDE6MDggMjE6NDg6NDUAMjAyMzowMTowOCAyMTo0ODo0NQAAAE0AbwBoAGEAbQBtAGUAZAAgAEUAegBoAGEAbgAAAP/hCyFodHRwOi8vbnMuYWRvYmUuY29tL3hhcC8xLjAvADw/eHBhY2tldCBiZWdpbj0n77u/JyBpZD0nVzVNME1wQ2VoaUh6cmVTek5UY3prYzlkJz8+DQo8eDp4bXBtZXRhIHhtbG5zOng9ImFkb2JlOm5zOm1ldGEvIj48cmRmOlJERiB4bWxuczpyZGY9Imh0dHA6Ly93d3cudzMub3JnLzE5OTkvMDIvMjItcmRmLXN5bnRheC1ucyMiPjxyZGY6RGVzY3JpcHRpb24gcmRmOmFib3V0PSJ1dWlkOmZhZjViZGQ1LWJhM2QtMTFkYS1hZDMxLWQzM2Q3NTE4MmYxYiIgeG1sbnM6ZGM9Imh0dHA6Ly9wdXJsLm9yZy9kYy9lbGVtZW50cy8xLjEvIi8+PHJkZjpEZXNjcmlwdGlvbiByZGY6YWJvdXQ9InV1aWQ6ZmFmNWJkZDUtYmEzZC0xMWRhLWFkMzEtZDMzZDc1MTgyZjFiIiB4bWxuczp4bXA9Imh0dHA6Ly9ucy5hZG9iZS5jb20veGFwLzEuMC8iPjx4bXA6Q3JlYXRlRGF0ZT4yMDIzLTAxLTA4VDIxOjQ4OjQ1LjA2MDwveG1wOkNyZWF0ZURhdGU+PC9yZGY6RGVzY3JpcHRpb24+PHJkZjpEZXNjcmlwdGlvbiByZGY6YWJvdXQ9InV1aWQ6ZmFmNWJkZDUtYmEzZC0xMWRhLWFkMzEtZDMzZDc1MTgyZjFiIiB4bWxuczpkYz0iaHR0cDovL3B1cmwub3JnL2RjL2VsZW1lbnRzLzEuMS8iPjxkYzpjcmVhdG9yPjxyZGY6U2VxIHhtbG5zOnJkZj0iaHR0cDovL3d3dy53My5vcmcvMTk5OS8wMi8yMi1yZGYtc3ludGF4LW5zIyI+PHJkZjpsaT5Nb2hhbW1lZCBFemhhbjwvcmRmOmxpPjwvcmRmOlNlcT4NCgkJCTwvZGM6Y3JlYXRvcj48L3JkZjpEZXNjcmlwdGlvbj48L3JkZjpSREY+PC94OnhtcG1ldGE+DQogICAgICAgICAgICAgICAgICAgICAgICAgICAgICAgICAgICAgICAgICAgICAgICAgICAgICAgICAgICAgICAgICAgICAgICAgICAgICAgICAgICAgICAgICAgICAgICAgICAgCiAgICAgICAgICAgICAgICAgICAgICAgICAgICAgICAgICAgICAgICAgICAgICAgICAgICAgICAgICAgICAgICAgICAgICAgICAgICAgICAgICAgICAgICAgICAgICAgICAgICAKICAgICAgICAgICAgICAgICAgICAgICAgICAgICAgICAgICAgICAgICAgICAgICAgICAgICAgICAgICAgICAgICAgICAgICAgICAgICAgICAgICAgICAgICAgICAgICAgICAgIAogICAgICAgICAgICAgICAgICAgICAgICAgICAgICAgICAgICAgICAgICAgICAgICAgICAgICAgICAgICAgICAgICAgICAgICAgICAgICAgICAgICAgICAgICAgICAgICAgICAgCiAgICAgICAgICAgICAgICAgICAgICAgICAgICAgICAgICAgICAgICAgICAgICAgICAgICAgICAgICAgICAgICAgICAgICAgICAgICAgICAgICAgICAgICAgICAgICAgICAgICAKICAgICAgICAgICAgICAgICAgICAgICAgICAgICAgICAgICAgICAgICAgICAgICAgICAgICAgICAgICAgICAgICAgICAgICAgICAgICAgICAgICAgICAgICAgICAgICAgICAgIAogICAgICAgICAgICAgICAgICAgICAgICAgICAgICAgICAgICAgICAgICAgICAgICAgICAgICAgICAgICAgICAgICAgICAgICAgICAgICAgICAgICAgICAgICAgICAgICAgICAgCiAgICAgICAgICAgICAgICAgICAgICAgICAgICAgICAgICAgICAgICAgICAgICAgICAgICAgICAgICAgICAgICAgICAgICAgICAgICAgICAgICAgICAgICAgICAgICAgICAgICAKICAgICAgICAgICAgICAgICAgICAgICAgICAgICAgICAgICAgICAgICAgICAgICAgICAgICAgICAgICAgICAgICAgICAgICAgICAgICAgICAgICAgICAgICAgICAgICAgICAgIAogICAgICAgICAgICAgICAgICAgICAgICAgICAgICAgICAgICAgICAgICAgICAgICAgICAgICAgICAgICAgICAgICAgICAgICAgICAgICAgICAgICAgICAgICAgICAgICAgICAgCiAgICAgICAgICAgICAgICAgICAgICAgICAgICAgICAgICAgICAgICAgICAgICAgICAgICAgICAgICAgICAgICAgICAgICAgICAgICAgICAgICAgICAgICAgICAgICAgICAgICAKICAgICAgICAgICAgICAgICAgICAgICAgICAgICAgICAgICAgICAgICAgICAgICAgICAgICAgICAgICAgICAgICAgICAgICAgICAgICAgICAgICAgICAgICAgICAgICAgICAgIAogICAgICAgICAgICAgICAgICAgICAgICAgICAgICAgICAgICAgICAgICAgICAgICAgICAgICAgICAgICAgICAgICAgICAgICAgICAgICAgICAgICAgICAgICAgICAgICAgICAgCiAgICAgICAgICAgICAgICAgICAgICAgICAgICAgICAgICAgICAgICAgICAgICAgICAgICAgICAgICAgICAgICAgICAgICAgICAgICAgICAgICAgICAgICAgICAgICAgICAgICAKICAgICAgICAgICAgICAgICAgICAgICAgICAgICAgICAgICAgICAgICAgICAgICAgICAgICAgICAgICAgICAgICAgICAgICAgICAgICAgICAgICAgICAgICAgICAgICAgICAgIAogICAgICAgICAgICAgICAgICAgICAgICAgICAgICAgICAgICAgICAgICAgICAgICAgICAgICAgICAgICAgICAgICAgICAgICAgICAgICAgICAgICAgICAgICAgICAgICAgICAgCiAgICAgICAgICAgICAgICAgICAgICAgICAgICAgICAgICAgICAgICAgICAgICAgICAgICAgICAgICAgICAgICAgICAgICAgICAgICAgICAgICAgICAgICAgICAgICAgICAgICAKICAgICAgICAgICAgICAgICAgICAgICAgICAgICAgICAgICAgICAgICAgICAgICAgICAgICAgICAgICAgICAgICAgICAgICAgICAgICAgICAgICAgICAgICAgICAgICAgICAgIAogICAgICAgICAgICAgICAgICAgICAgICAgICAgICAgICAgICAgICAgICAgICAgICAgICAgICAgICAgICAgICAgICAgICAgICAgICAgICAgICAgICAgICAgICAgICAgICAgICAgCiAgICAgICAgICAgICAgICAgICAgICAgICAgICAgICAgICAgICAgICAgICAgICAgICAgICAgICAgICAgICAgICAgICAgICAgICAgICAgICAgICAgICAgICAgICAgICAgICAgICAKICAgICAgICAgICAgICAgICAgICAgICAgICAgIDw/eHBhY2tldCBlbmQ9J3cnPz7/2wBDAAcFBQYFBAcGBQYIBwcIChELCgkJChUPEAwRGBUaGRgVGBcbHichGx0lHRcYIi4iJSgpKywrGiAvMy8qMicqKyr/2wBDAQcICAoJChQLCxQqHBgcKioqKioqKioqKioqKioqKioqKioqKioqKioqKioqKioqKioqKioqKioqKioqKioqKir/wAARCAHFAccDASIAAhEBAxEB/8QAHwAAAQUBAQEBAQEAAAAAAAAAAAECAwQFBgcICQoL/8QAtRAAAgEDAwIEAwUFBAQAAAF9AQIDAAQRBRIhMUEGE1FhByJxFDKBkaEII0KxwRVS0fAkM2JyggkKFhcYGRolJicoKSo0NTY3ODk6Q0RFRkdISUpTVFVWV1hZWmNkZWZnaGlqc3R1dnd4eXqDhIWGh4iJipKTlJWWl5iZmqKjpKWmp6ipqrKztLW2t7i5usLDxMXGx8jJytLT1NXW19jZ2uHi4+Tl5ufo6erx8vP09fb3+Pn6/8QAHwEAAwEBAQEBAQEBAQAAAAAAAAECAwQFBgcICQoL/8QAtREAAgECBAQDBAcFBAQAAQJ3AAECAxEEBSExBhJBUQdhcRMiMoEIFEKRobHBCSMzUvAVYnLRChYkNOEl8RcYGRomJygpKjU2Nzg5OkNERUZHSElKU1RVVldYWVpjZGVmZ2hpanN0dXZ3eHl6goOEhYaHiImKkpOUlZaXmJmaoqOkpaanqKmqsrO0tba3uLm6wsPExcbHyMnK0tPU1dbX2Nna4uPk5ebn6Onq8vP09fb3+Pn6/9oADAMBAAIRAxEAPwD6RooooAKKKKACiiigAooooAKKKKACiiigAooooAKKKKACiiigAorm38e6ElxNEG1KVoJnhdoNIu5U3oxRgGWIqcMpGQT0pP8AhPtD/uav/wCCO9/+NVg8RRTs5r70Vyy7HS0VzX/CfaH/AHNX/wDBHe//ABqj/hPtD/uav/4I73/41S+s0P5196Dll2Olormv+E+0P+5q/wD4I73/AONUf8J9of8Ac1f/AMEd7/8AGqPrND+dfeg5ZdjpaK5r/hPtD/uav/4I73/41R/wn2h/3NX/APBHe/8Axqj6zQ/nX3oOWXY6Wiua/wCE+0P+5q//AII73/41R/wn2h/3NX/8Ed7/APGqPrND+dfeg5ZdjpaK5r/hPtD/ALmr/wDgjvf/AI1R/wAJ9of9zV//AAR3v/xqj6zQ/nX3oOWXY6Wiua/4T7Q/7mr/APgjvf8A41R/wn2h/wBzV/8AwR3v/wAao+s0P5196Dll2OlorhZfjR4Cgnkhn1qSKWNijo+n3IZGBwQQY+CDximf8Lu+H3/Qeb/wAuf/AI3XSotq6Qcsux3tFcF/wu74ff8AQeb/AMALn/43R/wu74ff9B5v/AC5/wDjdPkl2Dll2O9orgv+F3fD7/oPN/4AXP8A8bo/4Xd8Pv8AoPN/4AXP/wAbo5Jdg5ZdjvaK4L/hd3w+/wCg83/gBc//ABuj/hd3w+/6Dzf+AFz/APG6OSXYOWXY72iuC/4Xd8Pv+g83/gBc/wDxuj/hd3w+/wCg83/gBc//ABujkl2Dll2O9orgv+F3fD7/AKDzf+AFz/8AG6P+F3fD7/oPN/4AXP8A8bo5Jdg5ZdjvaK4L/hd3w+/6Dzf+AFz/APG6P+F3fD7/AKDzf+AFz/8AG6OSXYOWXY72isjw34q0bxdp0l/4evPtdtFMYXcxPHhwoYjDgHow59616kkKKwrvxnotnqtzpss11Jd2mzz47exnm8vcu5clEI5Bz1qGXx7oMCBp31CNSQoLaTdAZPQf6usXiKKnyOav2urlcsrXsdHRVWw1GHUYy9ulygXqLi1kgP5OoJrhPEmo6h4X1zUru3fUNsmkXU0Hn3JmimnjAbIjJxFtHTaAGyc8gZ26iSuei0Vymhyz2ni1tMW7uLq2k0qG6JnmaUrJvZSwLEkBhjjp8vHU1k2urXzzWOqG6n8648Qz6fJbmU+X5KtIgUJnAIEavkDPXsadtbf1vb8xdG/62v8Akeg0UUUgCiiigAooooAKKKKACiiigAooooAKKKKACiiigAooooAKKKKACiiigDgPDv8Ax43v/YW1H/0tmrWrJ8O/8eN7/wBhbUf/AEtmrWr8TzP/AH6t/jl+bPap/AvQKKKK4DQKKKKACiiigAooooAKKKKACiiigD5T8V/8jrrv/YTuf/RrVk1reK/+R113/sJ3P/o1qya/pHAf7pS/wx/JEx+FBRRRXYUFFFFABRRRQAUUUUAFFFFABRRRQB9Ifs5f8k+1L/sLSf8AomGvW68k/Zy/5J9qX/YWk/8ARMNet14NX+JL1Z4tX+I/U8ztZNnxV8ZfWx/9EVN4ll3aZEM/8vUP/oYrPMmz4reMPrZf+iKdrs26zgH/AE9Rf+hivzTE0m8+5v70f0N41EqXKeqVm2ugabaNIUheUyKyn7RM821WOWVd5O1Tx8owOBxxWlRX6OchkR+F9Jht3hjt5ArmLLfaJC2IzlFDbshQf4Qccnjk1MmgabHqf29LbFx5hlH7xtocrtLhM7QxHG4DPJ9TWjRQAUUUUAFFFFABRRRQAUUUUAFFFFABRRRQAUUUUAFFFFABRRRQAUUUUAFFFFAHAeHf+PG9/wCwtqP/AKWzVrVk+Hf+PG9/7C2o/wDpbNWtX4nmf+/Vv8cvzZ7VP4F6BRRRXAaBRRRQAUUUUAFFFFABRRRQAUUUUAfKfiv/AJHXXf8AsJ3P/o1qya1vFf8AyOuu/wDYTuf/AEa1ZNf0jgP90pf4Y/kiY/CgooorsKCiiigAooooAKKKKACiiigAooooA+kP2cv+Sfal/wBhaT/0TDXrdeSfs5f8k+1L/sLSf+iYa9brwav8SXqzxav8R+p4/eybPiv4u572f/ogUzV7hRbQGRwqi5iJJOAPmFV9Yk2fFnxZ9bP/ANECq+pCK6ighnRZY3uIwyOoIYbhwQa+LrUr5nzf3l+hxOrafKe2293b3aFrS4inUdTG4YD8q5o/28PFUunRay00VxYSSysbaPbYSlgIimACQfnO1y2dnUdK6Cw0rT9KiaPS7G2skbqtvCsYP4AVm6d4Zl0+/kuTr+qXQkd5DDP5AQuwxklIlZsDgAsQMDjgV9h1OroM0CC/j1a/E+uXuqWsAWEfao4FxL1bBiiTgAqOc859Kpf2je2njVY9WvNWtrW6uGhsovJtjaSkR5ClgplDHazckA4wPStqHREttFi061vLqERuHa4RlEsjb97Fjtx8xzu47nGKRNDQ6gt1eXt1eiKZp7eGfZst2IIyu1QTgMQNxOM0+v8AX9eguj/r+vM1KKKKQBRRRQAUUUUAFFFFABRRRQAUUUUAFFFFABRRRQAUUUUAFFFFABRRRQBwHh3/AI8b3/sLaj/6WzVrVk+Hf+PG9/7C2o/+ls1a1fieZ/79W/xy/NntU/gXoFFFFcBoFFFFABRRRQAUUUUAFFFFABRRRQB8p+K/+R113/sJ3P8A6NasmtbxX/yOuu/9hO5/9GtWTX9I4D/dKX+GP5ImPwoKKKK7CgooooAKKKKACiiigAooooAKKKKAPpD9nL/kn2pf9haT/wBEw163Xkn7OX/JPtS/7C0n/omGvW68Gr/El6s8Wr/EfqeF+IX2/FvxX9bP/wBECoJZN01qP+nmP/0IU3xW+z4ueKfraf8ApOtVUk3XloP+nmP/ANCFfPVKV8XzeaPnKla2M5PNH0PRRXOp4muofEH9nanpYtY5rWW6tpUuPMLLGVDCRdo2H5xjBYe4PFe7c+gs2dFRWF4W1+48Q2b3M0elpGAu0WGom6KkjJV/3aBWHHHPeoIvFyy30I+yYsJ9Qk06O6EuWMybs5TbwpZGUHJOccc07O9hdLnSUUUUgCiiigAooooAKKKKACiiigArlPG+jSas+jGwnFnqUV4WtbsKCY2EMjAH1QkAMO4rq6p3uk2moXNrPdCYyWchkhMdxJGFbBGSFYBuCRznqaBnAx+LLWK6v9ZbTYINdt4bewu4GUboZ3mKDcw5Kchge64rQ1TxhrOn3l1pwSye7tr+yh88wuI5Irltudu/IZSD3IPHrXU3Xh/Sr2W8kurGKR76FYLliP8AWIpJUH3BY4PUfhUEvhTR5oBFLbyuPtEd0Xa5lLtImNjM+7c2MDAJI4pq2l/611/UT62/rSxh6d4s1G7v10S6+x/2kb64tjcLCwhZIkVywjLk5IdRjd6nPGKw/C3iG90zw3a6RpsUc+osdRuQPs7sjeXdMoQKpyu5m6k4UDvXZy+DNDmLl7WYO92bzzUu5lkWYjaWVwwZcjggEAjtTf8AhCNAENtGlnJF9ld5IXiupkdS5y43qwYqx5Kk4PcUltr8/u/zD/P/AD/Q5/U/GWv2k2pyRW9hHDp0tkHgmjcyOJ8AruD4UqW64IOOnepx4zv7S6utM1EW0l8mqpYQzW9tJsZWhE24xhmbIXIwG5OOlbtz4P0S8N559rKftrRPOFupVDGLGzgMMYwOBjpSXHg7Q7v7X9otZGa8nS5lf7VKG81AFV1YNlCAAMqRR/X5f8EFtqcze+L/ABRAtyv2awtJrTSZNQkjuLeRi5jkZcDEg2hlXIzkrnnOKd/wll/Y6h4h1O6mWWztrKzkt7Ty2+V5Q2BkE/xEZOOePSull8IaLMZTLbzOZrQ2UhN3Ll4SclT83Ukklupz1ofwfocjTGSzZxParZzI1xIUliXIUMpbDEZOGI3D1o6f13f6WDr/AF5f8EyoPEeq3WsroVzbQwz3AlkhuprZ1jmgRY8nymYNndJtwT/CT7VH4J1fT9E+Gek3GualZ2MbF4/OuZlhRn8xzgFj14JxntWwfBuitb2sTQXJNo5eGY30/nISMEebv3kYwME4wMYrR0vS7PRtOjsdNiMNtFnZHvZtuTk8sSetMRw/hW4hu9Iubi1ljmgm1TUJI5Y2DK6m8mIYEcEEc5rarJ8O/wDHje/9hbUf/S2atavxLM/9+rf45fmz26fwL0CiiiuA0CiiigCnqtpDfWDW1xDBcCThYbn/AFbn0YfxDvj2rhdDjS4bS9M1WAC0t7G9Xy3O6JpI5lQumR0Ck7fRTXf3ljaahCIb+1huogwYJNGHUEdDg96SfT7O6hSG6tIJoo/uJJEGVeMcAjjjiu6hilSp8jvr+GjWn3kSjd3M/wAIzXNx4N0ia+Z2uHtI2dn+8x2jk+5rYoAwMDgUVyVJqc3JK12OKskgoooqCgooooA+U/Ff/I667/2E7n/0a1ZNa3iv/kddd/7Cdz/6Nasmv6RwH+6Uv8MfyRMfhQUUUV2FBRRRQAjcKfpUcWQ2CMHA6d6lpAAOgA+lQ43kpEON5Ji0UUVZYUUUUAFFFFAH0h+zl/yT7Uv+wtJ/6Jhr1uvJP2cv+Sfal/2FpP8A0TDXrdeDV/iS9WeLV/iP1Pnvxk2Pi94o+tp/6TrWeF+0XNtF5jx754xujbDD5h0NW/HDY+L3if62v/pOtULJs6pZf9fMf/oQrgdP97zHw1apbNeX+8v0PorS9M/suBoxe3l5u53XcvmMPxxWLZ2fib+2Lq8vrHRw0iOiSi9llIQZ2RhDEoUZILNkk+nTHUUV1n2pzdto+pw6pc62tvYQ6ldQwW726Tu0OxHJZi+wFmw5A+UdAM81Vt/CN3DdW9s0sH9m22rSamjBj5rFizCMrtwAHcndnoAMc111FMN1b+trfkFFFFIAooooAKKKKACiiigAooooAKKKKACiiigAooooAKKKKACiiigAooooA4Dw7/x43v8A2FtR/wDS2atasnw7/wAeN7/2FtR/9LZq1q/E8z/36t/jl+bPap/AvQKKKK4DQKKKKACiiigAooooAKKKKACiiigD5T8V/wDI667/ANhO5/8ARrVk1reK/wDkddd/7Cdz/wCjWrJr+kcB/ulL/DH8kTH4UFFFFdhQUUUUAFFFFABRRRQAUUUUAFFFFAH0h+zl/wAk+1L/ALC0n/omGvW68k/Zy/5J9qX/AGFpP/RMNet14NX+JL1Z4tX+I/U+c/HX/JYPE/8A26f+k61Qsf8AkLWP/XzH/wChVf8AHX/JYPE//bp/6TrWbAkkl/aJDKYXa4QLIFB2nPXBrPl6n57iP+Rx/wBvL9D6erIg8U6PcX89ml3tmhiaZvNieNWjU4Z0ZgFdQepUkCrOmWl7aQMuo6k2oOejtCsePwWuag1a0vvFL6hPpurg2VvLb28baTcKqx8M75ZAGLFFCquTjtycHU+/6HRaVr2n601wunyyGS2YLNFNA8LpkZBKuoOCOhxg9qaniCxl1p9LjF49xG212WxmMKnbuwZtnlg4I/i7461g6Fq1u95qOsSabq/2q7MKyK+mTxeWmdscYDqpbG5mZgCBk84xTjaySeLIJ9CbVLd1vX/tJLlZlt5YtjDKh/kJ3bMFOfXvT6i6M6+iiikAUUUUAFFFFABRRRQAVxmv33inSpnuG1nR7W0luPLtom0ue4kwemSko6AEk4AAGTXZ1yvj0fa9Hh060hea+vJjDA0dyIPJJRizM+1sDaG42nPAxSGX/Dc2qOdQh1vULO9uILgJ/okDQrGNinBVmY55znJyCK265jwPZfYLG8gu/MfVDOHv5pLkXBlcoMMHCrxtAAG1cY6dz09UyQooopDCiiigAooooAKKKKACiiigDgPDv/Hje/8AYW1H/wBLZq1qyfDv/Hje/wDYW1H/ANLZq1q/E8z/AN+rf45fmz2qfwL0CiiiuA0CiiigAooooAKKKKACiiigAooooA+U/Ff/ACOuu/8AYTuf/RrVk1reK/8Akddd/wCwnc/+jWrJr+kcB/ulL/DH8kTH4UFFFFdhQUUUUAFFFFABRRRQAUUUUAFFFFAH0h+zl/yT7Uv+wtJ/6Jhr1uvJP2cv+Sfal/2FpP8A0TDXrdeDV/iS9WeLV/iP1PnTxz/yWDxR/wBun/pOtULL/kLWP/XzH/Or/jj/AJLD4o/7dP8A0nWqNn/yFbH/AK+Y/wD0KtVH3Ln55if+Rx/29H9D6Zooqpb6tp15eXFpaX9rPc2v+vhimVni/wB5Qcr+Ncx9+W6Kr2eoWWoIzWF3BdKh2sYZQ4U9cHBoXUbJr5rJbyA3ajLW4lXzAOOduc9x+dAFiiiigAooooAKKKKACiiigArgPGvg/Rwi3VjoGhSahf3W2S71O281QzKSM4IJLMFUcgZYfSu/rmbzw5rU95PcL4z1KzikkLJBDb22yNSeFBaMk/iaTGjN+Fq26aPqKWn9n+ULz/mHWJtoQfKTK7SSSwOQcnggj2ruKytC0q80qK4S/wBYudWaWTestyiKyDAG3CKq4yCenetWqbuSgooopDCiiigAooooAKKKKACiiigDgPDv/Hje/wDYW1H/ANLZq1q4ay8f+G9Em1PT9SvpIrqHVr/ei2kzgZu5WHKoQeCOhq1/wtTwf/0E5v8AwAuP/jdfkeYZZj54yrOFCbTlJpqL11fkevTqQUFr0OvorkP+FqeD/wDoJzf+AFx/8bo/4Wp4P/6Cc3/gBcf/ABuuL+ycx/58T/8AAZf5F+0h3R19Fch/wtTwf/0E5v8AwAuP/jdH/C1PB/8A0E5v/AC4/wDjdH9k5j/z4n/4DL/IPaQ7o6+iuQ/4Wp4P/wCgnN/4AXH/AMbo/wCFqeD/APoJzf8AgBcf/G6P7JzH/nxP/wABl/kHtId0dfRXIf8AC1PB/wD0E5v/AAAuP/jdH/C1PB//AEE5v/AC4/8AjdH9k5j/AM+J/wDgMv8AIPaQ7o6+iuQ/4Wp4P/6Cc3/gBcf/ABuj/hang/8A6Cc3/gBcf/G6P7JzH/nxP/wGX+Qe0h3R19Fch/wtTwf/ANBOb/wAuP8A43R/wtTwf/0E5v8AwAuP/jdH9k5j/wA+J/8AgMv8g9pDujwLxX/yOuu/9hO5/wDRrVk1sa3Dcat4j1XUNOs7u4tLm/uJYZUtpMOplYg9P07VS/sjU/8AoF33/gLJ/hX71g61KGGpxlJJqKur+Rmq9JKzkvvRUoq3/ZGp/wDQLvv/AAFk/wAKP7I1P/oF33/gLJ/hXV9Zofzr70P6xR/nX3oqUVb/ALI1P/oF33/gLJ/hR/ZGp/8AQLvv/AWT/Cj6zQ/nX3oPrFH+dfeipRVv+yNT/wCgXff+Asn+FH9kan/0C77/AMBZP8KPrND+dfeg+sUf5196KlFW/wCyNT/6Bd9/4Cyf4Uf2Rqf/AEC77/wFk/wo+s0P5196D6xR/nX3oqUVb/sjU/8AoF33/gLJ/hR/ZGp/9Au+/wDAWT/Cj6zQ/nX3oPrFH+dfeipRVv8AsjU/+gXff+Asn+FH9kan/wBAu+/8BZP8KPrND+dfeg+sUf5196PoX9nL/kn2pf8AYWk/9Ew163Xk/wCzvDLB4D1OOeKSKRdWfKSIVYfuIeoPNesV49RpzbXc8uo05to+dPG//JYfFP8A26f+k61nRtKl7aNbxCWUXCFULbQxz0z2rQ8cNj4xeKfraf8ApOtUbJs6tYf9fMf867Ir9zfyPz3Er/hZ/wC3o/ofRelXWo3MDNq2nR2DjoiXPnA/jtFef6ze6Rr9xqS+GNSsnv7XSbuwsrWzmVpZHYbnYqvKqCgAJxkk+oz6fRXnn6AnbU4bStU06LxQ2pQXEcemLpNraySg/J5zSMI4+P4gGxjqNwzWfZiU3Wn2DHOrw+Jri4mX+NYSZTvPfYY2RQenIFek0VV9b/1vf+vInpb+trBRRRSGFFFFABRRRQAUUUUAFcd8SzAvh2Ey4ebz820TWss6vLsYjKxqxBGNwbBwRXY1ynj3Uhpllpry64+hQS3ojlvUEXyAxuR/rFYckDoM/hmkxoi+Hmoz6ta6tf3jMtxNfZkgEEsUcJESAKolVWPGCSVGSTxXYVzHgmXTLizvptK8QSeIHkuAbi9d0YF9igKNgCjChegrp6p/5fkSgooopDCiiigAooooAKKKKACiiigD5G8T/wDI6eIP+wtef+j3rMrT8T/8jp4g/wCwtef+j3rMr6eh/Cj6I0CiiithhRRRQAUUUUAFFFFABRRRQAUUUUAdp4R/5FmD/rpN/wCjXrarF8I/8izB/wBdJv8A0a9bVfl2K/3ifq/zPksR/Gn6v8wooormMQooooAKKKKACiiigAooooAKKKKAO/8AhJ/yCte/7C3/ALa29d/XAfCT/kFa9/2Fv/bW3rv6+nofwo+iPqKH8KPovyPm/wAeNj4xeKPraf8ApOlZ+ntnWLD/AK+Y/wCdXPiCcfGPxP8AW0/9J0rLsriK31SyluJUiiS4Qs7sFVRnqSa9qC/2f5HxmIj/AMK1/wC9H9D6ooqnp2r6bq8TSaVqFrfRrwzW0yyAfipNYNiLi98X+KdNmv7sQfZ7cRbJdrQb1k3GMj7p6c9eBXln3J1VFc34a02CDU7+5sbrUJbRT9mQXWoz3Ks6E72HmO2Pm+XjH3TVGUXGleN4LnVIbuSHUbswWs0OqzmOI+WcK9tkR4IRjuG7k5OOtHVIO52VFFFABRRRQAUUUUAFFFFABXFyaxqdv4h1VE8NaprUUVyohkjntxHF+6Q4VZJFIPzNk479a7Sq8NhaW11Pc29vHHPcEGaRFwZCBgE+pwAKOodDN8Oajc6j9ue80SXR3SYKIpiheQbFO4lCVPXHXtW1RRQAUUUUAFFFFABRRRQAUUUUAFFFFAHyN4n/AOR08Qf9ha8/9HvWZWn4n/5HTxB/2Frz/wBHvWZX09D+FH0RoFFFFbDCiiigAooooAKKKKACiiigAooooA7Twj/yLMH/AF0m/wDRr1tVi+Ef+RZg/wCuk3/o162q/LsV/vE/V/mfJYj+NP1f5hRRRXMYhRRRQAUUUUAFFFFABRRRQAUUUUAd/wDCT/kFa9/2Fv8A21t67+uA+En/ACCte/7C3/trb139fT0P4UfRH1FD+FH0X5HzP8RWx8ZPE/8A26/+k6VmaU2/XNPB5H2mPg/Wr3xJOPjJ4m/7df8A0nSszRWz4g07/r5j/wDQq96C/wBm+TPk68f+FS/95fofVyRpGMRoqj0UYqlBoljbapd6jAkq3V4qrO5nchgudvyk4GMnoBV+ivHPsih/YlgNIh0xYnW0hKFEWZwQVYMCWB3HkZOTz3zmkt9Esba+e8jSVpmdpB5txJIqM3UorMVTPP3QOp9a0KKACiiigAooooAKKKKACiiigAooooAKKKKACiiigAorNn8R6Ja3E0FzrOnwzQECWOS6RWjz03AnjPvWirB1DIQysMgg5BFAC0UUUAFFFFABRSMyopZyFVRkknAAqO2uoLy3Weznjnhf7skThlbnHBHHWgD5L8T/API6eIP+wtef+j3rMrT8T/8AI6eIP+wtef8Ao96zK+nofwo+iNAooorYYUUUUAFFFFABRRRQAUUUUAFFFFAHaeEf+RZg/wCuk3/o162qxfCP/Iswf9dJv/Rr1tV+XYr/AHifq/zPksR/Gn6v8wooormMQooooAKKKKACiiigAooooAKKKKAO/wDhJ/yCte/7C3/trb139cB8JP8AkFa9/wBhb/21t67+vp6H8KPoj6ih/Cj6L8j5g+Jhx8ZfEv8A26/+k6Vl6Gf+Kh07/r5j/wDQhWl8Tf8AksviX/t1/wDSdKyNHiWbXLGNy4VrhASjlT94dCMEfhX0NP8A3X5M+fq075hzea/Q+uK5yx1PUZPFXiKyklE0VnDBJaxrGFKl1ckZ7/dHWtmw06HTo2S3e5cN1NxdSTn83YkVSi8PRw6vqeox394JtSiSOQAoBGFBClPlyCNx6k14bPpjN8I39091c6frF9qsupwwxyyW+oxWyBVbI3xmBQCpII5JIwOnejbeJNSlms9RM5Nrda3LphszGu1I1Z41cHG7dujBOTjDEY6Vvx+HVRXdtSvnvZBEr3xMazMkbbgnyoFCkls4XncabF4VsItSW6V5jHHdPeR2pK+Uk7AhnHG7PzMcZxlicVXW/wDXT9A6Nf1s/wBTaooopAFFFFABRRRQAUUUUAFFFFABRRRQAUUUUAcrphiHxA8Veft8r7NZ79/Tbtkzn2rlNA1bVrTR9O0PTDJbfaYb66sHYRj90s2IFPmfwbWBOPm24xXoknh7RZruS6l0iwe4lIMkzWyF3I6ZOMnFTX+kabqqRJqen2t6sLh4hcQrIEYdxkHB9xR/X9f1+YHA6tr/AIigl1iePVRD/Z0un7II4Y3jbztokUsV3FfmyCCDwOamfxRqum395pNxeT3jDWorGK7McKyJG8Alx0WPOcqCR3HU9ezm0DRrlp2uNJsZWuGVpjJbI3mlfulsjkjtnpRJ4f0aaK5im0mxkju2DXKNbIROR0LjHzEe9H9fl/k/vBbWOD1DV/FEH22KbWjbTWWiTX37iKCQPJHKwXcSh6qo3AdDnGKJNfvdMvPFGt/aZZHj06xkSBgpjjMgbnoCFUknqO+TXdt4f0ZgQ2kWBBg+znNsnMX/ADz6fd/2elPGh6SJhMNLshKIPs4cW6bhF/zzzj7v+z0o6f13f/AQdf68v8n95ytvrOsf8JJb6JfXphhvPOmt7v8AcmYoiRkRsADGGy7twD8qj3NP8EatpuifDLSZ9Z1O1s4WLxrPdzJErt5jnGTgZIBOB6Gui/4RrQv7PisP7F077HC/mR232RPLR/7wXGAfertrZ21jbrBY28VtCvSOFAij8BxTEfJHiC4hu/Fmt3FrLHNBNql3JHLGwZXUzuQwI4II5zVCtPxP/wAjp4g/7C15/wCj3rMr6ah/Cj6I1CiiithhRRRQBBeDNnN/uE/pUVwP9DgPoyfzFWmVXUq6hgeoIzSGKNlCtGpUdAV4FZSg22/QQ+ikpa1GFFFFABRRRQB2nhH/AJFmD/rpN/6NetqsXwj/AMizB/10m/8ARr1tV+XYr/eJ+r/M+SxH8afq/wAwooormMQooooAzNctILyzMTxLNcSKUgVv4GP8Y9Mdc9fzrKurmcT3MxMV3Bp6Q7YpBnzgRkuuDjcT0JB6cYzXQXWnWV8yte2dvcFRhTNEr4+mRTjZ2paNjbQ7owAh8sZQDoB6VvGooqzN41FFWZNRRRWBgFFFFABRRRQB3/wk/wCQVr3/AGFv/bW3rv64D4Sf8grXv+wt/wC2tvXf19PQ/hR9EfUUP4UfRfkfL/xMGfjN4m/7df8A0nSsvQx/xUOn/wDXzH/6EK1PiX/yWbxN9bX/ANJ0rM0P/kYNP/6+Y/8A0IV9FT/3T5M4J074nm8z6zoorGttfe51rWNOFhIH02ON1IkUmfeGIAHQfd7nv2rwz1TZorF0TXLrUNU1DTdS09LO7sRG58mczRukgO0hiqnPynIxx6nNQWniSe98V3OlQx6X5Nu5V86kftRAUHcIPL+7k4zv7Z9qOtg6XOhooooAKKKKACiiigAooooAKKKKACiiigAooooAKKKKACiiigAooooAKKKKAPkbxP8A8jp4g/7C15/6PesytPxP/wAjp4g/7C15/wCj3rMr6eh/Cj6I0CiiithhRRRQAUUUUAFFFFABRRRQAUUUUAdp4R/5FmD/AK6Tf+jXrarF8I/8izB/10m/9GvW1X5div8AeJ+r/M+SxH8afq/zCiiiuYxCiiigAooooAKKKKACiiigAooooA7/AOEn/IK17/sLf+2tvXf1wHwk/wCQVr3/AGFv/bW3rv6+nofwo+iPqKH8KPovyPl/4mH/AIvN4m/7df8A0nSsnSFaXW7FElaJmuEAdMEr8w5GQR+YrU+Jxx8Z/E3/AG6/+k6Vl6C2fEWnf9fMf/oQr6Sn/unyYcnvXPqyws5rONluNQub4no9wsYI/wC+EUfpWPbaXq1p4n13VI4rJ0vYIVtka4cHdGGHz/J8oO7tnFdFRXgmxzGj2nia0huXubLR0uppEkkkS8ll85sgOSTEu0BBhVAPQZI7z3Gi3mqa1ZXGowWdvFpt41xbS28rNJKCjKAwKDZ97JwWziugopgFFFFIAooooAKKKKACiiigAooooAKKKKACiiigAooooAKKKKACiiigAooooA+RvE//ACOniD/sLXn/AKPesytPxP8A8jp4g/7C15/6Pesyvp6H8KPojQKKKK2GFFFFABRRRQAUUUUAFFFFABRRRQB2nhH/AJFmD/rpN/6NetqsXwj/AMizB/10m/8ARr1tV+XYr/eJ+r/M+SxH8afq/wAwooormMQooooAKKKKACiiigAooooAKKKKAO/+En/IK17/ALC3/trb139cB8JP+QVr3/YW/wDbW3rv6+nofwo+iPqKH8KPovyPln4pHHxn8S/W1/8ASdKyvD7Z8Sad/wBfKf8AoQrQ+LD7fjP4k/7df/SeOsTQpJz4gsfsojM3npsEhIUnPcjJxX0lP/dPkztUPcufY1ZK+JbD7Zq1vL5sH9kxrLcySptQKwY5B7jCmptIbWWgb+3o7GOXI2iykd1/Hco9q5q+8Pahq2peMLd7aS2t9WsI7a3uWdCpZUdScBiwGWHUCvAZirXVzodK1+31S6e2EFxa3CQx3HlXCqGaJ87WG0kYypGOoxyOlQx+KbGTUktQk4jkuns47ohfKeZQSyA53Z+VhkjGVIzWZZ22rprh1qbSZA6WMFitqJ49zHzN0j53EbVBGMnJweOlVbXw3qUc1ppzwYtbXW5dTN4ZF2vGzPIqgZ3bt0mDkYwp56VWl/67/wCWpP2b/wBbf56Hb0UUUhhRRRQAUUUUAFFFFABRRRQAUUUUAFFFFABRRRQAUUUUAFFFFABRRRQB8jeJ/wDkdPEH/YWvP/R71mVp+J/+R08Qf9ha8/8AR71mV9PQ/hR9EaBRRRWwwooooAKKKKACiiigAooooAKKKKAO08I/8izB/wBdJv8A0a9bVYvhH/kWYP8ArpN/6Netqvy7Ff7xP1f5nyWI/jT9X+YUUUVzGIUUUUAFFFFABRRRQAUUUUAFFFFAHf8Awk/5BWvf9hb/ANtbeu/rgPhJ/wAgrXv+wt/7a29d/X09D+FH0R9RQ/hR9F+R8ofF04+NHiP/ALdf/SeOsbwu2fFemf8AXyn/AKEK1PjC2340+Iv+3b/0njrF8KPnxbpg/wCnlP5ivfpy/wBlt5M9aC/cXPs6iiivGPPCiiigAooooAKKKKACiiigAooooAKKKKACiiigAooooAKKKKACiiigAooooAKKKKAMO48E+Fbu5luLrwzo808zmSSWSwiZnYnJYkrkknnNR/8ACA+D/wDoU9D/APBbD/8AE10FFAHP/wDCA+D/APoU9D/8FsP/AMTR/wAID4P/AOhT0P8A8FsP/wATVLxro0+pX2jz6TMtpq1vNI9tcFRyRGx8t+5RuhH49qwrfxXZrf3usWmnQ2+rzfYdOuYpUG63uHmkRhIRyQOD1+YBeeRQtdA6XOq/4QHwf/0Keh/+C2H/AOJo/wCEB8H/APQp6H/4LYf/AImsa78X6zBqEumRpZfa4NWgsXnaB/LeOaPerBd+Qw6EZOcZ4zw/SvFl/qtxFos62a6i817FLN5DGFkt3CEiMvnLb143HHPJo3Wn9aJ/qPbf+t/8ma3/AAgPg/8A6FPQ/wDwWw//ABNZfh74d+HbfTJU1Xwro5nN9duvmWMLnymuZGi5wePLKYHYYHGMVh+GPEl/YeEdM0vSbdLrUI7Ca7ZPIdhKRMyqgwfk3EN8zHAwOua0r/xjr1ve6gYotPW3sdUtbExSROZHE4jwdwfAKmT0OcdutO13Zf1rb8xa21/rS5vf8ID4P/6FPQ//AAWw/wDxNH/CA+D/APoU9D/8FsP/AMTWPD401COZ9MvRbvqI1WTT1ngtZDGVWETb/KDFs4IXG7rz0qjf+NPE9pBqEr2thavpukx6jNbzwuzMd0isgIkGM+XkHBxnkGj+vwuPX+vW35nTf8ID4P8A+hT0P/wWw/8AxNH/AAgPg/8A6FPQ/wDwWw//ABNYJ8U3+maj4nu7u4We3t7i0gtLfym+RpkTb0JyMvk4GT2xwKuR+INV1DUJdCuLaC3uGhnmW4ntn8uaBdgUiIuGBJcggn+A+oqXt/XqBpf8ID4P/wChT0P/AMFsP/xNH/CA+D/+hT0P/wAFsP8A8TUXw5JPw20AscsbKPJ9eK6WqkrNoRz/APwgPg//AKFPQ/8AwWw//E0f8ID4P/6FPQ//AAWw/wDxNdBRSA5//hAfB/8A0Keh/wDgth/+Jo/4QHwf/wBCnof/AILYf/ia6CuW+JcMU/w51dZo0kAiBAdQcHcOaALP/CA+D/8AoU9D/wDBbD/8TR/wgPg//oU9D/8ABbD/APE1h+JfsfhTxFoeo6Xbpa+aZxfRWyBRNbpAzlmUcEqVXBPTOO9JceMtfi0M6ithb+XJ9jMMkkMiJmaQI8eCcsVyp3jAOelNa7Abv/CA+D/+hT0P/wAFsP8A8TWXpPw78Oxanrj33hXRzBNfK9nusYWAi+zQqdox8o8xZOOOcnvk1v8AhLtftb2ZLv8As2WKy1qHTJ/Kt5EaZZhGVdcyHYV8wZB3ZwelTL4y1S8s7y/02zjexijvNryQOPKaEkKWYkBw5VuF5HHNJ6R5un/AT/Jjs78v9f1oa/8AwgPg/wD6FPQ//BbD/wDE0f8ACA+D/wDoU9D/APBbD/8AE1yGr+LvEf8AZM0LXNnBNLZ2F9FNbQOpRZpgjxnLnP8AvDHBIxnmuik8U6gdcuLKytluk0+4ht7zZbuCdyBndWztUKGU7TknB9qbVtxLVXX9dS7/AMID4P8A+hT0P/wWw/8AxNH/AAgPg/8A6FPQ/wDwWw//ABNc9balca54s8G60xgS3voLqWGJIiJEUxgqGfcQeD0wMHNeg0WtuFzn/wDhAfB//Qp6H/4LYf8A4mj/AIQHwf8A9Cnof/gth/8Aia6CikBT0zSNN0W2a30fT7XT4GcyNFawLEpYgDcQoAzgAZ9hVyiigDKvfC3h/Ubx7vUNC0y7uZMb5p7ON3bAwMsRk8AD8Kji8HeGIJllg8OaTHIhyrpYxAqfUELxWzRTuwCiiikAUUUUAFFFFABRRRQAUUUUAFFFFABRRRQAUUUUAFFFFABRRRQAUUUUAFFFFABRRRQAUUUUAU7rSrW9vrW8uBN51oxaEpcSIoJGDlVYBuPUGobrw7pN4161zYxu18sYuGBIMmzOw5B4YZ4YYI454FaVFAGQ/hbSHWIPbyExXQvA/wBok3NMBgOzbssQAB8xIwMVC3gvQiFxazI6XL3aypdzLIsj/fIcPuAbuucH0rdoo/r+vuD+v6+9mAvgnQEjs0is5IvsQZYDFdSoyqxyyEhgWUnkq2QfSpJ/B+iXLXLTW0pN1cx3U2LqUbpY8bG4bjG1eBxwOK26KAMKfwZoVys4ltZd1xdC8eRbuVZFmChd6uG3IdoA+UjiluPB2h3QuhPayuLy1FnP/pUo3xAkheG9WPPU5OTzW5XA+K51i8ZSwzahf28cmiTSRxW13KhaYSKFKIrctz0A5pXtp/Wi/wAlYfn/AFv/AJ6nSTeENEuGuzPaNIL2FIbhWuJCsioAFJXdjcMDD43cdaa/g7RZI7UPBcF7QsYp/ts3nDdgMDLv3sCAAQxI4HpWFpfjHVrSE2mv6bGr6Zplvd6pdtc7Sm6Ny2EC8sGjPGcc9e1XbbxwtxMlt9iX7VcSxR2oSffFKXRn5kC4BUI+4AHGB1zVOOrRKen9djotM0200fTYLDTovJtbddkUe8ttHpkkmrVedaPr+p2txDFeyyYn8SXNo4Fx5oRFiZlTc65Kjbnjacj61o634s1ceC7vXdHsrVbRrUTWlzJckuQWABaPZgZByPmPvijdX7/qrj2dv63a/Q7SiuXm8aJb6t9ga3jkeGaKC78qfc8TSDOVTbllAKlmOMA+1UE1671bxb4Wu7UNBpeoQ3MiBbliZ1CAoXjwFHXI5J5pbiO3qlq+kWeu6ZLp+pxvLazDEiJK8e4fVSD+tc42p3Nh4818K01xBFp9nKlu9xtjjZpJVZ/mOEGFBJHZehNZTeKtR1nWtCudGgjM3nX1tNaHUHW3mMQxneqHcO4JTv2oKen9fM7WDQ9PgmeUQtLJJGYme4leZth6qC5OAe4HBqhH4J0GPS/7OS1n+yeYkixG8mOwo25ApL5VQRkKML7Vkj4k2s1lHLbWZe4WAzXNo0wEseJTGyIAD5jZR+BjO3qM1oeDp5ppdfSaeaZYdXlji86RnKJsQhRknAyTx701e/8AXRr9WS9P68i1L4P0WZ53ktpi1xdx3sp+1y/NMmNj/e4xtXjpwOKF8IaLG18Y7WRFvw/nxpdSiMl/vlUDbULdyoBPetuil0sMwZvBWg3EbJNZyOrWiWZzdS/6pG3IB83BB5DDnPep4/C+kxaqupJBMLoIqM/2qUiUKMKZF3YkI7MwJ9616KAMOy8HaHp19Dd2dpJHJA7vCPtUpSIv97YhbaoPoABW5RRQAUUUUAFFFFABRRRQAUUUUAFFFFABRRRQAUUUUAFFFFABRRRQAUUUUAFFFFABRRRQAUUUUAFFFFABRRRQAUUUUAFFFFABRRRQAUUUUAFFFFABWW+hRv4oj1z7ZciZLY2wgGzyihYMf4d2cgH71alFHW4dLGJN4VsbnUtWuruWeddWtUtbm3cr5flqGAxhQwPzt3PWqz+C4pdLt7S41jVJpbOZZrS8eSPzrcqCBtwm08Eg7lYkHnNdJRQBzMfgazjkgc6jfyNDqD6id5iPmSspVt3ydMMeBikj8CWMeg3ei/2jqTadPG0UVu0qYtVJziM7cnBAxvLY6Diunoo8gMC08JxWerSX8eqagWuAn2uItGI7p1XaHcBAQ2AAdhUHAyDUGmeB7PSrywmg1HUHi00yfY7aR4zHArjBQfJuK46ZJI9a6aigDnNU8FWWrahfXk97exyXkUEZETRgReS5kjZcoeQxJ+bIPcVFB4Etba7iurfVdSSeK5muVfMR+eZcScGPGCefY9OOK6iigNznU8F2NtfW93pl3e6fJFD5Eot5FxcpuLYk3KTnczHcuG+Y81oaRokWjSX7w3FxMb66a6kExX5XIAIXao4wo65rSooAKKKKACiiigAooooAKKKKACiiigAooooAKKKKACiiigAooooAKKKKACiiigAooooAKKKKACiiigDHvvF3hvS72Sz1PxDpVndR43wXF7HG65AIypYEZBB/Gq//AAn3g/8A6GzQ/wDwZQ//ABVfMHxy/wCSz67/ANu//pPHXn9A7H2//wAJ94P/AOhs0P8A8GUP/wAVR/wn3g//AKGzQ/8AwZQ//FV8QUUBY+3/APhPvB//AENmh/8Agyh/+Ko/4T7wf/0Nmh/+DKH/AOKr4gooCx9v/wDCfeD/APobND/8GUP/AMVR/wAJ94P/AOhs0P8A8GUP/wAVXxBRQFj7f/4T7wf/ANDZof8A4Mof/iqP+E+8H/8AQ2aH/wCDKH/4qviCigLH2/8A8J94P/6GzQ//AAZQ/wDxVH/CfeD/APobND/8GUP/AMVXxBRQFj7f/wCE+8H/APQ2aH/4Mof/AIqj/hPvB/8A0Nmh/wDgyh/+Kr4gooCx9v8A/CfeD/8AobND/wDBlD/8VR/wn3g//obND/8ABlD/APFV8QUUBY+3/wDhPvB//Q2aH/4Mof8A4qj/AIT7wf8A9DZof/gyh/8Aiq+IKKAsfb//AAn3g/8A6GzQ/wDwZQ//ABVH/CfeD/8AobND/wDBlD/8VXxBRQFj7f8A+E+8H/8AQ2aH/wCDKH/4qj/hPvB//Q2aH/4Mof8A4qviCigLH2//AMJ94P8A+hs0P/wZQ/8AxVH/AAn3g/8A6GzQ/wDwZQ//ABVfEFFAWPt//hPvB/8A0Nmh/wDgyh/+Ko/4T7wf/wBDZof/AIMof/iq+IKKAsfb/wDwn3g//obND/8ABlD/APFUf8J94P8A+hs0P/wZQ/8AxVfEFFAWPt//AIT7wf8A9DZof/gyh/8AiqP+E+8H/wDQ2aH/AODKH/4qviCigLH2/wD8J94P/wChs0P/AMGUP/xVH/CfeD/+hs0P/wAGUP8A8VXxBRQFj7f/AOE+8H/9DZof/gyh/wDiqP8AhPvB/wD0Nmh/+DKH/wCKr4gooCx9v/8ACfeD/wDobND/APBlD/8AFUf8J94P/wChs0P/AMGUP/xVfEFFAWPt/wD4T7wf/wBDZof/AIMof/iqP+E+8H/9DZof/gyh/wDiq+IKKAsfb/8Awn3g/wD6GzQ//BlD/wDFUf8ACfeD/wDobND/APBlD/8AFV8QUUBY+57Hxd4b1S9js9M8Q6VeXUmdkFvexyO2AScKGJOACfwrYr5A+Bv/ACWfQv8At4/9J5K+v6BBRRRQAUUUUAFFFFABRRRQAUUUUAFFFFABRRRQAUUUUAfIHxy/5LPrv/bv/wCk8def16B8cv8Aks+u/wDbv/6Tx15/QUFFejWreGrzwlq2vJ4YtM6fdWcMavNON6sCHLBZAuSVzwAOehqnr3w+e31OWZNY0W2t7hDexwGeTdDbNlkYrsyeCBgZOe2OabWv9driTucLRXeP8NZ7Ww1OK9uoF1Czv7a0VlmbysTDIYjyyxByMHII5yKyvEfgW+8N2Et3NfWF5Hb3rWE4tHcmKYLu2nci54HUZpf1+X+aGtf69f8AI5iiuktvA+o3nh+XVLW4s5jFClw1nHIzTCNn2K2Au3738O7d7U9vAt4Lw2Salpsl5E7rd26SPuswilnaQlMbVAIJUtzwMmjYDmKK6hfAl1cabPf6fq+k3trA8EbSRTsvzSttUEOqlcHrux7Zq5cfDLULOPUpL3WNHtk026+yTNLNIoMhTcAvyc5HSj+vy/zQXOLorrpfhvq6rbNbXNheLPcvau1vMxWCRE3uHJUDAXJypYcGoIPBL3ttezabruk3os7T7XIkDTbim7acKYgcg4yDjgg0Bc5iit3XfCWo6Cs0szQXNrBc/ZJLm3YlFm27jH8wByB14x71hUAFFFFABRRRQAUUUUAFFFFABRXReHtDsrzQtY1rVvtD2umCFfJtpFjeR5H2j5mVgAACeh7VqHwRZQ/FWLwzdX7x2MzqYp2IV2V4w6Lk8BjkLnGMnp2p2d7BfRs4miu71zwroXhrWbW11iLV0nmtUd9MjmjaZJWkK483ZtI2jcMKc5A96sQeDfDKfESfwvcXepXTvefZ4Zbdo0ECbNxeTKncQTggbcbSc9qW/wCP4A3bc88orqrfw3pk3gnX9UW6uJbzSrqKJNgUQyI7lQ3cnhSe3UdatW/guztfAP8AwkWtz3KSG7t1Ntb7dy28m75jkfeIUlRkcYJ60dL+n4/8OHW39aHF0V31l4P0fxHDp0ehQ6hYXOoXMgje+vI5kFtEuZJmCxJjngDJyQ1SL4FsE8QNa3FpfR2n2E3Fq8uqW0f29t6quyXaY0BLdMsfegP6/Q89ort7HwdZXGueItP1K21LS59M0+W7htnmjlYFEzh5AoDA5BG1RkHr3qfRvAmn31potrdTXS6prlpcXNs8bqIovL3bFZSpLbtjZIYYyOtHS/8AXX/Jh/X5f5o4GivSP+FZW15dXmh6XLctr1ja2s8jSSL5EplK7lChcrt8xeSTnB4FUde8J6P4WuITqlrqt5YESRi+tLuDZczKMbVAVvLAbruJbH8Ioem4LXY4WivQtP8ACHhzUvHWkaCRqlmby1824ja4jmeKRlLqm7y1A+TBPynk47Vh+GfD2na1YeIXu5rpLjTbCS7gEW0I20gYYnJ7jgY780d/n+Af8D8TmaK6/QvBceoeCtZ17UJ5ITa2xls4UxmbDqrMcj7oLY9zn0NchRs7AtVcKKKKAPQPgb/yWfQv+3j/ANJ5K+v6+QPgb/yWfQv+3j/0nkr6/oEwooooEFFFFABRRRQAUUUUAFFFFABRRRQAUUUUAFFFFAHyB8cv+Sz67/27/wDpPHXn9egfHL/ks+u/9u//AKTx15/QUdHp3iWzsvBGpaBLp08sl/NHK1yt2FCFM7cJ5ZyOefm/KtlviLaHxDHqa6JMuzShpo23wEse1QqyxyeX8j4HoevauDop3/r5W/IVl/Xrf8z0i/8AinZX8l5JJ4fnWS8uLS4lI1EH5rcYGMxd8c1keIfHNvrmj6pZJpUtu2oaqdT8w3YcRsVKlMeWMjk85FcdRS3/AK9P8kNabf1v/mz0PSvilHpXhyLTItFcNHaLBujvNkTOsnmCXy/LPz5A3HPIHaof+FiaZH4muNZtvDCpJqKyJqUT3zMs6yLh1T5R5eSd3O456cVwVFD1d2C0Vkdjp/jHSNOs9S06Hw9MNOvjA/ljUP3qvE5YMXMZBznBAVeB681a8QfES012y1OH+xJIn1DUY9QJa8DqrKm3bt8sZUjPcVwlFH9fl/kgPUn+MsWU8vw+/lrcNL5Ml/ujVHi8p4kURjau3oB0J71keFNd07S/ElzrmkQQ6Va2NjLm0urzzpLxnBCoMhd3LLwF4C5OTyeEoo/r8LBZbF+e+trnTZBPaO+pyXRme+M5+ZCOU2Yxndzuz7VQoooGFFFFAgooooAKKKKACiiigDc0HxDHpWm6npl9ZteWGpLGJY45vKdWjbcrKxVh6joeDW5H8RIF8VHxBLoavfmc4YXRCpb+T5QiUbeGAwQ/r2rh6KdwO5i+IFiJtNN1o11PHpNo1vYOdQXzomZifMLmEhiOAo2gLjvVez8V+H7Jr8xeHtQRrxVjMyauPNCYG8F2hPLnJYjHBwMDOeOopAdNbeKLC18Na7pEOkSomrTpKjLefLbiNiyLgoS2M4JJ5x2q/L8R7i98H32japZR3FxeSI7XixwR7Qi7QNoi5OON27IxwRXFUUf193/DB1uddD46Nn4wg1WzsALC2tfsMdg0v/LuUKsu8D7xyzZx1PemXPinSL7TrLTLzRLp9P0+B0tVXUAsyO8m9nL+UVbPTG0YHvXKUUf1/X3sLHaWvxAH9varqepac9wb/T206OKG5EYgiKBByUbcQAOeOc+tN03x/wD2fYaeDpplv9KguLexujcYWNJc/fTb8xXc2MEdelcbRR/X5/5sP6/r7jv7b4qT2V4dTs9MVNYmitobm6afckqQkHhNoKltigncenAGapy+NtOkNvaroki6Ympvqc1rJdiQyylcBA2wbUHTGCcE81xlFO7vf+u4rK1v67fkdLoHjBtK8djxPqNq9/cea8xjWYRAuwI67W4AJ4x6UaB4msdD/tsHTLidNUtHtFH2xVMSMQSc+Wdx4HYD2rmqKXS3yK63O10b4j3OnaBfaZf2UV8J7NbOCTy4EMMYOQDmJi/PZjjnPXmuKooo3dxLRWCiiigD0D4G/wDJZ9C/7eP/AEnkr6/r5A+Bv/JZ9C/7eP8A0nkr6/oEwooooEFFFFABRRRQAUUUUAFFFFABRRRQAUUUUAFFFFAHyB8cv+Sz67/27/8ApPHXn9egfHL/AJLPrv8A27/+k8def0FHo1qfDd74T1bXo/C9qW0+6s4YkeaceYrAhywWQLklc8ADnoaq3nwz1a+1qT+zfscaTXrQm2DvusiYzMEf5eSE/ubuRjrWTpPiq20vwff6N/Z80k93PFcC5F0qqjRklPk8s5HPPzc+1bWp/E2HVNbj1SbS75Zsl5FXV32o/llQ8I24iIJ3c7umOOct2v8A12X63JjdL+vMoXvgm0sPBF3rEmt2s9zDfJbKkHmGNgYi+OUzv6cHAGCDzxVDTPBl9quiTajbXdkDFby3QtWlbznijIDsAFIHXoxBPbNa/iL4iReJdK1GzvdIaM3V1HdRSxXIDJIkXl5k/d4fI5ONvNP8PfEe30PwymkPo0ko8i4gmeG98lZxL/E6+WcuvQHPTIxS73/rT/Mrt+P3/wCRlf8ACC35uorFb2xOqyNGrabvcTR713ZbK7MBeThjjvRH4HnutPvb3TdZ0m+hsYBPMYZnUgF9mMOikHPOTgY5zyK13+JNp/wlVv4li8Oour/KLqR7tmimAQo+1Ao2FlOMksBjgVSsfGGi6a2p29l4cmi07U7U280X9okyg7w4IkMeABgADZ06k0Br+X/BJW+F+pQz6lHd6vo9qNNWB7iSaeQIBMAUIYIc9cfX25qq3w61d7OKexnsr93uYrZobWVmaN5F3JklQuMdSCcd8Voa18RbPWLPW4Rok0DatDaxlvtwYReQMKQPK5zjkZrTg+Ma2ltClpoJjaGSCSOP7bmGNo1KEJH5fyqwJyM5yc5p/wDA/wCCLX8Pxt/mczB4Ge8iu20/X9HvHtLWS6khhebftjOGABiGT+hHINVNX8H6lpCXcpaG7gsTEt1NbsdsLyDKodwU7vXAIHTNdB4a17SLbxl/bek2MWi21jBPcTQXV95zXW5SBCmQoOSQAMZxkknFcnNqdveW9/JqFo0+p3c4mW888qI8klxsxhs5654xU9F/XUrq/wCv6/4Jm0UUUxBRRRQAUUUUAFFFFABRRRQB0Xh7Q7K80LWNa1b7Q9rpghXybaRY3keR9o+ZlYAAAnoe1Ta5oOleGPHFxp2qNe3WmxoJYzbsiTOrxh4wSwIHLAE4PfAqnoPiGPStN1PTL6za8sNSWMSxxzeU6tG25WVirD1HQ8Gr+peK9N1zW/7T1fRGeZrxJG8q6IU26IFWDaVx/CMv168U9Lr+v67+gujLcvhLTb/WNIsdLS8sGnthd6gby5ScWsTH5TlY05K4OCOS6itUfC2M65raxNcXFlYXxsbS3FxFFPeS43bQ74UYHJwCT2BrmrTxxqNv4jvdTkWOSO/nWW5t2iicOqtuVAXRgoHGMDsPQVu6j8UYNWvZpL7QmMB1JNTt44bpI2ilUYIZhF86kAdQG4+9Rpp/XVfkrhrr/Xf9SK3+HM6+HZdTubG8muZfOe302G5ijmiijYq0j7hufBGMInbJIyKW8+Gd5ZaLbbLW4vtTuPJ80wXMQjsjKRsR4+XJORz8qgnqcUN8U57i8tdUvNMEmr2QuRbXKT7IwJixw0e0ltpdsYYds5pB8UZoLuXU7LTfJ1i5gt4Li5a43RuImU7hHtGC2xQfmI6460K3X+t/+Bf9Qd+n9bf8Es3nwrmGr2OlWAlkEszRXGrtcRtbKyKWkAjXLLtAP32BOOgpifDQXOtsixXVjpNva/anvLi7gk+1IW2r5bKRGpY8YLkDqT2plt8UV066mOmaL5VteXst5fQS3fmeaZIyjIpCDYMMx/iOcelVk+IcKaB/wj39kyNof2RoPIa7HnbzL5nmeZ5eMhscbMYpf1+H9W/Ef9fj/l/wC7Y/DGe4utQlu9PvLWO3mW2t9Oe9gFxczFN20SsAmNvOQrE5AAPWoLf4czr4dl1O5sbya5l857fTYbmKOaKKNirSPuG58EYwidskjIpbj4nLqCxQano7S2tndQXNikV3seExIECsxQ7wQozwpz0xQ3xTnuLy11S80wSavZC5FtcpPsjAmLHDR7SW2l2xhh2zmh7af1p/n/w4LzHzfC2+h0uzihtZ73U7ow+a0VzEsViZSNiyJgyHIPLfKoz1OKkuPhc763Z6dY+cLVvMM+syXET27CIfvCqJ9zHYM+T3C81Fb/Faey1J9XstMEesXEFvBc3DXG6KRYipyI9oKlgig/Me+BzTLX4mRafHNZ6dorJpl3PcTXltLd72l85NhVXCDYAOnBPrmm/Lz/4H9feJXtr5f8Enh+GhudauRJb3en6ZaW6TF7i8t3a73sVjEcgxGu4juzAYPJ6Ulh8Mric31xeadew+Vcm1tdKN7CtxPIFDN+8YBSADn5VJOeB3qm/xDhl0FvD8+kyPov2SOBIRdgTKySGQSeZ5eCcsRjZjFWrj4p/2jdQzappBm+xX6XtiIrry/JKoqBHJQ7x8ik42nOfWjT+vX/L+kGv9en+Zm6fpnhi5sr03NjrUUmn2jy3Uz3kSKk24qkYTySTlioyWB+8cDFcfW/qfic6hoklmtv5c95evfX84b/XOSdigY4VcscZPLH0rAqdSv6/r8wooopiPQPgb/wAln0L/ALeP/SeSvr+vkD4G/wDJZ9C/7eP/AEnkr6/oEwooooEFFFFABRRRQAUUUUAFFFFABRRRQAUUUUAFFFFAHyB8cv8Aks+u/wDbv/6Tx15/XoHxy/5LPrv/AG7/APpPHXn9BQUV6dp+t/2j4J1nWk0fSvtdpeWMNsDp8LlVwVK7imTu2jk807UvhbNd+If3uoLZz3moNFLBJbbFRmjMuISWHmrkFM/Lzim1Z/15f5iTuv68/wDI8vorvtY8HaNo/gW/vJJ75tSt9TS1DTWZhK5hLmNkL8cnlufujGQc1R0vwRaaj4StNWbWJIrq9u2sbazFnv8AMmABUb9/AORzjj0NG+3l+P8Aw43pa/8AVv8Ahjj6K9BvvhZJZB5Tqbi3tRcG9aW08uSNYcZdELZkVtwCnK59qh0P4e2HiXzDouuXM67XKFtMZQjLHvIlO8iME/KCC2SDxS6XA4SivYY9O06bwYkr6Xp/myeEprppBZxhvNSbasmQuQ2DjI615XqunHSr42zXdpdnYr+baTCVPmAONw7jOCOxoejt/W7X6BF3V/62T/UpUUUUAFFFFABRRRQAUUUUAFFFFABRRRQAUV1PhnS7BvC+va7qNol9/ZwgjhtpHdULSvgs2xlbgKeAepqXxNp2leE/iBcQf2cNQ08RLLFaTTuoHmRBlDMpDEKWHQgnHWm1Z2Dc5GivTLjRNDj0nUL6fQLSG70jTopbmzinuBG088gCK26QsNiEEgMMscdqmj8O+GrXx3a6VLov2mz1GGK9kklupFFhbtCHYqVYcqdxy+4YAGMnNH9f191xX0v/AF0/zR5bRXbaK3h+W2vWl8OWtzY6ZBI819PcXAlndmIhACSKqkkqMbTwrGtm/wDCWgWz61pbWLLLomn21695HM/mXBOwyqQSUAIkwuAMbRyaQ+tv66f5nmFFd3qY8NWWg6LrL+HIorm6e4zpv2ybZNCBiKViWLj5s9CA204xWjcaJocek6hfT6BaQ3ekadFLc2cU9wI2nnkARW3SFhsQgkBhljjtQC1/rzseZ0V6lH4d8NWvju10qXRftNnqMMV7JJLdSKLC3aEOxUqw5U7jl9wwAMZOaw9Fbw/LbXrS+HLW5sdMgkea+nuLgSzuzEQgBJFVSSVGNp4VjR/X9f16Anf8PxOJor1G78J+HbWbWNNm09vM0PT7a9kuo53ElyTsMqkElQCJMDABGByaydXXw5p2maFqZ8NQi7voJ2k0z7XP5e3diGU/Pv554DDOM8Uf1/X3Anf+vn+pwlFemX2i6Fa6Vq2oSaDaLc6PbWsdxaRz3HlG4mfJzmUt8ijbgMPmzU6eG/C9l8QLjQbnSWnsmjN3NeS3TqbG3MAkBXaQMqTjL7s/KOpo/r+vlqH9f1+R5ZRXZ6RJoc2h31xceGrRrfT7Ta93Lc3Hmz3DkiPAWRUX1xtPCHmuMo62AKKKKAPQPgb/AMln0L/t4/8ASeSvr+vkD4G/8ln0L/t4/wDSeSvr+gTCiiigQUUUUAFFFFABRRRQAUUUUAFFFFABRRRQAUUUUAfIHxy/5LPrv/bv/wCk8def16B8cv8Aks+u/wDbv/6Tx15/QUb2n+K7jTfDF3okFhZtFdypM9w/m+aHTOwghwoxn+79c1fvfiDdahqn9o3WiaO11IpW5lEDg3OUKZY7+Dg5ym3nB7CuSooCyOs1j4h6nr2m3tlqlpZTxXUscqkrIGgZI/LUod/Py/392ap2/jG+tPD9hpVrb2sQ0+8+3QXKh/NEvHJy23HAGNtc/RRtqFtLHYf8LGvk1yXU7fR9HgkukkS8iS3cx3gkA3CQFyccZwpUZ571Np3xQ1DSooYrPRtHjhtpXlt4xDKBEXj8tgMSAtle7Fjz1riaKOlgOz/4WVff2d9iXR9KWL+z304YWbIhdtxH+t6571zGqagNSvftC2VrZDYqeVaIUTgAZwSeTjJ96p0UBsFFFFABRRRQAUUUUAFFFFABRRRQAUUUUAa2i+IbjRbe9tlt7e7tL5FS4trkNsfa25T8rKwII7HuavXHjS4vtU+36npmnXdz9tF2ZHiYMdqhViyG/wBWMD5evHWubop3YWN208W6hbahql1OkN6NWVlvYLgMUly27+FgQQwyCCMVon4h3U0l89/o2l3hvTGJPNE67Y0ACRDZKvyDA4Oc981yNFLYN9TYvfEU13o8mmx2ltawzXjXk32dCu9zkKuM4CKCQAOmTWjN4/1G4s2guLOxlaaKGC6nKyCS6iiOVRyHxjgZKgE4HNctRQH9fqdTfeOP7R1GC8n8PaQkkM6Tt5aTHzNgwsZ3yNtjHHyrtHAqnaeLdQttQ1S6nSG9GrKy3sFwGKS5bd/CwIIYZBBGKwqKAOuPxDuppL57/RtLvDemMSeaJ12xoAEiGyVfkGBwc575rJvfEU13o8mmx2ltawzXjXk32dCu9zkKuM4CKCQAOmTWPRQGx1jfELUZLcx3Fjp87SRQwXMsiSb7qKI5RJMOBjgZ2gE7Rk0lz46a71m31N9A0lLiC4+0kokreY4XChi8jHYuAQi4HFcpRR1uFlaxt6f4qvbGTU/Pigv4tUwbyG6DFZWD7w2VZWBDc5B7mtQ/EO6me9fUdF0m/kvp1mmedZhu2fcTCSqCi4GFII45zXIUUBua174gmvNEi0tLe3trdbmS6kEKlfNkbgEjOAFXgAdOfWsmiigYUUUUCPQPgb/yWfQv+3j/ANJ5K+v6+QPgb/yWfQv+3j/0nkr6/oEwooooEFFFFABRRRQAUUUUAFFFFABRRRQAUUUUAFFFFAHyB8cv+Sz67/27/wDpPHXn9egfHL/ks+u/9u//AKTx15/QUenafrf9o+CdZ1pNH0r7XaXljDbA6fC5VcFSu4pk7to5PNO1L4WzXfiH97qC2c95qDRSwSW2xUZozLiElh5q5BTPy84rjdP8V3Gm+GLvRILCzaK7lSZ7h/N80OmdhBDhRjP9365q/e/EG61DVP7RutE0drqRStzKIHBucoUyx38HBzlNvOD2FN2bv/Wy/wAmTFNL+vM0dY8HaNo/gW/vJJ75tSt9TS1DTWZhK5hLmNkL8cnlufujGQc0vwm8OWus67Pc6pp8l9YwKsDRpEZMPMdgYjB4Ubmz22g1max8Q9T17Tb2y1S0sp4rqWOVSVkDQMkflqUO/n5f7+7NZi+I5E8OQaPHY2iRRXQuzMpkEkjgY+Y78YxxwBjtyTQrXd/L9E/1G/hSR1CaX/ZPw88XWl5Z2jXum6jDbLO9rG0iAswbDldwB2jvx2q7oWnWetQaPLqNhaPFY6LdalLDDaxxNdvFLIqq7IAWGAufXB9c1hXfxJv76/1O4utJ0qSPVo0S9tikvlzMn3X/ANZuDj1Uis5PGeqW/iC11awEFm9nEIILeFD5KRc5jwxJYHLZySTk80tba7/8C356j0/r1v8A8AkttTbxHu0i6ttFs5LqVWhvWgis1tsZyC6KMqRxznnFc667JGTKttJGVOQfoa6S38ZrZrKtp4b0SOOeVZJ4zHM6yhSSEIaU4XPOBjkD0rm3bfIzBQu4k7V6D2FIY2iiimIKKKKACiiigAooooAKKKKACiiigDqfDOl2DeF9e13UbRL7+zhBHDbSO6oWlfBZtjK3AU8A9TUvibTtK8J/EC4g/s4ahp4iWWK0mndQPMiDKGZSGIUsOhBOOtY+i+IbjRbe9tlt7e7tL5FS4trkNsfa25T8rKwII7HuavXHjS4vtU+36npmnXdz9tF2ZHiYMdqhViyG/wBWMD5evHWnpf8Ar+vMXRm7P4d03UNc06zfTYNIS0t0uNYa1klIUyMNkQ812w+Ci9fvMfStiT4e6PDr2tyn7JFAmqnTNLs724lSJ5du753XL4AIwMjJPLCuBs/F2s2OvT6tb3s6T3M/nXCJPJGsxyThtjAkZJ4zW1efFHWNRvJp9RsrC7WS7S8SGYTMkEyDAZP3mQMfwklfajTT+t2v0ukGuv8AXf8AU6C28C6ZBf6RoOraYkeo6vBeSyzrNJm0dC4RUG7aVBj53Bic9afqPgfQYPBsOoxWTsjRWJMsDStdo0jYlMsRO0KRnYQvPy4zmuTHxG1sx7p1tZ7xBcCG+kRvOgE5JkC4YLzk4ypxk4pz/EnWirPDFaQXkkcEU17GjebMsJBQMCxX+Fc4UZxQvPy/N/8AABrXT+tv+CdB498JaN4bgsrmDTY2hfU5IgbO4lKvAAMJKXJKTZzkADoeKfdeCtKXxr4usdL01byXS4Y30/Smmk/fZ2bzkMHbaCTgHv8AhXJ6r42u9WjMMun2MNvJfNqE8EIlCzzEYLNlyR34Ugc0l/4zl1LxXN4gvdH0ua7lwTG6SmIOAAH2mTk4A4OV9qS6X/rRf8H/AIA35f1qdpb+EPDtt8TpNButNtWt51hl2XeoPG8G+MHyYgGBaTcwALEjGM+tY+h+CbMaH4iutdhkS7gsLiaxtWfDJ5ThDI+Dz8x2gdCQ3oKwbfxneR30uoXVlY32pvc/akv7lHMsUmONu1gpAwCFZSBjpVrR/iV4j0eG9iF5LeLeRNEftNzMfKDHJKBXUK2e/Wjp52f/AAP6/UOv3f8AB+83rHwZZ+JtJsrbwvDo00uy1S+uBPcm7t3kK7nKFhEVBOPlB/A1bb4c6bqGowtp8lmnh21af7XqcNxI858lcusisAqMeo2qQAc5bvyFv45vtP2totlY6VNuhaWa0Rw0/lEFd252HUAnaBk9atR/EnVbebNlZafa20k001xaRxuYrlpV2vvDOTjHAAIA7U35ef8AXpuJef8AXf5m7pnhLTJfiRo9jqOlWcmj6rAz2rWF5M0cqgMdxd8MWG3BGE+grN+HfhCw1zVzLrysbJjNFbQhipnlWNnPIOdqgAkjuVHc1nWfj/ULHXNN1KCxsQNLgMFlakSeVCDnJ+/uJO48lj1+lN8O/EDWvDGoNcaY+IDvK2LzzfZ0LDBIQSDJ56kn160tNfn/AMAf/A/4JpaVoen6p4LH9kW2kXusR2s1xdx3E9ytyihmwY1VhGcKM4OTz0NcLXQt4xuRBN9m0+ytryeJ4Zr+PzTPIjklgSzkEnON2N2O9c9Q97h0CiiigD0D4G/8ln0L/t4/9J5K+v6+QPgb/wAln0L/ALeP/SeSvr+gTCiiigQUUUUAFFFFABRRRQAUUUUAFFFFABRRRQAUUUUAfIHxy/5LPrv/AG7/APpPHXn9fW/iv4H+G/GHie713U73VYrq62b0t5Y1QbUVBgGMnoo71kf8M1eD/wDoJa5/3/h/+NUDufL9FfUH/DNXg/8A6CWuf9/4f/jVH/DNXg//AKCWuf8Af+H/AONUDufL9FfUH/DNXg//AKCWuf8Af+H/AONUf8M1eD/+glrn/f8Ah/8AjVAXPl+ivqD/AIZq8H/9BLXP+/8AD/8AGqP+GavB/wD0Etc/7/w//GqAufL9FfUH/DNXg/8A6CWuf9/4f/jVH/DNXg//AKCWuf8Af+H/AONUBc+X6K+oP+GavB//AEEtc/7/AMP/AMao/wCGavB//QS1z/v/AA//ABqgLny/RX1B/wAM1eD/APoJa5/3/h/+NUf8M1eD/wDoJa5/3/h/+NUBc+X6K+oP+GavB/8A0Etc/wC/8P8A8ao/4Zq8H/8AQS1z/v8Aw/8AxqgLny/RX1B/wzV4P/6CWuf9/wCH/wCNUf8ADNXg/wD6CWuf9/4f/jVAXPl+ivqD/hmrwf8A9BLXP+/8P/xqj/hmrwf/ANBLXP8Av/D/APGqAufL9FfUH/DNXg//AKCWuf8Af+H/AONUf8M1eD/+glrn/f8Ah/8AjVAXPl+ivqD/AIZq8H/9BLXP+/8AD/8AGqP+GavB/wD0Etc/7/w//GqAufL9FfUH/DNXg/8A6CWuf9/4f/jVH/DNXg//AKCWuf8Af+H/AONUBc+X6K+oP+GavB//AEEtc/7/AMP/AMao/wCGavB//QS1z/v/AA//ABqgLny/RX1B/wAM1eD/APoJa5/3/h/+NUf8M1eD/wDoJa5/3/h/+NUBc+X6K+oP+GavB/8A0Etc/wC/8P8A8ao/4Zq8H/8AQS1z/v8Aw/8AxqgLny/RX1B/wzV4P/6CWuf9/wCH/wCNUf8ADNXg/wD6CWuf9/4f/jVAXPl+ivqD/hmrwf8A9BLXP+/8P/xqj/hmrwf/ANBLXP8Av/D/APGqAufL9FfUH/DNXg//AKCWuf8Af+H/AONUf8M1eD/+glrn/f8Ah/8AjVAXPl+ivqD/AIZq8H/9BLXP+/8AD/8AGqP+GavB/wD0Etc/7/w//GqAueP/AAN/5LPoX/bx/wCk8lfX9eb+FPgf4b8H+J7TXdMvdVlurXfsS4ljZDuRkOQIwejHvXpFAmFFFFAgooooAKKKKACiiigAooooAKKKKACiiigAqpquqWmiaVcalqUjR2ltGZJnSJpCigZJ2qCePpVuuc+If/JNPEn/AGC7j/0W1J6IuEeaSi+pp2OuWOoXQt7ZpxKYhMomtZYtyZxkF1APUdPUVoVwetXHiLRvh/rGqnUbUSWujCWyltrQI0UiqzNkOXDA4T246Vbj1jUL3xDf6Y17c2sem6fBcBoI4jLdGQNuf51K4XbjAA5z7CrkrXM43aT7/wDA/wAzsaK4ex1+7vdW8HNb6rNLYarYzySM9vGn2llRGRiNuVJBY4BH04qDWdY1ix07SpbfU72U3Ouy2snkwwF5IQZcKoKY48sc9Tz1qXpv/Wtikrq/9bN/od/RXnR8Ra1N4R8J3sOpSyTalqIhma2ihDyxMJSFYOu1XAVQ2MYYNXa6HJPLpETXkzy3GW8zzNm9DuPyNsAXK9OB2p238hdvP/g/5FsXVu101ss8ZuFXe0QcbgvqR1xVe21nTLzUbjT7PUbS4vbXH2i2inVpIc9Nyg5X8a5+2ijj+MN8yIql9EhLEDG4+fJyfWqk9vPafETSL61/s+6sZ7S5t7YW8Jja0XAkaRmDkSKWVV6LgkeppLZN+f4X/wAhvRten4pP9TuKztI17T9c+1f2a8z/AGSYwTebbSRbZB1X51Gce2ak0ee4udFtJ72a0nuJIlaSWxJMLtjkoSSdvpXO+ELqGztfEc9zII41124BY+pKgD8SQKPtNPt+qX6kvZPz/Rv9Dr6K82s/F2t3Gi6RryTs7X2tGwn0oxIBEhlaPAONwdAu4ksR97jGMT6Pq/iHXdWsWhv7yOIX11HqEcVtH5EUcbMIwkrRncSQgOGJ+Zvu44dr/wBen+Y3p/Xr/kd3ZXsGoWq3NozNEzMoLIyHIJB4YA9Qadc3MVpazXE7ERwoZHKqWIUDJ4GSenQV5k/jDXovCVtqM15LJFFLf/bp7SKEzxRxTtGkvlsMPGoHzBfm6Y71dtpr2DV/Ht/bavc74I45LdHSMqv+jB1IBTOAcjGfXOTzUy91N9rlRV2kehRSrPCksZJSRQykgjg89DyKfXC6b4gu9cnNlNrjaRNaabaXjyIkOZ/MUs7nzFI2ZXHy4xzyOK3vGd/daX4G1nUdOn8m6tLKWeGTaGwyqWHBBBHFVNctyaf7y1upuUV57dat4jtNR0fRhq0c1zq1tNdC6m8u2CsqxgQx/unB+8zYIJwOvFV9Q13xTIbnTba/3atBpttLb/2XbrNDcTOzBy7MjbFyoxnbwSeccFv6/r0FfS56VRXCG+1+PxhrFqusTy2ej2Frdi3+zRGS5ZhLuUsFGA3ljoAc9MDiqema94pv/DQ1iLU9JlF9p6SWsK3Kk+ezqMLmJdo+bZhi+G2575P6/r7g/r8v8z0eoIL2C4urm3iZjLbMqygowAJGRgkYPB7Zrzi98Zaonh+K+huNQWG3a6/tINb2/wBss9jAAtH9ySNCSGKckbSO+bGr+L9VsNW1K2ius276hp9rDOYV/wBEjuB8z9OewG7OCRnPOS23mN6fj+H9ep6NRXnGteI9f0yHxVZwXzO2lG0ktb54Yyf3xw0TAAKSvXIAOGGfU7/h+91FPGeu6Nf6hJfw2sNtcwSTRxo6eb5gKfIqgqPLGMjPPJNCVxN2Ooork/EF3qr+N9K0ew1WWwtr2wupZGhhid1eMx7WUurAffPUEe1YWieJteaDwtqV5fvejWLWcT2SwRogeONnVkIG4MduCCxHPAFLpf8Arr/kU1Y9JqldavZWWo2VjdTGO5vmZLZNjESFVLEZAwOATya4XTPFutPp/hDVmma+XXi4urFYkAt/3TyfIQA3yFNp3E5z61Ri1qfXLrwB4hmvnme7nuJWsEEeyF/ssuUGF37lI28t1J46Yq1r36bk9ND0vU9TtNH0u41HUZDFa2yGSWQIz7FHU4UE4FWIpFmhSWM5R1DKcdQa8muda17xB8MNU1e9vdPNhfaBdSNaRzh5I5dmcKPLUrtyysGZjnHvn0uGdbXw3HcPIsaxWgcuykhQEzkgckUmuVNvp/wf8irXtbrf9P8AM0CQASTgDqTVDTNbsdXaYWEkjiEgFngkjVwRkMjMoDqR/EuR7159H4h1PVLbxLYy6lcPbtoEd/bSvHCjqXEoOwKDhCEBAfLDJ59E0yG8tvE/g4nV76VF8OzzeTiHD7TbnZgRjqDjPXjgjnJbVp/1v/kLtb+tv8z1GivNtH8ReJdV8LN4gbUrCK3n0qa4WCKVZJIp1AYBVMS4C8qwZnOcdK63wiNSk8PWt5rGptqE95DFP/qEiWLMa5VQo6ZyeSTzRbddv+D/AJCutPP9Lf5lu717T7G/is7iWTz5GVQI4HkCFjhd7KpCZI4LEZrRryi7utU0jV/FuoWOs3aOmvafCY2jhZGSRbdWU5jyPlcgYI9evNX/ABNrmvWTeMLqz1mSGPQo4Lm3gFvEVkBQs0bkqSVPsQR60JXSff8AyT/UqSsz0ignHWuDu/EGvah4s1PTtKurGwTS2tmK3U4XzY3AZnKmNiVOSgIZeVNSePNSv7v4c+K0Om6no5trCYx3UkluROAp+5skdgCB/EFOD2PRBFXaR3FFcLLqeoadryacdblNudAluleVIQwlR1AbIQA4DYx0qpputa7rP/CH2/8AbUtr/bGgyXV1NDBCX81VhIddyFRzIeMEe1O2l1/Xxf8AyLJi76f1sn+p30t7BDfQWkjMJrhWaMBGIIXGckDA6jqRntU9cBoPiTWNQbwebq8z/aMV0t2FiQCVogQr9PlORnA4qno/iDX2/wCEdvrvWHuUv9Yu9Nntmt4ljKI0+xwQoYMPKUdcEZ4zzRYE7q/9bXPS6K8+8N6xr2u6lpdyb+7W1/0k6lGLaNbeNkfaiRymP5xnIyrEkDOR372CeG6t0ntpUmhkG5JI2DKw9QR1pdB9bElFFFABRRRQAUUUUAFFFFABRRRQAUUUUAFQXtjaalZyWmo2sN3bSjEkM8YdHHoVPBqeigCpJpOnTaWdNlsLV7ArsNq0KmIr6bMYx7Yptxo2l3aQpd6bZzrAu2JZYFYRjGMLkcDHpV2igCjcaJpV3Yw2V1plnNaQY8qCS3Vo48cDapGBj2p02j6ZcR2yT6daSpaENbK8CkQkDAKAj5ePSrlFAGbL4c0SfHn6Pp8mJjON9qhxKer8j7x9etXLSztrC3EFjbxW0IJYRwoEUEnJOBxyST+NTUUAUl0XS11U6oum2Y1Bl2m7EC+aV9N+M4/Gm2GhaRpRuDpml2Vn9qYtP9nt0j80nqWwBuP1q/RQBDa2ltY2kdrZW8VtbxKEjhhQIiL6BRwBVCLwt4fhk3w6FpsbmYT7ks4wfMByHzj72QDnrWrRR1uBUTSdOjvmvYrC1S7cktcLCokJIxktjPQYrh9J+Hbx6rDc6ppWhx3Vvem7OtWeRd3eWY7XXyxsByARvYEAjAzx6HRQtHcHqrGYnhnQYo4449E05EjdnRVtIwEZjliBjgkjJPepbjQ9Jurma4utLspp54vImlkt0ZpI/wC4xIyV9jxV6igDNfw5obtZs+jaezWP/HoTaoTb/wC5x8v4Yq5eWVrqFnJaX9tDdW0q7ZIZ4w6OPQqeCKmooDYz7vQdH1DT4rG/0qxurOEgx281sjxoR0IUjAxXJ+IfAkmteI7me60Xw/qtncWyQQTX6kTaeFBz5aiNg/J3feQ9s9K7yijcNjN0zQNO0ry5ILWE3YgSCS8aNfOmVBgb3xlvxoi8N6HBHdpBo2nxpenddKlqgE59XAHzfjmtKim3d3YkrKyKD6DpEkcKSaVZMkBJhU2yER5OTtGOMnnilOh6S0t1K2l2ZkvV23Tm3TM49HOPmH1q9RSGUH0LSJNPaxk0uyezZt5t2t0MZb124xn3qWDS9Ptr6W8trG2huplVJJ44VV3UdAWAyQOwq1RQBUn0rTrm9S8ubC1muo0aNJ5IVZ1RuqhiMgHuO9QweHdEtvsv2bR7CH7GSbby7VF8jPXZgfLn2rRooAqW+ladaXT3NrYWsE8md8scKqzZOTkgZOTUEXhvQ4bxruHRtPjuXl85pktUDs/TeWxnd79a0qKAMv8A4RjQf9M/4kmm/wCn/wDH3/okf+k/9dOPn/HNaEVvDBbrbwQxxwou1Y0UBVHoAOMVJRQBlReFvD8EJih0LTY42jaIolnGFKMcsuMdCeSO9Tf2FpO2zX+y7LFic2g+zp/o56ZTj5fwxV+igDNTw5okbXhj0bT0N/8A8fZW1QfaP+unHzfjmrtra29lax21lBHbwRjakUSBFQegA4FS0UAZsnhvQ5vP87RtPk+0SLNNutUPmuv3WbjlhjgnkUsvh3RZxdCfR7CUXgAuQ9qh8/HTfkfNj3rRooAoS6FpFxe2t5PpVlLdWY220726F4B6IxGV/CrksUc8LwzxrJFIpV0dcqwPUEHqKfRQBmN4Z0F4LSF9E05orLP2WM2kZW3z12DHy/hinpoGjxywyx6TYrJbxmOF1tkBjQ9VU44B7gVoUUAZkXhvQ4DbmDRdPjNru+z7LVB5O7723A+XPfHWhfDeixxQpBo+nxC3kaaDbaIBDIerqMcMc8kcmtOigDzzw98O2s7+yudU0nQ4LyymaWTVbDP2jUCwYN5g8tdoYtkruccYGK761tLextIrWxt4ra3hUJHDCgREUdAAOAKlop3Dd3CiiikAUUUUAFFFFABRRRQAUUUUAFFFFABRRRQAUUUUAFFFFABRRRQAUUUUAFFFFABRRRQAUUUUAFFFFABRRRQAUUUUAFFFFABRRRQAUUUUAFFFFABRRRQAUUUUAFFFFABRRRQAUUUUAFFFFABRRRQAUUUUAFFFFABRRRQAUUUUAf/Z\" />"
   ]
  }
 ],
 "metadata": {
  "kernelspec": {
   "display_name": "Python 3 (ipykernel)",
   "language": "python",
   "name": "python3"
  },
  "language_info": {
   "codemirror_mode": {
    "name": "ipython",
    "version": 3
   },
   "file_extension": ".py",
   "mimetype": "text/x-python",
   "name": "python",
   "nbconvert_exporter": "python",
   "pygments_lexer": "ipython3",
   "version": "3.9.13"
  }
 },
 "nbformat": 4,
 "nbformat_minor": 2
}
